{
  "nbformat": 4,
  "nbformat_minor": 0,
  "metadata": {
    "colab": {
      "provenance": [],
      "authorship_tag": "ABX9TyMALUFpBNMqbfUDte70ZMVq",
      "include_colab_link": true
    },
    "kernelspec": {
      "name": "python3",
      "display_name": "Python 3"
    },
    "language_info": {
      "name": "python"
    }
  },
  "cells": [
    {
      "cell_type": "markdown",
      "metadata": {
        "id": "view-in-github",
        "colab_type": "text"
      },
      "source": [
        "<a href=\"https://colab.research.google.com/github/chitwan6804/Data_mining/blob/main/Basics_II.ipynb\" target=\"_parent\"><img src=\"https://colab.research.google.com/assets/colab-badge.svg\" alt=\"Open In Colab\"/></a>"
      ]
    },
    {
      "cell_type": "markdown",
      "source": [
        "#  ***Lists***"
      ],
      "metadata": {
        "id": "2A_z6u6Uy17u"
      }
    },
    {
      "cell_type": "code",
      "execution_count": null,
      "metadata": {
        "id": "zD2JPv7mysZf"
      },
      "outputs": [],
      "source": [
        "list1=[1,2,\"Rohan\",69.26]"
      ]
    },
    {
      "cell_type": "code",
      "source": [
        "list1[0]"
      ],
      "metadata": {
        "colab": {
          "base_uri": "https://localhost:8080/"
        },
        "id": "k4jIS__q2rt-",
        "outputId": "45f9f1af-6a43-44f8-f922-f68f64f7df31"
      },
      "execution_count": null,
      "outputs": [
        {
          "output_type": "execute_result",
          "data": {
            "text/plain": [
              "1"
            ]
          },
          "metadata": {},
          "execution_count": 2
        }
      ]
    },
    {
      "cell_type": "code",
      "source": [
        "list1[2:-1]"
      ],
      "metadata": {
        "colab": {
          "base_uri": "https://localhost:8080/"
        },
        "id": "1Zeok4C12wQe",
        "outputId": "80cf97f3-e7b4-4cbe-da6f-ef09c5e8391d"
      },
      "execution_count": null,
      "outputs": [
        {
          "output_type": "execute_result",
          "data": {
            "text/plain": [
              "['Rohan']"
            ]
          },
          "metadata": {},
          "execution_count": 3
        }
      ]
    },
    {
      "cell_type": "code",
      "source": [
        "list1[1:-1]"
      ],
      "metadata": {
        "colab": {
          "base_uri": "https://localhost:8080/"
        },
        "id": "BPz59oRP2y5-",
        "outputId": "1f7117ea-e281-4c87-ccda-9eca42269f9f"
      },
      "execution_count": null,
      "outputs": [
        {
          "output_type": "execute_result",
          "data": {
            "text/plain": [
              "[2, 'Rohan']"
            ]
          },
          "metadata": {},
          "execution_count": 4
        }
      ]
    },
    {
      "cell_type": "code",
      "source": [
        "list1[1:]"
      ],
      "metadata": {
        "colab": {
          "base_uri": "https://localhost:8080/"
        },
        "id": "V5xD1Veo225c",
        "outputId": "e44f9924-3292-4000-e93c-762d89f5978f"
      },
      "execution_count": null,
      "outputs": [
        {
          "output_type": "execute_result",
          "data": {
            "text/plain": [
              "[2, 'Rohan', 69.26]"
            ]
          },
          "metadata": {},
          "execution_count": 5
        }
      ]
    },
    {
      "cell_type": "code",
      "source": [
        "list1[1]=9\n",
        "list1"
      ],
      "metadata": {
        "colab": {
          "base_uri": "https://localhost:8080/"
        },
        "id": "-LDuL6RT25Qn",
        "outputId": "bd0fe283-515e-4d5f-80e4-bc20f5c2c847"
      },
      "execution_count": null,
      "outputs": [
        {
          "output_type": "execute_result",
          "data": {
            "text/plain": [
              "[1, 9, 'Rohan', 69.26]"
            ]
          },
          "metadata": {},
          "execution_count": 7
        }
      ]
    },
    {
      "cell_type": "code",
      "source": [
        "del list1[1]"
      ],
      "metadata": {
        "id": "RpIzGAM428yd"
      },
      "execution_count": null,
      "outputs": []
    },
    {
      "cell_type": "code",
      "source": [
        "list1"
      ],
      "metadata": {
        "colab": {
          "base_uri": "https://localhost:8080/"
        },
        "id": "SxkySWqW3BeH",
        "outputId": "b15b66e1-0a9d-45b2-8ad3-89219c5e3775"
      },
      "execution_count": null,
      "outputs": [
        {
          "output_type": "execute_result",
          "data": {
            "text/plain": [
              "[1, 'Rohan', 69.26]"
            ]
          },
          "metadata": {},
          "execution_count": 9
        }
      ]
    },
    {
      "cell_type": "code",
      "source": [
        "list1=[1,2,3,4]\n",
        "list2=[1,2,3,4]\n",
        "list3=list1+list2"
      ],
      "metadata": {
        "id": "h5Sdg_HC3Cab"
      },
      "execution_count": null,
      "outputs": []
    },
    {
      "cell_type": "code",
      "source": [
        "list3"
      ],
      "metadata": {
        "colab": {
          "base_uri": "https://localhost:8080/"
        },
        "id": "62itm_3p3JEC",
        "outputId": "c4aad015-dac5-4c1b-e321-5c6c88614206"
      },
      "execution_count": null,
      "outputs": [
        {
          "output_type": "execute_result",
          "data": {
            "text/plain": [
              "[1, 2, 3, 4, 1, 2, 3, 4]"
            ]
          },
          "metadata": {},
          "execution_count": 11
        }
      ]
    },
    {
      "cell_type": "code",
      "source": [
        "list3=['Hi!']*4\n",
        "list3"
      ],
      "metadata": {
        "colab": {
          "base_uri": "https://localhost:8080/"
        },
        "id": "y_-Ey1bX3KxQ",
        "outputId": "b11e73f0-58a4-4d9b-bf58-011ba4ba4c6c"
      },
      "execution_count": null,
      "outputs": [
        {
          "output_type": "execute_result",
          "data": {
            "text/plain": [
              "['Hi!', 'Hi!', 'Hi!', 'Hi!']"
            ]
          },
          "metadata": {},
          "execution_count": 12
        }
      ]
    },
    {
      "cell_type": "code",
      "source": [
        "list3.append('Hiiiiiiiii!')\n",
        "list3"
      ],
      "metadata": {
        "colab": {
          "base_uri": "https://localhost:8080/"
        },
        "id": "bvz_rpmY3Pp3",
        "outputId": "7d0787a4-259d-4150-b5a1-0b21b413aba5"
      },
      "execution_count": null,
      "outputs": [
        {
          "output_type": "execute_result",
          "data": {
            "text/plain": [
              "['Hi!', 'Hi!', 'Hi!', 'Hi!', 'Hiiiiiiiii!']"
            ]
          },
          "metadata": {},
          "execution_count": 13
        }
      ]
    },
    {
      "cell_type": "code",
      "source": [
        "list3.pop(2)"
      ],
      "metadata": {
        "colab": {
          "base_uri": "https://localhost:8080/",
          "height": 36
        },
        "id": "7MHDcJb53_v3",
        "outputId": "bc1e2fb6-57da-4a1c-b6e1-c0d597fc61e9"
      },
      "execution_count": null,
      "outputs": [
        {
          "output_type": "execute_result",
          "data": {
            "text/plain": [
              "'Hi!'"
            ],
            "application/vnd.google.colaboratory.intrinsic+json": {
              "type": "string"
            }
          },
          "metadata": {},
          "execution_count": 14
        }
      ]
    },
    {
      "cell_type": "code",
      "source": [
        "list3"
      ],
      "metadata": {
        "colab": {
          "base_uri": "https://localhost:8080/"
        },
        "id": "Xmvkaom14Ffw",
        "outputId": "2861b62d-ba33-4b21-fad2-533422d2cb1a"
      },
      "execution_count": null,
      "outputs": [
        {
          "output_type": "execute_result",
          "data": {
            "text/plain": [
              "['Hi!', 'Hi!', 'Hi!', 'Hiiiiiiiii!']"
            ]
          },
          "metadata": {},
          "execution_count": 15
        }
      ]
    },
    {
      "cell_type": "code",
      "source": [
        "list1 = [\"Rohan\", \"Physics\", 21, 69.75]\n",
        "\n",
        "list1.insert(2, 'Chemistry')\n",
        "print (\"List after appending: \", list1)\n",
        "\n",
        "list1.insert(-1, 'Pass')\n",
        "print (\"List after appending: \", list1)"
      ],
      "metadata": {
        "colab": {
          "base_uri": "https://localhost:8080/"
        },
        "id": "dYYbzUkl4Hwq",
        "outputId": "84702ffd-155b-4dc1-b616-f662ff1b4f97"
      },
      "execution_count": null,
      "outputs": [
        {
          "output_type": "stream",
          "name": "stdout",
          "text": [
            "List after appending:  ['Rohan', 'Physics', 'Chemistry', 21, 69.75]\n",
            "List after appending:  ['Rohan', 'Physics', 'Chemistry', 21, 'Pass', 69.75]\n"
          ]
        }
      ]
    },
    {
      "cell_type": "code",
      "source": [
        "# Original list\n",
        "list1 = [1, 2, 3]\n",
        "# Another list to extend with\n",
        "another_list = [4, 5, 6]\n",
        "\n",
        "list1.extend(another_list)\n",
        "print(\"Extended list:\", list1)"
      ],
      "metadata": {
        "colab": {
          "base_uri": "https://localhost:8080/"
        },
        "id": "NVo_jwi24MPv",
        "outputId": "e265aa79-cc04-4e5f-cfbb-b409c1012cd0"
      },
      "execution_count": null,
      "outputs": [
        {
          "output_type": "stream",
          "name": "stdout",
          "text": [
            "Extended list: [1, 2, 3, 4, 5, 6]\n"
          ]
        }
      ]
    },
    {
      "cell_type": "code",
      "source": [
        "list1 = [\"Rohan\", \"Physics\", 21, 69.75]\n",
        "list1.remove(\"Physics\")\n",
        "print (\"List after removing: \", list1)\n"
      ],
      "metadata": {
        "colab": {
          "base_uri": "https://localhost:8080/"
        },
        "id": "__XHbSra4UYe",
        "outputId": "050afafa-1b86-4518-df6a-9d50aa486f20"
      },
      "execution_count": null,
      "outputs": [
        {
          "output_type": "stream",
          "name": "stdout",
          "text": [
            "List after removing:  ['Rohan', 21, 69.75]\n"
          ]
        }
      ]
    },
    {
      "cell_type": "code",
      "source": [
        "list1.clear()\n"
      ],
      "metadata": {
        "id": "WXU5G5Hr4a_l"
      },
      "execution_count": null,
      "outputs": []
    },
    {
      "cell_type": "code",
      "source": [
        "list1"
      ],
      "metadata": {
        "colab": {
          "base_uri": "https://localhost:8080/"
        },
        "id": "LjDImzjI4o1N",
        "outputId": "b951b3cd-38e5-4909-82fe-d74b522767d2"
      },
      "execution_count": null,
      "outputs": [
        {
          "output_type": "execute_result",
          "data": {
            "text/plain": [
              "[]"
            ]
          },
          "metadata": {},
          "execution_count": 21
        }
      ]
    },
    {
      "cell_type": "code",
      "source": [
        "lst = [25, 12, 10, -21, 10, 100]\n",
        "for num in lst:\n",
        "   print (num, end = ' ')"
      ],
      "metadata": {
        "colab": {
          "base_uri": "https://localhost:8080/"
        },
        "id": "4VDsbBDL4rQL",
        "outputId": "cde933fc-4476-4065-ad9a-d884d5bbb560"
      },
      "execution_count": null,
      "outputs": [
        {
          "output_type": "stream",
          "name": "stdout",
          "text": [
            "25 12 10 -21 10 100 "
          ]
        }
      ]
    },
    {
      "cell_type": "code",
      "source": [
        "index=0\n",
        "while index<len(lst):\n",
        "  print(lst[index])\n",
        "  index+=1"
      ],
      "metadata": {
        "colab": {
          "base_uri": "https://localhost:8080/"
        },
        "id": "5J6n7Uuw5F-b",
        "outputId": "355ddf6f-59cf-498d-f049-67de7dd7ce10"
      },
      "execution_count": null,
      "outputs": [
        {
          "output_type": "stream",
          "name": "stdout",
          "text": [
            "25\n",
            "12\n",
            "10\n",
            "-21\n",
            "10\n",
            "100\n"
          ]
        }
      ]
    },
    {
      "cell_type": "code",
      "source": [
        "lst = [25, 12, 10, -21, 10, 100]\n",
        "for num in lst:\n",
        "   print (num, end = ' ')"
      ],
      "metadata": {
        "colab": {
          "base_uri": "https://localhost:8080/"
        },
        "id": "Qa0yjpSD5Vpg",
        "outputId": "9050c6bc-f61d-479d-8adc-9dd70ef660ad"
      },
      "execution_count": null,
      "outputs": [
        {
          "output_type": "stream",
          "name": "stdout",
          "text": [
            "25 12 10 -21 10 100 "
          ]
        }
      ]
    },
    {
      "cell_type": "code",
      "source": [
        "index=range(len(lst))\n",
        "for i in index:\n",
        "  print(\"lst[{}]:\".format(i),lst[i])"
      ],
      "metadata": {
        "colab": {
          "base_uri": "https://localhost:8080/"
        },
        "id": "tm-hU8pyJZAV",
        "outputId": "12d550fa-25f3-4adb-8919-642669951335"
      },
      "execution_count": null,
      "outputs": [
        {
          "output_type": "stream",
          "name": "stdout",
          "text": [
            "lst[0]: 25\n",
            "lst[1]: 12\n",
            "lst[2]: 10\n",
            "lst[3]: -21\n",
            "lst[4]: 10\n",
            "lst[5]: 100\n"
          ]
        }
      ]
    },
    {
      "cell_type": "code",
      "source": [
        "numbers=[1,2,3,4,5]\n",
        "sq_num=[num**2 for num in numbers]\n",
        "print(sq_num)"
      ],
      "metadata": {
        "colab": {
          "base_uri": "https://localhost:8080/"
        },
        "id": "-i24_NelJrcZ",
        "outputId": "ab0965cc-b2e0-44fb-a7b5-c16dffb7d578"
      },
      "execution_count": null,
      "outputs": [
        {
          "output_type": "stream",
          "name": "stdout",
          "text": [
            "[1, 4, 9, 16, 25]\n"
          ]
        }
      ]
    },
    {
      "cell_type": "code",
      "source": [
        "fruits = [\"apple\", \"banana\", \"cherry\"]\n",
        "for index, fruit in enumerate(fruits):\n",
        "   print(index, fruit)"
      ],
      "metadata": {
        "colab": {
          "base_uri": "https://localhost:8080/"
        },
        "id": "0iJnDSyxKJX8",
        "outputId": "080fef5c-8731-493a-dc0f-4df7dfe0aff8"
      },
      "execution_count": null,
      "outputs": [
        {
          "output_type": "stream",
          "name": "stdout",
          "text": [
            "0 apple\n",
            "1 banana\n",
            "2 cherry\n"
          ]
        }
      ]
    },
    {
      "cell_type": "code",
      "source": [],
      "metadata": {
        "id": "j-weVFvPKoaU"
      },
      "execution_count": null,
      "outputs": []
    }
  ]
}