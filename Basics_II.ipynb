{
  "nbformat": 4,
  "nbformat_minor": 0,
  "metadata": {
    "colab": {
      "provenance": [],
      "authorship_tag": "ABX9TyPrluqRLJI7SFNCUiE+Nnhj",
      "include_colab_link": true
    },
    "kernelspec": {
      "name": "python3",
      "display_name": "Python 3"
    },
    "language_info": {
      "name": "python"
    }
  },
  "cells": [
    {
      "cell_type": "markdown",
      "metadata": {
        "id": "view-in-github",
        "colab_type": "text"
      },
      "source": [
        "<a href=\"https://colab.research.google.com/github/chitwan6804/Data_mining/blob/main/Basics_II.ipynb\" target=\"_parent\"><img src=\"https://colab.research.google.com/assets/colab-badge.svg\" alt=\"Open In Colab\"/></a>"
      ]
    },
    {
      "cell_type": "markdown",
      "source": [
        "#  ***Lists***"
      ],
      "metadata": {
        "id": "2A_z6u6Uy17u"
      }
    },
    {
      "cell_type": "code",
      "source": [
        "list1=[1,2,\"Rohan\",69.26]\n",
        "#accessing elements of list\n",
        "print(\"Acessing elemts of list:\")\n",
        "print(list1[0])\n",
        "print(list1[2:-1])\n",
        "print(list1[1:-1])\n",
        "print(list1[1:])\n",
        "\n",
        "# Updating values in the list\n",
        "print(\"\\nUpdating values in the list:\")\n",
        "list1[0]=10\n",
        "print(list1)\n",
        "\n",
        "#Deleting List Elements\n",
        "print(\"\\nDeleting List Elements:\")\n",
        "del list1[0]\n",
        "print(list1)\n",
        "\n",
        "#Concatenation of 2 lists\n",
        "print(\"\\nConcatenation of 2 lists:\")\n",
        "list2=[1,2,3,4]\n",
        "list3=list1+list2\n",
        "print(list3)\n",
        "\n",
        "#Repetition in list\n",
        "print(\"\\nReptition in list\")\n",
        "list3=['Hi!']*4\n",
        "print(list3)\n",
        "\n",
        "#pop the last element:\n",
        "print(\"\\nPop the last element:\")\n",
        "print(list3.pop(2))\n",
        "print(list3)\n",
        "\n",
        "#Appending the list\n",
        "print(\"\\nAppending the list:\")\n",
        "list1 = [\"Rohan\", \"Physics\", 21, 69.75]\n",
        "list1.insert(2, 'Chemistry')\n",
        "list1.insert(-1, 'Pass')\n",
        "print (\"List after appending: \", list1)\n",
        "\n",
        "#Extend the list\n",
        "print(\"\\nExtending the list:\")\n",
        "list1 = [1, 2, 3]\n",
        "another_list = [4, 5, 6]\n",
        "list1.extend(another_list)\n",
        "print(\"Extended list:\", list1)"
      ],
      "metadata": {
        "id": "4Je5kJwxKJXW",
        "outputId": "9239c3f8-d957-4606-f7f2-11989b4092a2",
        "colab": {
          "base_uri": "https://localhost:8080/"
        }
      },
      "execution_count": 10,
      "outputs": [
        {
          "output_type": "stream",
          "name": "stdout",
          "text": [
            "Acessing elemts of list:\n",
            "1\n",
            "['Rohan']\n",
            "[2, 'Rohan']\n",
            "[2, 'Rohan', 69.26]\n",
            "\n",
            "Updating values in the list:\n",
            "[10, 2, 'Rohan', 69.26]\n",
            "\n",
            "Deleting List Elements:\n",
            "[2, 'Rohan', 69.26]\n",
            "\n",
            "Concatenation of 2 lists:\n",
            "[2, 'Rohan', 69.26, 1, 2, 3, 4]\n",
            "\n",
            "Reptition in list\n",
            "['Hi!', 'Hi!', 'Hi!', 'Hi!']\n",
            "\n",
            "Pop the last element:\n",
            "Hi!\n",
            "['Hi!', 'Hi!', 'Hi!']\n",
            "\n",
            "Appending the list:\n",
            "List after appending:  ['Rohan', 'Physics', 'Chemistry', 21, 'Pass', 69.75]\n",
            "\n",
            "Extending the list:\n",
            "Extended list: [1, 2, 3, 4, 5, 6]\n"
          ]
        }
      ]
    },
    {
      "cell_type": "code",
      "execution_count": 11,
      "metadata": {
        "id": "zD2JPv7mysZf",
        "outputId": "83f7bac1-b597-44e2-e55f-e8afee3204cc",
        "colab": {
          "base_uri": "https://localhost:8080/"
        }
      },
      "outputs": [
        {
          "output_type": "stream",
          "name": "stdout",
          "text": [
            "\n",
            "For loop\n",
            "25 12 10 -21 10 100 \n",
            "While loop\n",
            "25\n",
            "12\n",
            "10\n",
            "-21\n",
            "10\n",
            "100\n",
            "\n",
            "Loop Through List Items with Index\n",
            "lst[0]: 25\n",
            "lst[1]: 12\n",
            "lst[2]: 10\n",
            "lst[3]: -21\n",
            "lst[4]: 10\n",
            "lst[5]: 100\n",
            "\n",
            "Iterate using List Comprehension\n",
            "[1, 4, 9, 16, 25]\n",
            "\n",
            "Iterate using the enumerate() Function\n",
            "0 : apple\n",
            "1 : banana\n",
            "2 : cherry\n",
            "\n",
            "Nested Loops\n",
            "[(1, 4), (1, 5), (1, 6), (2, 4), (2, 5), (2, 6), (3, 4), (3, 5), (3, 6)]\n"
          ]
        }
      ],
      "source": [
        "#For loop\n",
        "print(\"\\nFor loop\")\n",
        "lst = [25, 12, 10, -21, 10, 100]\n",
        "for num in lst:\n",
        "   print (num, end = ' ')\n",
        "\n",
        "#While loop\n",
        "print(\"\\nWhile loop\")\n",
        "index=0\n",
        "while index<len(lst):\n",
        "  print(lst[index])\n",
        "  index+=1\n",
        "\n",
        "#Loop Through List Items with Index\n",
        "print(\"\\nLoop Through List Items with Index\")\n",
        "index=range(len(lst))\n",
        "for i in index:\n",
        "  print(\"lst[{}]:\".format(i),lst[i])\n",
        "\n",
        "#Iterate using List Comprehension\n",
        "print(\"\\nIterate using List Comprehension\")\n",
        "numbers=[1,2,3,4,5]\n",
        "sq_num=[num**2 for num in numbers]\n",
        "print(sq_num)\n",
        "\n",
        "#Iterate using the enumerate() Function\n",
        "print(\"\\nIterate using the enumerate() Function\")\n",
        "fruits = [\"apple\", \"banana\", \"cherry\"]\n",
        "for index, fruit in enumerate(fruits):\n",
        "   print(index,\":\", fruit)\n",
        "\n",
        "#Nested Loops\n",
        "print(\"\\nNested Loops\")\n",
        "list1=[1,2,3]\n",
        "list2=[4,5,6]\n",
        "CombLst=[(x,y) for x in list1 for y in list2]\n",
        "print (CombLst)"
      ]
    },
    {
      "cell_type": "code",
      "source": [
        "#Use of lambda\n",
        "print(\"\\nUse of lambda\")\n",
        "original_list = [1, 2, 3, 4, 5]\n",
        "doubled_list = [(lambda x: x * 2)(x) for x in original_list]\n",
        "print(doubled_list)\n",
        "\n",
        "#Sort Lists\n",
        "print(\"\\nSort Lists\")\n",
        "list1 = ['physics', 'Biology', 'chemistry', 'maths']\n",
        "print (\"list before sort:\", list1)\n",
        "list1.sort()\n",
        "print (\"list after sort : \", list1)"
      ],
      "metadata": {
        "id": "lAXSrVpYKgfC",
        "outputId": "ef22e11e-936b-4d86-918a-34d5b3dccf02",
        "colab": {
          "base_uri": "https://localhost:8080/"
        }
      },
      "execution_count": 12,
      "outputs": [
        {
          "output_type": "stream",
          "name": "stdout",
          "text": [
            "\n",
            "Use of lambda\n",
            "[2, 4, 6, 8, 10]\n",
            "\n",
            "Sort Lists\n",
            "list before sort: ['physics', 'Biology', 'chemistry', 'maths']\n",
            "list after sort :  ['Biology', 'chemistry', 'maths', 'physics']\n"
          ]
        }
      ]
    },
    {
      "cell_type": "markdown",
      "source": [
        "# ***Tuples***"
      ],
      "metadata": {
        "id": "Z6baSvXE5P-e"
      }
    },
    {
      "cell_type": "code",
      "source": [
        "# Tuple creation and access\n",
        "print(\"Tuple creation and access:\")\n",
        "tuple1 = (1, 2, \"Rohan\", 69.26)\n",
        "print(tuple1)\n",
        "print(tuple1[0])\n",
        "print(tuple1[1:3])\n",
        "\n",
        "# Concatenation and repetition\n",
        "print(\"\\nTuple concatenation and repetition:\")\n",
        "tuple2 = (4, 5, 6)\n",
        "print(tuple1 + tuple2)\n",
        "print(tuple2 * 2)\n",
        "\n",
        "# Nested Tuples\n",
        "print(\"\\nNested Tuples:\")\n",
        "tuple3 = (tuple1, tuple2)\n",
        "print(tuple3)\n",
        "\n",
        "# Tuple Unpacking\n",
        "print(\"\\nTuple Unpacking:\")\n",
        "a, b, c, d = tuple1\n",
        "print(a, b, c, d)\n",
        "tup1 = (10,20,30, 40, 50, 60)\n",
        "x, *y, z = tup1\n",
        "print (\"x: \",x, \"y: \", y, \"z: \", z)\n",
        "\n",
        "#Updating the tuple:\n",
        "print(\"\\nUpdating the tuple\")\n",
        "T1=(10,20,30,40)\n",
        "list_T1=list(T1)\n",
        "updated_list=[item+100 for item in list_T1]\n",
        "updated_tuple=tuple(updated_list)\n",
        "print(updated_tuple)"
      ],
      "metadata": {
        "id": "5Niu4wNvNmEn",
        "outputId": "d7fb681b-1253-4202-de26-524daf705a06",
        "colab": {
          "base_uri": "https://localhost:8080/"
        }
      },
      "execution_count": 14,
      "outputs": [
        {
          "output_type": "stream",
          "name": "stdout",
          "text": [
            "Tuple creation and access:\n",
            "(1, 2, 'Rohan', 69.26)\n",
            "1\n",
            "(2, 'Rohan')\n",
            "\n",
            "Tuple concatenation and repetition:\n",
            "(1, 2, 'Rohan', 69.26, 4, 5, 6)\n",
            "(4, 5, 6, 4, 5, 6)\n",
            "\n",
            "Nested Tuples:\n",
            "((1, 2, 'Rohan', 69.26), (4, 5, 6))\n",
            "\n",
            "Tuple Unpacking:\n",
            "1 2 Rohan 69.26\n",
            "x:  10 y:  [20, 30, 40, 50] z:  60\n",
            "\n",
            "Updating the tuple\n",
            "(110, 120, 130, 140)\n"
          ]
        }
      ]
    },
    {
      "cell_type": "code",
      "source": [
        "# Iterating through tuples\n",
        "print(\"\\nIterating through tuples:\")\n",
        "for item in tuple1:\n",
        "    print(item, end=' ')\n",
        "\n",
        "# While loop\n",
        "print(\"\\n\\nWhile loop with tuple\")\n",
        "index = 0\n",
        "while index < len(tuple1):\n",
        "    print(tuple1[index])\n",
        "    index += 1\n",
        "\n",
        "# Using enumerate with tuples\n",
        "print(\"\\nEnumerate with tuples:\")\n",
        "for index, value in enumerate(tuple1):\n",
        "    print(f\"Index {index}: {value}\")"
      ],
      "metadata": {
        "id": "xakd5wZIOs30",
        "outputId": "59528515-09a3-44c5-c2b4-842c4cec3331",
        "colab": {
          "base_uri": "https://localhost:8080/"
        }
      },
      "execution_count": 17,
      "outputs": [
        {
          "output_type": "stream",
          "name": "stdout",
          "text": [
            "\n",
            "Iterating through tuples:\n",
            "1 2 Rohan 69.26 \n",
            "\n",
            "While loop with tuple\n",
            "1\n",
            "2\n",
            "Rohan\n",
            "69.26\n",
            "\n",
            "Enumerate with tuples:\n",
            "Index 0: 1\n",
            "Index 1: 2\n",
            "Index 2: Rohan\n",
            "Index 3: 69.26\n"
          ]
        }
      ]
    },
    {
      "cell_type": "code",
      "source": [
        "# Lambda function with tuple\n",
        "print(\"\\nLambda function with tuples:\")\n",
        "num_tuple = (1, 2, 3, 4, 5)\n",
        "squared_tuple = tuple(map(lambda x: x**2, num_tuple))\n",
        "print(squared_tuple)"
      ],
      "metadata": {
        "id": "iXEt7lQjOyJv",
        "outputId": "c827fba6-e75e-423b-bbfc-873a9e5b19ae",
        "colab": {
          "base_uri": "https://localhost:8080/"
        }
      },
      "execution_count": 19,
      "outputs": [
        {
          "output_type": "stream",
          "name": "stdout",
          "text": [
            "\n",
            "Lambda function with tuples:\n",
            "(1, 4, 9, 16, 25)\n"
          ]
        }
      ]
    },
    {
      "cell_type": "code",
      "source": [
        "# Sorting a tuple (converted to list temporarily)\n",
        "print(\"\\nSorting a tuple:\")\n",
        "tuple4 = (\"apple\", \"banana\", \"cherry\")\n",
        "sorted_tuple = tuple(sorted(tuple4))\n",
        "print(sorted_tuple)"
      ],
      "metadata": {
        "id": "CGvOgGQFOzCG",
        "outputId": "b6a3a2d9-d693-456d-b85b-8e53d72a8049",
        "colab": {
          "base_uri": "https://localhost:8080/"
        }
      },
      "execution_count": 18,
      "outputs": [
        {
          "output_type": "stream",
          "name": "stdout",
          "text": [
            "\n",
            "Sorting a tuple:\n",
            "('apple', 'banana', 'cherry')\n"
          ]
        }
      ]
    },
    {
      "cell_type": "code",
      "source": [
        "#Joining the tuples6\n",
        "T1 = (10,20,30,40)\n",
        "T2 = ('one', 'two', 'three', 'four')\n",
        "T3 = sum((T1, T2), ())\n",
        "print (\"Joined Tuple:\", T3)"
      ],
      "metadata": {
        "colab": {
          "base_uri": "https://localhost:8080/"
        },
        "id": "yEWv3Q_pChRR",
        "outputId": "7355ba66-ba95-4363-93c5-10093bc5ac8f"
      },
      "execution_count": 16,
      "outputs": [
        {
          "output_type": "stream",
          "name": "stdout",
          "text": [
            "Joined Tuple: (10, 20, 30, 40, 'one', 'two', 'three', 'four')\n"
          ]
        }
      ]
    },
    {
      "cell_type": "code",
      "source": [
        "tup1 = (10, 20/80, 0.25, 10/40, 30, 10, 55)\n",
        "print (\"Tup1:\", tup1)\n",
        "c = tup1.count(0.25)\n",
        "print (\"count of 0.25:\", c)"
      ],
      "metadata": {
        "colab": {
          "base_uri": "https://localhost:8080/"
        },
        "id": "0WQ-D5clCu5t",
        "outputId": "0ae296a0-024a-45b9-ed73-9ab24eb24877"
      },
      "execution_count": null,
      "outputs": [
        {
          "output_type": "stream",
          "name": "stdout",
          "text": [
            "Tup1: (10, 0.25, 0.25, 0.25, 30, 10, 55)\n",
            "count of 0.25: 3\n"
          ]
        }
      ]
    },
    {
      "cell_type": "markdown",
      "source": [
        "# ***Sets***"
      ],
      "metadata": {
        "id": "FDV6HdSRD8AL"
      }
    },
    {
      "cell_type": "code",
      "source": [
        "# Set creation and access\n",
        "print(\"Set creation and access:\")\n",
        "set1 = {1, 2, \"Rohan\", 69.26}\n",
        "print(set1)\n",
        "\n",
        "# Adding elements to a set\n",
        "print(\"\\nAdding elements to a set:\")\n",
        "set1.add(100)\n",
        "print(set1)\n",
        "\n",
        "# Removing elements from a set\n",
        "print(\"\\nRemoving elements from a set:\")\n",
        "set1.remove(2)\n",
        "print(set1)\n",
        "\n",
        "# Union and Intersection of sets\n",
        "print(\"\\nUnion and Intersection of sets:\")\n",
        "set2 = {4, 5, 6, \"Rohan\"}\n",
        "print(\"Union:\", set1 | set2)\n",
        "print(\"Intersection:\", set1 & set2)\n",
        "\n",
        "# Set Difference\n",
        "print(\"\\nSet Difference:\")\n",
        "print(\"Difference:\", set1 - set2)\n",
        "\n",
        "# Checking membership\n",
        "print(\"\\nChecking membership:\")\n",
        "print(69.26 in set1)\n",
        "print(10 in set1)"
      ],
      "metadata": {
        "id": "a49sGU8DXNlb",
        "outputId": "f8c5218c-1702-41f3-c1d6-5a384ce690f1",
        "colab": {
          "base_uri": "https://localhost:8080/"
        }
      },
      "execution_count": 20,
      "outputs": [
        {
          "output_type": "stream",
          "name": "stdout",
          "text": [
            "Set creation and access:\n",
            "{1, 2, 69.26, 'Rohan'}\n",
            "\n",
            "Adding elements to a set:\n",
            "{1, 2, 100, 69.26, 'Rohan'}\n",
            "\n",
            "Removing elements from a set:\n",
            "{1, 100, 69.26, 'Rohan'}\n",
            "\n",
            "Union and Intersection of sets:\n",
            "Union: {1, 100, 69.26, 4, 5, 6, 'Rohan'}\n",
            "Intersection: {'Rohan'}\n",
            "\n",
            "Set Difference:\n",
            "Difference: {1, 100, 69.26}\n",
            "\n",
            "Checking membership:\n",
            "True\n",
            "False\n"
          ]
        }
      ]
    },
    {
      "cell_type": "code",
      "source": [
        "# Iterating through a set using for loop\n",
        "print(\"\\nIterating through a set using for loop:\")\n",
        "for item in set1:\n",
        "    print(item)\n",
        "\n",
        "# Iterating through a set using while loop\n",
        "print(\"\\nIterating through a set using while loop:\")\n",
        "set_list = list(set1)\n",
        "index = 0\n",
        "while index < len(set_list):\n",
        "    print(set_list[index])\n",
        "    index += 1\n",
        "\n",
        "# Loop Through Set with Index\n",
        "print(\"\\nLoop Through Set with Index:\")\n",
        "for index, value in enumerate(set1):\n",
        "    print(f\"Index {index}: {value}\")\n",
        "\n",
        "# Nested Loops with Sets\n",
        "print(\"\\nNested Loops with Sets:\")\n",
        "set3 = {7, 8, 9}\n",
        "for x in set1:\n",
        "    for y in set3:\n",
        "        print(f\"({x}, {y})\")\n",
        "\n",
        "# Set Comprehension\n",
        "print(\"\\nSet Comprehension:\")\n",
        "squared_set = {x**2 for x in range(1, 6)}\n",
        "print(squared_set)"
      ],
      "metadata": {
        "id": "1ytpmdi_btSS",
        "outputId": "eaae42cd-7bc8-44ea-b781-c7d6001f06c9",
        "colab": {
          "base_uri": "https://localhost:8080/"
        }
      },
      "execution_count": 21,
      "outputs": [
        {
          "output_type": "stream",
          "name": "stdout",
          "text": [
            "\n",
            "Iterating through a set using for loop:\n",
            "1\n",
            "100\n",
            "69.26\n",
            "Rohan\n",
            "\n",
            "Iterating through a set using while loop:\n",
            "1\n",
            "100\n",
            "69.26\n",
            "Rohan\n",
            "\n",
            "Loop Through Set with Index:\n",
            "Index 0: 1\n",
            "Index 1: 100\n",
            "Index 2: 69.26\n",
            "Index 3: Rohan\n",
            "\n",
            "Nested Loops with Sets:\n",
            "(1, 8)\n",
            "(1, 9)\n",
            "(1, 7)\n",
            "(100, 8)\n",
            "(100, 9)\n",
            "(100, 7)\n",
            "(69.26, 8)\n",
            "(69.26, 9)\n",
            "(69.26, 7)\n",
            "(Rohan, 8)\n",
            "(Rohan, 9)\n",
            "(Rohan, 7)\n",
            "\n",
            "Set Comprehension:\n",
            "{1, 4, 9, 16, 25}\n"
          ]
        }
      ]
    },
    {
      "cell_type": "code",
      "source": [
        "import itertools\n",
        "\n",
        "set1={1,2,3,4}\n",
        "\n",
        "is_subset={1,2}.issubset(set1)\n",
        "print(is_subset)"
      ],
      "metadata": {
        "colab": {
          "base_uri": "https://localhost:8080/"
        },
        "id": "5LxryGbuEGRL",
        "outputId": "10d91991-93d7-4662-f129-cfe19d56bf51"
      },
      "execution_count": null,
      "outputs": [
        {
          "output_type": "stream",
          "name": "stdout",
          "text": [
            "True\n"
          ]
        }
      ]
    },
    {
      "cell_type": "code",
      "source": [
        "subsets_with_2_elements=[set(subset) for subset in itertools.combinations(set1,2)]\n",
        "print(subsets_with_2_elements)"
      ],
      "metadata": {
        "colab": {
          "base_uri": "https://localhost:8080/"
        },
        "id": "8CTaZGbrEb6S",
        "outputId": "4136f5f9-6c5f-48d5-cb49-a90ab9fbbe0f"
      },
      "execution_count": null,
      "outputs": [
        {
          "output_type": "stream",
          "name": "stdout",
          "text": [
            "[{1, 2}, {1, 3}, {1, 4}, {2, 3}, {2, 4}, {3, 4}]\n"
          ]
        }
      ]
    },
    {
      "cell_type": "markdown",
      "source": [
        "#***Dictionaries***"
      ],
      "metadata": {
        "id": "80T6rAFeN9v1"
      }
    },
    {
      "cell_type": "code",
      "source": [
        "# Modifying an existing key-value pair\n",
        "student_info[\"age\"] = 22\n",
        "\n",
        "# Adding a new key-value pair\n",
        "student_info[\"graduation_year\"] = 2023\n",
        "print(\"The modified dictionary is:\",student_info)"
      ],
      "metadata": {
        "colab": {
          "base_uri": "https://localhost:8080/"
        },
        "id": "tWx5zg8-Oj71",
        "outputId": "aa7a978f-459a-4d9a-d03b-e4f45cbda84b"
      },
      "execution_count": null,
      "outputs": [
        {
          "output_type": "stream",
          "name": "stdout",
          "text": [
            "The modified dictionary is: {'name': 'Rahul', 'age': 22, 'subject': 'Data Mining', 'graduation_year': 2023}\n"
          ]
        }
      ]
    },
    {
      "cell_type": "code",
      "source": [
        "# Dictionary creation and access\n",
        "print(\"Dictionary creation and access:\")\n",
        "dict1 = {\"name\": \"Rohan\", \"age\": 21, \"subject\": \"Physics\"}\n",
        "print(dict1)\n",
        "print(\"Name:\", dict1[\"name\"])\n",
        "print(\"Age:\", dict1.get(\"age\"))\n",
        "\n",
        "# Adding and updating elements\n",
        "print(\"\\nAdding and updating elements:\")\n",
        "dict1[\"city\"] = \"New York\"\n",
        "dict1[\"age\"] = 22\n",
        "print(dict1)\n",
        "\n",
        "# Removing elements\n",
        "print(\"\\nRemoving elements:\")\n",
        "del dict1[\"subject\"]\n",
        "print(dict1)\n",
        "\n",
        "# Dictionary methods: keys, values, items\n",
        "print(\"\\nDictionary Methods:\")\n",
        "print(\"Keys:\", dict1.keys())\n",
        "print(\"Values:\", dict1.values())\n",
        "print(\"Items:\", dict1.items())\n",
        "\n",
        "# Checking membership\n",
        "print(\"\\nChecking membership:\")\n",
        "print(\"name\" in dict1)\n",
        "print(\"subject\" in dict1)"
      ],
      "metadata": {
        "id": "3ag4VE_-cuO7",
        "outputId": "8ed6e6f1-46c7-48a6-b1a0-eb00d2017cc1",
        "colab": {
          "base_uri": "https://localhost:8080/"
        }
      },
      "execution_count": 22,
      "outputs": [
        {
          "output_type": "stream",
          "name": "stdout",
          "text": [
            "Dictionary creation and access:\n",
            "{'name': 'Rohan', 'age': 21, 'subject': 'Physics'}\n",
            "Name: Rohan\n",
            "Age: 21\n",
            "\n",
            "Adding and updating elements:\n",
            "{'name': 'Rohan', 'age': 22, 'subject': 'Physics', 'city': 'New York'}\n",
            "\n",
            "Removing elements:\n",
            "{'name': 'Rohan', 'age': 22, 'city': 'New York'}\n",
            "\n",
            "Dictionary Methods:\n",
            "Keys: dict_keys(['name', 'age', 'city'])\n",
            "Values: dict_values(['Rohan', 22, 'New York'])\n",
            "Items: dict_items([('name', 'Rohan'), ('age', 22), ('city', 'New York')])\n",
            "\n",
            "Checking membership:\n",
            "True\n",
            "False\n"
          ]
        }
      ]
    },
    {
      "cell_type": "code",
      "source": [
        "# Iterating through a dictionary using for loop\n",
        "print(\"\\nIterating through a dictionary using for loop:\")\n",
        "for key in dict1:\n",
        "    print(f\"{key}: {dict1[key]}\")\n",
        "\n",
        "# Iterating through keys and values\n",
        "print(\"\\nIterating through keys and values:\")\n",
        "for key, value in dict1.items():\n",
        "    print(f\"{key} -> {value}\")\n",
        "\n",
        "# Iterating through dictionary using while loop\n",
        "print(\"\\nIterating through dictionary using while loop:\")\n",
        "dict_items = list(dict1.items())\n",
        "index = 0\n",
        "while index < len(dict_items):\n",
        "    print(dict_items[index])\n",
        "    index += 1\n",
        "\n",
        "# Loop Through Dictionary with Index\n",
        "print(\"\\nLoop Through Dictionary with Index:\")\n",
        "for index, (key, value) in enumerate(dict1.items()):\n",
        "    print(f\"Index {index}: {key} -> {value}\")\n",
        "\n",
        "# Nested Dictionary\n",
        "print(\"\\nNested Dictionary:\")\n",
        "nested_dict = {\n",
        "    \"student1\": {\"name\": \"Alice\", \"age\": 20},\n",
        "    \"student2\": {\"name\": \"Bob\", \"age\": 22}\n",
        "}\n",
        "print(nested_dict)\n",
        "\n",
        "# Dictionary Comprehension\n",
        "print(\"\\nDictionary Comprehension:\")\n",
        "squared_dict = {x: x**2 for x in range(1, 6)}\n",
        "print(squared_dict)"
      ],
      "metadata": {
        "id": "fSJaOYlXdPBq",
        "outputId": "fbdfe959-862e-44dc-a8b1-cf4bb7ff2f79",
        "colab": {
          "base_uri": "https://localhost:8080/"
        }
      },
      "execution_count": 23,
      "outputs": [
        {
          "output_type": "stream",
          "name": "stdout",
          "text": [
            "\n",
            "Iterating through a dictionary using for loop:\n",
            "name: Rohan\n",
            "age: 22\n",
            "city: New York\n",
            "\n",
            "Iterating through keys and values:\n",
            "name -> Rohan\n",
            "age -> 22\n",
            "city -> New York\n",
            "\n",
            "Iterating through dictionary using while loop:\n",
            "('name', 'Rohan')\n",
            "('age', 22)\n",
            "('city', 'New York')\n",
            "\n",
            "Loop Through Dictionary with Index:\n",
            "Index 0: name -> Rohan\n",
            "Index 1: age -> 22\n",
            "Index 2: city -> New York\n",
            "\n",
            "Nested Dictionary:\n",
            "{'student1': {'name': 'Alice', 'age': 20}, 'student2': {'name': 'Bob', 'age': 22}}\n",
            "\n",
            "Dictionary Comprehension:\n",
            "{1: 1, 2: 4, 3: 9, 4: 16, 5: 25}\n"
          ]
        }
      ]
    },
    {
      "cell_type": "markdown",
      "source": [
        "##**Program 1**:\n",
        "Write python code to accept words from the user until a blank line is entered. The output should display the words exactly once, in the order in which they were entered.\n",
        "\n",
        "##**Example Input:**\n",
        "red\n",
        "\n",
        "black\n",
        "\n",
        "red\n",
        "\n",
        "orange\n",
        "\n",
        "black\n",
        "\n",
        "##**Output:**\n",
        "red\n",
        "\n",
        "black\n",
        "\n",
        "orange"
      ],
      "metadata": {
        "id": "b3wPIhW7MLpR"
      }
    },
    {
      "cell_type": "code",
      "source": [
        "words = set()\n",
        "unique_words = []\n",
        "\n",
        "while True:\n",
        "    word = input(\"Input: \").strip()  # Remove leading/trailing spaces\n",
        "    if word==\"\":  # Stop on blank line\n",
        "        break\n",
        "    if word not in words:\n",
        "        words.add(word)\n",
        "        unique_words.append(word)\n",
        "\n",
        "print(\"Unique words are:\")\n",
        "for word in unique_words:\n",
        "    print(word)"
      ],
      "metadata": {
        "colab": {
          "base_uri": "https://localhost:8080/"
        },
        "id": "bbpyaP8EHiah",
        "outputId": "602ca52d-4058-4395-bad2-de1a76b0d453"
      },
      "execution_count": null,
      "outputs": [
        {
          "output_type": "stream",
          "name": "stdout",
          "text": [
            "Input: red\n",
            "Input: orange\n",
            "Input: red\n",
            "Input: black\n",
            "Input: \n",
            "Unique words are:\n",
            "red\n",
            "orange\n",
            "black\n"
          ]
        }
      ]
    },
    {
      "cell_type": "markdown",
      "source": [
        "#**Program 2:**\n",
        "Write a program to create a dictionary from two lists. The list values are to be inputted by the user.\n",
        "##**Example**:\n",
        "List\n",
        "1: [red, orange, black]\n",
        "\n",
        "List\n",
        "2: [200, 300, 100]\n",
        "##**Output:**\n",
        "{'red': '200', 'orange': '300', 'black': '100'}"
      ],
      "metadata": {
        "id": "kEtboziAMkjn"
      }
    },
    {
      "cell_type": "code",
      "source": [
        "list1=input(\"Enter list1: \").split(\" \")\n",
        "list2=input(\"Enter list2: \").split(\" \")\n",
        "dict1=dict(zip(list1,list2))\n",
        "print(dict1)"
      ],
      "metadata": {
        "colab": {
          "base_uri": "https://localhost:8080/"
        },
        "id": "FhtY4YltJIXp",
        "outputId": "63f64ce3-b6b2-4ed8-eb17-ebcef173417a"
      },
      "execution_count": null,
      "outputs": [
        {
          "output_type": "stream",
          "name": "stdout",
          "text": [
            "Enter list1: red orange black\n",
            "Enter list2: 200 300 100\n",
            "{'red': '200', 'orange': '300', 'black': '100'}\n"
          ]
        }
      ]
    },
    {
      "cell_type": "code",
      "source": [
        "list1 = input(\"Enter first list elements (keys) separated by spaces: \").split()\n",
        "\n",
        "list2 = input(\"Enter second list elements (values) separated by spaces: \").split()\n",
        "\n",
        "if len(list1) != len(list2):\n",
        "    print(\"Error: Both lists must have the same number of elements.\")\n",
        "else:\n",
        "    dictionary = dict(zip(list1, list2))\n",
        "\n",
        "    sort_by = input(\"Sort by 'key' or 'value'?: \").strip().lower()\n",
        "    order = input(\"Sort in 'asc' (ascending) or 'desc' (descending) order?: \").strip().lower()\n",
        "\n",
        "    reverse_order = True if order == \"desc\" else False\n",
        "\n",
        "    if sort_by == \"key\":\n",
        "        sorted_dict = dict(sorted(dictionary.items(), key=lambda x: x[0], reverse=reverse_order))\n",
        "    elif sort_by == \"value\":\n",
        "        sorted_dict = dict(sorted(dictionary.items(), key=lambda x: x[1], reverse=reverse_order))\n",
        "    else:\n",
        "        print(\"Invalid sort option. Sorting by default (keys in ascending order).\")\n",
        "        sorted_dict = dict(sorted(dictionary.items(), key=lambda x: x[0]))\n",
        "\n",
        "    print(\"Sorted Dictionary:\", sorted_dict)\n"
      ],
      "metadata": {
        "colab": {
          "base_uri": "https://localhost:8080/"
        },
        "id": "l3fYsvwcNdH1",
        "outputId": "9d858d6c-861e-4a41-aac6-e1cfd5953616"
      },
      "execution_count": null,
      "outputs": [
        {
          "output_type": "stream",
          "name": "stdout",
          "text": [
            "Enter first list elements (keys) separated by spaces: red orange black\n",
            "Enter second list elements (values) separated by spaces: 200 300 100\n",
            "Sort by 'key' or 'value'?: key\n",
            "Sort in 'asc' (ascending) or 'desc' (descending) order?: asc\n",
            "Sorted Dictionary: {'black': '100', 'orange': '300', 'red': '200'}\n"
          ]
        }
      ]
    },
    {
      "cell_type": "code",
      "source": [],
      "metadata": {
        "id": "ue-gt7OeWFtc"
      },
      "execution_count": null,
      "outputs": []
    }
  ]
}