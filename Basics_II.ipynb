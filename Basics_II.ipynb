{
  "nbformat": 4,
  "nbformat_minor": 0,
  "metadata": {
    "colab": {
      "provenance": [],
      "authorship_tag": "ABX9TyPRY7MMhAzOrY4spnvwkXNN",
      "include_colab_link": true
    },
    "kernelspec": {
      "name": "python3",
      "display_name": "Python 3"
    },
    "language_info": {
      "name": "python"
    }
  },
  "cells": [
    {
      "cell_type": "markdown",
      "metadata": {
        "id": "view-in-github",
        "colab_type": "text"
      },
      "source": [
        "<a href=\"https://colab.research.google.com/github/chitwan6804/Data_mining/blob/main/Basics_II.ipynb\" target=\"_parent\"><img src=\"https://colab.research.google.com/assets/colab-badge.svg\" alt=\"Open In Colab\"/></a>"
      ]
    },
    {
      "cell_type": "markdown",
      "source": [
        "#  ***Lists***"
      ],
      "metadata": {
        "id": "2A_z6u6Uy17u"
      }
    },
    {
      "cell_type": "code",
      "execution_count": null,
      "metadata": {
        "id": "zD2JPv7mysZf"
      },
      "outputs": [],
      "source": [
        "list1=[1,2,\"Rohan\",69.26]"
      ]
    },
    {
      "cell_type": "code",
      "source": [
        "list1[0]"
      ],
      "metadata": {
        "colab": {
          "base_uri": "https://localhost:8080/"
        },
        "id": "k4jIS__q2rt-",
        "outputId": "45f9f1af-6a43-44f8-f922-f68f64f7df31"
      },
      "execution_count": null,
      "outputs": [
        {
          "output_type": "execute_result",
          "data": {
            "text/plain": [
              "1"
            ]
          },
          "metadata": {},
          "execution_count": 2
        }
      ]
    },
    {
      "cell_type": "code",
      "source": [
        "list1[2:-1]"
      ],
      "metadata": {
        "colab": {
          "base_uri": "https://localhost:8080/"
        },
        "id": "1Zeok4C12wQe",
        "outputId": "80cf97f3-e7b4-4cbe-da6f-ef09c5e8391d"
      },
      "execution_count": null,
      "outputs": [
        {
          "output_type": "execute_result",
          "data": {
            "text/plain": [
              "['Rohan']"
            ]
          },
          "metadata": {},
          "execution_count": 3
        }
      ]
    },
    {
      "cell_type": "code",
      "source": [
        "list1[1:-1]"
      ],
      "metadata": {
        "colab": {
          "base_uri": "https://localhost:8080/"
        },
        "id": "BPz59oRP2y5-",
        "outputId": "1f7117ea-e281-4c87-ccda-9eca42269f9f"
      },
      "execution_count": null,
      "outputs": [
        {
          "output_type": "execute_result",
          "data": {
            "text/plain": [
              "[2, 'Rohan']"
            ]
          },
          "metadata": {},
          "execution_count": 4
        }
      ]
    },
    {
      "cell_type": "code",
      "source": [
        "list1[1:]"
      ],
      "metadata": {
        "colab": {
          "base_uri": "https://localhost:8080/"
        },
        "id": "V5xD1Veo225c",
        "outputId": "e44f9924-3292-4000-e93c-762d89f5978f"
      },
      "execution_count": null,
      "outputs": [
        {
          "output_type": "execute_result",
          "data": {
            "text/plain": [
              "[2, 'Rohan', 69.26]"
            ]
          },
          "metadata": {},
          "execution_count": 5
        }
      ]
    },
    {
      "cell_type": "code",
      "source": [
        "list1[1]=9\n",
        "list1"
      ],
      "metadata": {
        "colab": {
          "base_uri": "https://localhost:8080/"
        },
        "id": "-LDuL6RT25Qn",
        "outputId": "bd0fe283-515e-4d5f-80e4-bc20f5c2c847"
      },
      "execution_count": null,
      "outputs": [
        {
          "output_type": "execute_result",
          "data": {
            "text/plain": [
              "[1, 9, 'Rohan', 69.26]"
            ]
          },
          "metadata": {},
          "execution_count": 7
        }
      ]
    },
    {
      "cell_type": "code",
      "source": [
        "del list1[1]"
      ],
      "metadata": {
        "id": "RpIzGAM428yd"
      },
      "execution_count": null,
      "outputs": []
    },
    {
      "cell_type": "code",
      "source": [
        "list1"
      ],
      "metadata": {
        "colab": {
          "base_uri": "https://localhost:8080/"
        },
        "id": "SxkySWqW3BeH",
        "outputId": "b15b66e1-0a9d-45b2-8ad3-89219c5e3775"
      },
      "execution_count": null,
      "outputs": [
        {
          "output_type": "execute_result",
          "data": {
            "text/plain": [
              "[1, 'Rohan', 69.26]"
            ]
          },
          "metadata": {},
          "execution_count": 9
        }
      ]
    },
    {
      "cell_type": "code",
      "source": [
        "list1=[1,2,3,4]\n",
        "list2=[1,2,3,4]\n",
        "list3=list1+list2"
      ],
      "metadata": {
        "id": "h5Sdg_HC3Cab"
      },
      "execution_count": null,
      "outputs": []
    },
    {
      "cell_type": "code",
      "source": [
        "list3"
      ],
      "metadata": {
        "colab": {
          "base_uri": "https://localhost:8080/"
        },
        "id": "62itm_3p3JEC",
        "outputId": "c4aad015-dac5-4c1b-e321-5c6c88614206"
      },
      "execution_count": null,
      "outputs": [
        {
          "output_type": "execute_result",
          "data": {
            "text/plain": [
              "[1, 2, 3, 4, 1, 2, 3, 4]"
            ]
          },
          "metadata": {},
          "execution_count": 11
        }
      ]
    },
    {
      "cell_type": "code",
      "source": [
        "list3=['Hi!']*4\n",
        "list3"
      ],
      "metadata": {
        "colab": {
          "base_uri": "https://localhost:8080/"
        },
        "id": "y_-Ey1bX3KxQ",
        "outputId": "b11e73f0-58a4-4d9b-bf58-011ba4ba4c6c"
      },
      "execution_count": null,
      "outputs": [
        {
          "output_type": "execute_result",
          "data": {
            "text/plain": [
              "['Hi!', 'Hi!', 'Hi!', 'Hi!']"
            ]
          },
          "metadata": {},
          "execution_count": 12
        }
      ]
    },
    {
      "cell_type": "code",
      "source": [
        "list3.append('Hiiiiiiiii!')\n",
        "list3"
      ],
      "metadata": {
        "colab": {
          "base_uri": "https://localhost:8080/"
        },
        "id": "bvz_rpmY3Pp3",
        "outputId": "7d0787a4-259d-4150-b5a1-0b21b413aba5"
      },
      "execution_count": null,
      "outputs": [
        {
          "output_type": "execute_result",
          "data": {
            "text/plain": [
              "['Hi!', 'Hi!', 'Hi!', 'Hi!', 'Hiiiiiiiii!']"
            ]
          },
          "metadata": {},
          "execution_count": 13
        }
      ]
    },
    {
      "cell_type": "code",
      "source": [
        "list3.pop(2)"
      ],
      "metadata": {
        "colab": {
          "base_uri": "https://localhost:8080/",
          "height": 36
        },
        "id": "7MHDcJb53_v3",
        "outputId": "bc1e2fb6-57da-4a1c-b6e1-c0d597fc61e9"
      },
      "execution_count": null,
      "outputs": [
        {
          "output_type": "execute_result",
          "data": {
            "text/plain": [
              "'Hi!'"
            ],
            "application/vnd.google.colaboratory.intrinsic+json": {
              "type": "string"
            }
          },
          "metadata": {},
          "execution_count": 14
        }
      ]
    },
    {
      "cell_type": "code",
      "source": [
        "list3"
      ],
      "metadata": {
        "colab": {
          "base_uri": "https://localhost:8080/"
        },
        "id": "Xmvkaom14Ffw",
        "outputId": "2861b62d-ba33-4b21-fad2-533422d2cb1a"
      },
      "execution_count": null,
      "outputs": [
        {
          "output_type": "execute_result",
          "data": {
            "text/plain": [
              "['Hi!', 'Hi!', 'Hi!', 'Hiiiiiiiii!']"
            ]
          },
          "metadata": {},
          "execution_count": 15
        }
      ]
    },
    {
      "cell_type": "code",
      "source": [
        "list1 = [\"Rohan\", \"Physics\", 21, 69.75]\n",
        "\n",
        "list1.insert(2, 'Chemistry')\n",
        "print (\"List after appending: \", list1)\n",
        "\n",
        "list1.insert(-1, 'Pass')\n",
        "print (\"List after appending: \", list1)"
      ],
      "metadata": {
        "colab": {
          "base_uri": "https://localhost:8080/"
        },
        "id": "dYYbzUkl4Hwq",
        "outputId": "84702ffd-155b-4dc1-b616-f662ff1b4f97"
      },
      "execution_count": null,
      "outputs": [
        {
          "output_type": "stream",
          "name": "stdout",
          "text": [
            "List after appending:  ['Rohan', 'Physics', 'Chemistry', 21, 69.75]\n",
            "List after appending:  ['Rohan', 'Physics', 'Chemistry', 21, 'Pass', 69.75]\n"
          ]
        }
      ]
    },
    {
      "cell_type": "code",
      "source": [
        "# Original list\n",
        "list1 = [1, 2, 3]\n",
        "# Another list to extend with\n",
        "another_list = [4, 5, 6]\n",
        "\n",
        "list1.extend(another_list)\n",
        "print(\"Extended list:\", list1)"
      ],
      "metadata": {
        "colab": {
          "base_uri": "https://localhost:8080/"
        },
        "id": "NVo_jwi24MPv",
        "outputId": "e265aa79-cc04-4e5f-cfbb-b409c1012cd0"
      },
      "execution_count": null,
      "outputs": [
        {
          "output_type": "stream",
          "name": "stdout",
          "text": [
            "Extended list: [1, 2, 3, 4, 5, 6]\n"
          ]
        }
      ]
    },
    {
      "cell_type": "code",
      "source": [
        "list1 = [\"Rohan\", \"Physics\", 21, 69.75]\n",
        "list1.remove(\"Physics\")\n",
        "print (\"List after removing: \", list1)\n"
      ],
      "metadata": {
        "colab": {
          "base_uri": "https://localhost:8080/"
        },
        "id": "__XHbSra4UYe",
        "outputId": "050afafa-1b86-4518-df6a-9d50aa486f20"
      },
      "execution_count": null,
      "outputs": [
        {
          "output_type": "stream",
          "name": "stdout",
          "text": [
            "List after removing:  ['Rohan', 21, 69.75]\n"
          ]
        }
      ]
    },
    {
      "cell_type": "code",
      "source": [
        "list1.clear()\n"
      ],
      "metadata": {
        "id": "WXU5G5Hr4a_l"
      },
      "execution_count": null,
      "outputs": []
    },
    {
      "cell_type": "code",
      "source": [
        "list1"
      ],
      "metadata": {
        "colab": {
          "base_uri": "https://localhost:8080/"
        },
        "id": "LjDImzjI4o1N",
        "outputId": "b951b3cd-38e5-4909-82fe-d74b522767d2"
      },
      "execution_count": null,
      "outputs": [
        {
          "output_type": "execute_result",
          "data": {
            "text/plain": [
              "[]"
            ]
          },
          "metadata": {},
          "execution_count": 21
        }
      ]
    },
    {
      "cell_type": "code",
      "source": [
        "lst = [25, 12, 10, -21, 10, 100]\n",
        "for num in lst:\n",
        "   print (num, end = ' ')"
      ],
      "metadata": {
        "colab": {
          "base_uri": "https://localhost:8080/"
        },
        "id": "4VDsbBDL4rQL",
        "outputId": "cde933fc-4476-4065-ad9a-d884d5bbb560"
      },
      "execution_count": null,
      "outputs": [
        {
          "output_type": "stream",
          "name": "stdout",
          "text": [
            "25 12 10 -21 10 100 "
          ]
        }
      ]
    },
    {
      "cell_type": "code",
      "source": [
        "index=0\n",
        "while index<len(lst):\n",
        "  print(lst[index])\n",
        "  index+=1"
      ],
      "metadata": {
        "colab": {
          "base_uri": "https://localhost:8080/"
        },
        "id": "5J6n7Uuw5F-b",
        "outputId": "355ddf6f-59cf-498d-f049-67de7dd7ce10"
      },
      "execution_count": null,
      "outputs": [
        {
          "output_type": "stream",
          "name": "stdout",
          "text": [
            "25\n",
            "12\n",
            "10\n",
            "-21\n",
            "10\n",
            "100\n"
          ]
        }
      ]
    },
    {
      "cell_type": "code",
      "source": [
        "lst = [25, 12, 10, -21, 10, 100]\n",
        "for num in lst:\n",
        "   print (num, end = ' ')"
      ],
      "metadata": {
        "colab": {
          "base_uri": "https://localhost:8080/"
        },
        "id": "Qa0yjpSD5Vpg",
        "outputId": "9050c6bc-f61d-479d-8adc-9dd70ef660ad"
      },
      "execution_count": null,
      "outputs": [
        {
          "output_type": "stream",
          "name": "stdout",
          "text": [
            "25 12 10 -21 10 100 "
          ]
        }
      ]
    },
    {
      "cell_type": "code",
      "source": [
        "index=range(len(lst))\n",
        "for i in index:\n",
        "  print(\"lst[{}]:\".format(i),lst[i])"
      ],
      "metadata": {
        "colab": {
          "base_uri": "https://localhost:8080/"
        },
        "id": "tm-hU8pyJZAV",
        "outputId": "12d550fa-25f3-4adb-8919-642669951335"
      },
      "execution_count": null,
      "outputs": [
        {
          "output_type": "stream",
          "name": "stdout",
          "text": [
            "lst[0]: 25\n",
            "lst[1]: 12\n",
            "lst[2]: 10\n",
            "lst[3]: -21\n",
            "lst[4]: 10\n",
            "lst[5]: 100\n"
          ]
        }
      ]
    },
    {
      "cell_type": "code",
      "source": [
        "numbers=[1,2,3,4,5]\n",
        "sq_num=[num**2 for num in numbers]\n",
        "print(sq_num)"
      ],
      "metadata": {
        "colab": {
          "base_uri": "https://localhost:8080/"
        },
        "id": "-i24_NelJrcZ",
        "outputId": "ab0965cc-b2e0-44fb-a7b5-c16dffb7d578"
      },
      "execution_count": null,
      "outputs": [
        {
          "output_type": "stream",
          "name": "stdout",
          "text": [
            "[1, 4, 9, 16, 25]\n"
          ]
        }
      ]
    },
    {
      "cell_type": "code",
      "source": [
        "fruits = [\"apple\", \"banana\", \"cherry\"]\n",
        "for index, fruit in enumerate(fruits):\n",
        "   print(index,\":\", fruit)"
      ],
      "metadata": {
        "colab": {
          "base_uri": "https://localhost:8080/"
        },
        "id": "0iJnDSyxKJX8",
        "outputId": "e302e049-365a-43c3-a8db-48cf7ae8d244"
      },
      "execution_count": 2,
      "outputs": [
        {
          "output_type": "stream",
          "name": "stdout",
          "text": [
            "0 : apple\n",
            "1 : banana\n",
            "2 : cherry\n"
          ]
        }
      ]
    },
    {
      "cell_type": "code",
      "source": [
        "string = \"hello world\"\n",
        "char_list=[char.upper() for char in string if char.isalpha()]\n",
        "print(char_list)"
      ],
      "metadata": {
        "id": "j-weVFvPKoaU",
        "outputId": "49761f7a-1ad8-441c-a665-ab248ad7590a",
        "colab": {
          "base_uri": "https://localhost:8080/"
        }
      },
      "execution_count": 5,
      "outputs": [
        {
          "output_type": "stream",
          "name": "stdout",
          "text": [
            "['H', 'E', 'L', 'L', 'O', 'W', 'O', 'R', 'L', 'D']\n"
          ]
        }
      ]
    },
    {
      "cell_type": "code",
      "source": [
        "list1=[1,2,3,4]\n",
        "double_list=[(lambda x: x*2)(x) for x in list1]\n",
        "print(double_list)"
      ],
      "metadata": {
        "id": "7PTiWYWAwF9p",
        "outputId": "9e46620b-7099-4fc9-8b37-e57f4f6090bc",
        "colab": {
          "base_uri": "https://localhost:8080/"
        }
      },
      "execution_count": 6,
      "outputs": [
        {
          "output_type": "stream",
          "name": "stdout",
          "text": [
            "[2, 4, 6, 8]\n"
          ]
        }
      ]
    },
    {
      "cell_type": "code",
      "source": [
        "list1=[1,2,3,4]\n",
        "list2=[1,2,3,4]\n",
        "comblist=[(x,y) for x in list1 for y in list2]"
      ],
      "metadata": {
        "id": "bXJO6kQwweM6"
      },
      "execution_count": 7,
      "outputs": []
    },
    {
      "cell_type": "code",
      "source": [
        "print(comblist)"
      ],
      "metadata": {
        "id": "6Z5e_k3LxIit",
        "outputId": "e07089c3-f28e-48e2-9506-171f0a79bbb8",
        "colab": {
          "base_uri": "https://localhost:8080/"
        }
      },
      "execution_count": 8,
      "outputs": [
        {
          "output_type": "stream",
          "name": "stdout",
          "text": [
            "[(1, 1), (1, 2), (1, 3), (1, 4), (2, 1), (2, 2), (2, 3), (2, 4), (3, 1), (3, 2), (3, 3), (3, 4), (4, 1), (4, 2), (4, 3), (4, 4)]\n"
          ]
        }
      ]
    },
    {
      "cell_type": "code",
      "source": [
        "queslist=[{x:y} for x in list1 for y in list2]"
      ],
      "metadata": {
        "id": "IQgtIao0xKiZ"
      },
      "execution_count": 14,
      "outputs": []
    },
    {
      "cell_type": "code",
      "source": [
        "queslist"
      ],
      "metadata": {
        "id": "C3AUOoYyxSn_",
        "outputId": "4876de1f-aca7-45f3-fc33-dbb3f4c8a013",
        "colab": {
          "base_uri": "https://localhost:8080/"
        }
      },
      "execution_count": 15,
      "outputs": [
        {
          "output_type": "execute_result",
          "data": {
            "text/plain": [
              "[{1: 1},\n",
              " {1: 2},\n",
              " {1: 3},\n",
              " {1: 4},\n",
              " {2: 1},\n",
              " {2: 2},\n",
              " {2: 3},\n",
              " {2: 4},\n",
              " {3: 1},\n",
              " {3: 2},\n",
              " {3: 3},\n",
              " {3: 4},\n",
              " {4: 1},\n",
              " {4: 2},\n",
              " {4: 3},\n",
              " {4: 4}]"
            ]
          },
          "metadata": {},
          "execution_count": 15
        }
      ]
    },
    {
      "cell_type": "code",
      "source": [
        "evenlist=[x for x in range(1,21) if x%2==0]\n",
        "evenlist"
      ],
      "metadata": {
        "id": "pZ9j-_WXxUx2",
        "outputId": "bf1c9340-845b-451d-f4f4-b3bc0950558e",
        "colab": {
          "base_uri": "https://localhost:8080/"
        }
      },
      "execution_count": 16,
      "outputs": [
        {
          "output_type": "execute_result",
          "data": {
            "text/plain": [
              "[2, 4, 6, 8, 10, 12, 14, 16, 18, 20]"
            ]
          },
          "metadata": {},
          "execution_count": 16
        }
      ]
    },
    {
      "cell_type": "code",
      "source": [
        "chars=[]\n",
        "for ch in 'TutorialsPoint':\n",
        "  if ch not in 'aeiou':\n",
        "    chars.append(ch)\n",
        "print(chars)"
      ],
      "metadata": {
        "id": "NE455SunyVVm",
        "outputId": "9eca721f-d464-4fee-c312-ecf906f62323",
        "colab": {
          "base_uri": "https://localhost:8080/"
        }
      },
      "execution_count": 19,
      "outputs": [
        {
          "output_type": "stream",
          "name": "stdout",
          "text": [
            "['T', 't', 'r', 'l', 's', 'P', 'n', 't']\n"
          ]
        }
      ]
    },
    {
      "cell_type": "code",
      "source": [
        "list1=['physics','Biology','biology','chemistry','maths']\n",
        "print(list1)\n",
        "list1.sort()\n",
        "print(list1)"
      ],
      "metadata": {
        "id": "-Uownfhhy4X3",
        "outputId": "70a93232-592c-4236-8506-a84dac94e077",
        "colab": {
          "base_uri": "https://localhost:8080/"
        }
      },
      "execution_count": 21,
      "outputs": [
        {
          "output_type": "stream",
          "name": "stdout",
          "text": [
            "['physics', 'Biology', 'biology', 'chemistry', 'maths']\n",
            "['Biology', 'biology', 'chemistry', 'maths', 'physics']\n"
          ]
        }
      ]
    },
    {
      "cell_type": "code",
      "source": [
        "list1=[21,2,3,4,10,0,13]\n",
        "print(list1)\n",
        "list1.sort()\n",
        "print(list1)"
      ],
      "metadata": {
        "id": "xxgBnMMHzNOL",
        "outputId": "8a314b99-d4c8-40e5-a677-52d0c0b8c4fe",
        "colab": {
          "base_uri": "https://localhost:8080/"
        }
      },
      "execution_count": 23,
      "outputs": [
        {
          "output_type": "stream",
          "name": "stdout",
          "text": [
            "[21, 2, 3, 4, 10, 0, 13]\n",
            "[0, 2, 3, 4, 10, 13, 21]\n"
          ]
        }
      ]
    },
    {
      "cell_type": "code",
      "source": [
        "list1=[21,2,3,4,10,0,13]\n",
        "print(list1)\n",
        "list1=sorted(list1,reverse=True)\n",
        "print(list1)"
      ],
      "metadata": {
        "id": "81eiZvUsznmM",
        "outputId": "d6f106b7-a26e-4570-aad5-94b2442d4eeb",
        "colab": {
          "base_uri": "https://localhost:8080/"
        }
      },
      "execution_count": 25,
      "outputs": [
        {
          "output_type": "stream",
          "name": "stdout",
          "text": [
            "[21, 2, 3, 4, 10, 0, 13]\n",
            "[21, 13, 10, 4, 3, 2, 0]\n"
          ]
        }
      ]
    },
    {
      "cell_type": "code",
      "source": [
        "L1 = [1, 9, 1, 6, 3, 4, 5, 1, 1, 2, 5, 6, 7, 8, 9, 2]\n",
        "L2 = []\n",
        "for x in L1:\n",
        "  if x not in L2:\n",
        "    L2.append(x)\n",
        "print(L2)"
      ],
      "metadata": {
        "id": "6vdS4QOy0cCA",
        "outputId": "1b03cc41-7c13-4952-f33d-4e361e71074f",
        "colab": {
          "base_uri": "https://localhost:8080/"
        }
      },
      "execution_count": 27,
      "outputs": [
        {
          "output_type": "stream",
          "name": "stdout",
          "text": [
            "[1, 9, 6, 3, 4, 5, 2, 7, 8]\n"
          ]
        }
      ]
    },
    {
      "cell_type": "markdown",
      "source": [
        "# ***Tuples***"
      ],
      "metadata": {
        "id": "Z6baSvXE5P-e"
      }
    },
    {
      "cell_type": "code",
      "source": [
        "tup1=('Rohan',\"Physics\",1,4.5)"
      ],
      "metadata": {
        "id": "RLhPKahG4dPs"
      },
      "execution_count": 28,
      "outputs": []
    },
    {
      "cell_type": "code",
      "source": [
        "tup1"
      ],
      "metadata": {
        "id": "-r3ivLda-Lvg",
        "outputId": "542efdad-8c73-4f27-f1c2-fa8925627aae",
        "colab": {
          "base_uri": "https://localhost:8080/"
        }
      },
      "execution_count": 29,
      "outputs": [
        {
          "output_type": "execute_result",
          "data": {
            "text/plain": [
              "('Rohan', 'Physics', 1, 4.5)"
            ]
          },
          "metadata": {},
          "execution_count": 29
        }
      ]
    },
    {
      "cell_type": "code",
      "source": [
        "tup1=(1)"
      ],
      "metadata": {
        "id": "Xts85PdG-M2j"
      },
      "execution_count": 30,
      "outputs": []
    },
    {
      "cell_type": "code",
      "source": [
        "tup1"
      ],
      "metadata": {
        "id": "i_-7nk3K-Rpc",
        "outputId": "18bb5a4d-98b1-49d8-c7e5-836a6a272f72",
        "colab": {
          "base_uri": "https://localhost:8080/"
        }
      },
      "execution_count": 31,
      "outputs": [
        {
          "output_type": "execute_result",
          "data": {
            "text/plain": [
              "1"
            ]
          },
          "metadata": {},
          "execution_count": 31
        }
      ]
    },
    {
      "cell_type": "code",
      "source": [
        "tup1=(1,)\n",
        "tup1"
      ],
      "metadata": {
        "id": "vrL6fmft-SfJ",
        "outputId": "6864dd47-ea36-4627-a2a6-079ade4b9d2b",
        "colab": {
          "base_uri": "https://localhost:8080/"
        }
      },
      "execution_count": 32,
      "outputs": [
        {
          "output_type": "execute_result",
          "data": {
            "text/plain": [
              "(1,)"
            ]
          },
          "metadata": {},
          "execution_count": 32
        }
      ]
    },
    {
      "cell_type": "code",
      "source": [
        "tup1=('physics','chemsitry',2,4,6.5)"
      ],
      "metadata": {
        "id": "06b7BkIh-VrN"
      },
      "execution_count": 33,
      "outputs": []
    },
    {
      "cell_type": "code",
      "source": [
        "tup1[0]"
      ],
      "metadata": {
        "id": "bYlCGkX1-qQt",
        "outputId": "d70393df-6f41-43cd-a1cd-41f310ca06c7",
        "colab": {
          "base_uri": "https://localhost:8080/",
          "height": 36
        }
      },
      "execution_count": 34,
      "outputs": [
        {
          "output_type": "execute_result",
          "data": {
            "text/plain": [
              "'physics'"
            ],
            "application/vnd.google.colaboratory.intrinsic+json": {
              "type": "string"
            }
          },
          "metadata": {},
          "execution_count": 34
        }
      ]
    },
    {
      "cell_type": "code",
      "source": [
        "tup1[2:5]"
      ],
      "metadata": {
        "id": "rdADbleh-rha",
        "outputId": "c47fb293-928a-4689-ee79-b271f7a345b5",
        "colab": {
          "base_uri": "https://localhost:8080/"
        }
      },
      "execution_count": 35,
      "outputs": [
        {
          "output_type": "execute_result",
          "data": {
            "text/plain": [
              "(2, 4, 6.5)"
            ]
          },
          "metadata": {},
          "execution_count": 35
        }
      ]
    },
    {
      "cell_type": "code",
      "source": [
        "# tup1[0]=100 not possible in modify value like this"
      ],
      "metadata": {
        "id": "ru_0prbp-t3Q",
        "outputId": "6acf8f17-0467-40be-8f0c-e792f1a2d868",
        "colab": {
          "base_uri": "https://localhost:8080/",
          "height": 148
        }
      },
      "execution_count": 36,
      "outputs": [
        {
          "output_type": "error",
          "ename": "TypeError",
          "evalue": "'tuple' object does not support item assignment",
          "traceback": [
            "\u001b[0;31m---------------------------------------------------------------------------\u001b[0m",
            "\u001b[0;31mTypeError\u001b[0m                                 Traceback (most recent call last)",
            "\u001b[0;32m<ipython-input-36-e1834aa6a247>\u001b[0m in \u001b[0;36m<cell line: 0>\u001b[0;34m()\u001b[0m\n\u001b[0;32m----> 1\u001b[0;31m \u001b[0mtup1\u001b[0m\u001b[0;34m[\u001b[0m\u001b[0;36m0\u001b[0m\u001b[0;34m]\u001b[0m\u001b[0;34m=\u001b[0m\u001b[0;36m100\u001b[0m\u001b[0;34m\u001b[0m\u001b[0;34m\u001b[0m\u001b[0m\n\u001b[0m",
            "\u001b[0;31mTypeError\u001b[0m: 'tuple' object does not support item assignment"
          ]
        }
      ]
    },
    {
      "cell_type": "code",
      "source": [
        "tup2=(1,2,3,4,5)\n",
        "\n",
        "tup3=tup1+tup2\n",
        "tup3"
      ],
      "metadata": {
        "id": "Q-aAXncV-y_Y",
        "outputId": "e9d54038-4c73-40d3-e587-44f95e670c85",
        "colab": {
          "base_uri": "https://localhost:8080/"
        }
      },
      "execution_count": 37,
      "outputs": [
        {
          "output_type": "execute_result",
          "data": {
            "text/plain": [
              "('physics', 'chemsitry', 2, 4, 6.5, 1, 2, 3, 4, 5)"
            ]
          },
          "metadata": {},
          "execution_count": 37
        }
      ]
    },
    {
      "cell_type": "code",
      "source": [
        "del tup1"
      ],
      "metadata": {
        "id": "-S2shA1o_YPN"
      },
      "execution_count": 38,
      "outputs": []
    },
    {
      "cell_type": "code",
      "source": [
        "tup1"
      ],
      "metadata": {
        "id": "mmyfx7v9_cl7",
        "outputId": "5b4fedc9-9839-466f-cdf5-42ac202a4870",
        "colab": {
          "base_uri": "https://localhost:8080/",
          "height": 148
        }
      },
      "execution_count": 41,
      "outputs": [
        {
          "output_type": "error",
          "ename": "NameError",
          "evalue": "name 'tup1' is not defined",
          "traceback": [
            "\u001b[0;31m---------------------------------------------------------------------------\u001b[0m",
            "\u001b[0;31mNameError\u001b[0m                                 Traceback (most recent call last)",
            "\u001b[0;32m<ipython-input-41-afd04ff38ac4>\u001b[0m in \u001b[0;36m<cell line: 0>\u001b[0;34m()\u001b[0m\n\u001b[0;32m----> 1\u001b[0;31m \u001b[0mtup1\u001b[0m\u001b[0;34m\u001b[0m\u001b[0;34m\u001b[0m\u001b[0m\n\u001b[0m",
            "\u001b[0;31mNameError\u001b[0m: name 'tup1' is not defined"
          ]
        }
      ]
    },
    {
      "cell_type": "code",
      "source": [
        "tup2"
      ],
      "metadata": {
        "id": "w8YLfP8I_bmn",
        "outputId": "e58dc13e-4baa-4378-902c-34c2a9e7b6fd",
        "colab": {
          "base_uri": "https://localhost:8080/"
        }
      },
      "execution_count": 39,
      "outputs": [
        {
          "output_type": "execute_result",
          "data": {
            "text/plain": [
              "(1, 2, 3, 4, 5)"
            ]
          },
          "metadata": {},
          "execution_count": 39
        }
      ]
    },
    {
      "cell_type": "code",
      "source": [
        "T1=(10,20,30,40)\n",
        "list_T1=list(T1)\n",
        "\n",
        "updated_list=[item+100 for item in list_T1]\n",
        "\n",
        "updated_tuple=tuple(updated_list)\n",
        "\n",
        "print(updated_tuple)"
      ],
      "metadata": {
        "id": "BMkRUXsG_d1a",
        "outputId": "0d87d505-1aae-4782-8f5e-8418fa869dc6",
        "colab": {
          "base_uri": "https://localhost:8080/"
        }
      },
      "execution_count": 42,
      "outputs": [
        {
          "output_type": "stream",
          "name": "stdout",
          "text": [
            "(110, 120, 130, 140)\n"
          ]
        }
      ]
    },
    {
      "cell_type": "code",
      "source": [
        "tup=(1,2,3)\n",
        "x,y,z=tup\n",
        "print(\"x : \",x,\"y : \",y,\"z : \",z)"
      ],
      "metadata": {
        "id": "JGYdwM8tAySl",
        "outputId": "1f956bf9-0c83-429a-a076-2b2d06742b83",
        "colab": {
          "base_uri": "https://localhost:8080/"
        }
      },
      "execution_count": 44,
      "outputs": [
        {
          "output_type": "stream",
          "name": "stdout",
          "text": [
            "x :  1 y :  2 z :  3\n"
          ]
        }
      ]
    },
    {
      "cell_type": "code",
      "source": [
        "x,*y=tup\n",
        "print(\"x : \",x,\"y : \",y)"
      ],
      "metadata": {
        "id": "OWxRAy3NB9ZM",
        "outputId": "56f29dc1-ed18-4465-836d-302f0538f355",
        "colab": {
          "base_uri": "https://localhost:8080/"
        }
      },
      "execution_count": 45,
      "outputs": [
        {
          "output_type": "stream",
          "name": "stdout",
          "text": [
            "x :  1 y :  [2, 3]\n"
          ]
        }
      ]
    },
    {
      "cell_type": "code",
      "source": [
        "tup1 = (10,20,30, 40, 50, 60)\n",
        "x, *y, z = tup1\n",
        "print (\"x: \",x, \"y: \", y, \"z: \", z)"
      ],
      "metadata": {
        "id": "pR6rcrK8CF_R",
        "outputId": "67cf7cca-1f3c-4dbb-f309-837d96add7a3",
        "colab": {
          "base_uri": "https://localhost:8080/"
        }
      },
      "execution_count": 47,
      "outputs": [
        {
          "output_type": "stream",
          "name": "stdout",
          "text": [
            "x:  10 y:  [20, 30, 40, 50] z:  60\n"
          ]
        }
      ]
    },
    {
      "cell_type": "code",
      "source": [
        "tup = (25, 12, 10, -21, 10, 100)\n",
        "for num in tup:\n",
        "   print (num, end = ' ')"
      ],
      "metadata": {
        "id": "vj4o5Xk5Ca_I",
        "outputId": "02d39e8f-7f4f-4996-a18d-3620283a4103",
        "colab": {
          "base_uri": "https://localhost:8080/"
        }
      },
      "execution_count": 48,
      "outputs": [
        {
          "output_type": "stream",
          "name": "stdout",
          "text": [
            "25 12 10 -21 10 100 "
          ]
        }
      ]
    },
    {
      "cell_type": "code",
      "source": [
        "T1 = (10,20,30,40)\n",
        "T2 = ('one', 'two', 'three', 'four')\n",
        "T3 = sum((T1, T2), ())\n",
        "print (\"Joined Tuple:\", T3)"
      ],
      "metadata": {
        "id": "yEWv3Q_pChRR",
        "outputId": "37fc378b-7a51-4614-bf8e-57522e76062d",
        "colab": {
          "base_uri": "https://localhost:8080/"
        }
      },
      "execution_count": 54,
      "outputs": [
        {
          "output_type": "stream",
          "name": "stdout",
          "text": [
            "Joined Tuple: (10, 20, 30, 40, 'one', 'two', 'three', 'four')\n"
          ]
        }
      ]
    },
    {
      "cell_type": "code",
      "source": [
        "tup1 = (10, 20/80, 0.25, 10/40, 30, 10, 55)\n",
        "print (\"Tup1:\", tup1)\n",
        "c = tup1.count(0.25)\n",
        "print (\"count of 0.25:\", c)"
      ],
      "metadata": {
        "id": "0WQ-D5clCu5t",
        "outputId": "0ae296a0-024a-45b9-ed73-9ab24eb24877",
        "colab": {
          "base_uri": "https://localhost:8080/"
        }
      },
      "execution_count": 52,
      "outputs": [
        {
          "output_type": "stream",
          "name": "stdout",
          "text": [
            "Tup1: (10, 0.25, 0.25, 0.25, 30, 10, 55)\n",
            "count of 0.25: 3\n"
          ]
        }
      ]
    },
    {
      "cell_type": "markdown",
      "source": [
        "# ***Sets***"
      ],
      "metadata": {
        "id": "FDV6HdSRD8AL"
      }
    },
    {
      "cell_type": "code",
      "source": [
        "myset={1,2,3,4}\n",
        "access_item=[item for item in myset]\n",
        "print(access_item)"
      ],
      "metadata": {
        "id": "eiq4imM6C5CN",
        "outputId": "3265319f-9e93-4500-cb89-90f4920f105d",
        "colab": {
          "base_uri": "https://localhost:8080/"
        }
      },
      "execution_count": 56,
      "outputs": [
        {
          "output_type": "stream",
          "name": "stdout",
          "text": [
            "[1, 2, 3, 4]\n"
          ]
        }
      ]
    },
    {
      "cell_type": "code",
      "source": [
        "import itertools\n",
        "\n",
        "set1={1,2,3,4}\n",
        "\n",
        "is_subset={1,2}.issubset(set1)\n",
        "print(is_subset)"
      ],
      "metadata": {
        "id": "5LxryGbuEGRL",
        "outputId": "10d91991-93d7-4662-f129-cfe19d56bf51",
        "colab": {
          "base_uri": "https://localhost:8080/"
        }
      },
      "execution_count": 57,
      "outputs": [
        {
          "output_type": "stream",
          "name": "stdout",
          "text": [
            "True\n"
          ]
        }
      ]
    },
    {
      "cell_type": "code",
      "source": [
        "subsets_with_2_elements=[set(subset) for subset in itertools.combinations(set1,2)]\n",
        "print(subsets_with_2_elements)"
      ],
      "metadata": {
        "id": "8CTaZGbrEb6S",
        "outputId": "4136f5f9-6c5f-48d5-cb49-a90ab9fbbe0f",
        "colab": {
          "base_uri": "https://localhost:8080/"
        }
      },
      "execution_count": 58,
      "outputs": [
        {
          "output_type": "stream",
          "name": "stdout",
          "text": [
            "[{1, 2}, {1, 3}, {1, 4}, {2, 3}, {2, 4}, {3, 4}]\n"
          ]
        }
      ]
    },
    {
      "cell_type": "code",
      "source": [
        "langs={\"C\",\"C++\",\"Java\",\"Python\"}\n",
        "\n",
        "if \"Java\" in langs:\n",
        "  print(\"Java is present.\")\n",
        "else:\n",
        "  print(\"Java is not present.\")\n",
        "\n",
        "if \"SQL\" not in langs:\n",
        "  print(\"SQL not in the set.\")\n",
        "else:\n",
        "  print(\"Present.\")"
      ],
      "metadata": {
        "id": "eLJTDUhhEprY",
        "outputId": "f44cbe2e-2389-40b0-9ac0-e26f789120bd",
        "colab": {
          "base_uri": "https://localhost:8080/"
        }
      },
      "execution_count": 59,
      "outputs": [
        {
          "output_type": "stream",
          "name": "stdout",
          "text": [
            "Java is present.\n",
            "SQL not in the set.\n"
          ]
        }
      ]
    },
    {
      "cell_type": "code",
      "source": [
        "language=set()\n",
        "\n",
        "language.add(\"C\")\n",
        "language.add(\"C++\")\n",
        "language.add(\"Java\")\n",
        "language.add(\"Python\")\n",
        "\n",
        "print(language)"
      ],
      "metadata": {
        "id": "hAQH79c6Gx7F",
        "outputId": "1d362b5b-5df7-4789-99ab-6b1486ab52ea",
        "colab": {
          "base_uri": "https://localhost:8080/"
        }
      },
      "execution_count": 60,
      "outputs": [
        {
          "output_type": "stream",
          "name": "stdout",
          "text": [
            "{'C++', 'Python', 'C', 'Java'}\n"
          ]
        }
      ]
    },
    {
      "cell_type": "code",
      "source": [
        "my_set={1,2,3}\n",
        "\n",
        "my_set.update([4,5,6])\n",
        "\n",
        "print(my_set)"
      ],
      "metadata": {
        "id": "U7rd0-7jHCjy",
        "outputId": "7a3f5869-5fa1-4a63-8342-8c5646ed9873",
        "colab": {
          "base_uri": "https://localhost:8080/"
        }
      },
      "execution_count": 61,
      "outputs": [
        {
          "output_type": "stream",
          "name": "stdout",
          "text": [
            "{1, 2, 3, 4, 5, 6}\n"
          ]
        }
      ]
    },
    {
      "cell_type": "code",
      "source": [
        "set1=set(\"Hello\")\n",
        "set1.update(\"World\")\n",
        "print(set1)"
      ],
      "metadata": {
        "id": "yRiBJBL3HLUq",
        "outputId": "23e78c80-16b0-428c-febf-ec208d0941ca",
        "colab": {
          "base_uri": "https://localhost:8080/"
        }
      },
      "execution_count": 62,
      "outputs": [
        {
          "output_type": "stream",
          "name": "stdout",
          "text": [
            "{'r', 'o', 'H', 'e', 'l', 'W', 'd'}\n"
          ]
        }
      ]
    },
    {
      "cell_type": "code",
      "source": [
        "lang1 = {\"C\", \"C++\", \"Java\", \"Python\"}\n",
        "lang2 = [\"PHP\", \"C#\", \"Perl\"]\n",
        "lang3 = lang1.union(lang2)\n",
        "print (lang3)"
      ],
      "metadata": {
        "id": "hs1pODSUHa40",
        "outputId": "e53b01cb-f460-47b9-b195-6048d18ad628",
        "colab": {
          "base_uri": "https://localhost:8080/"
        }
      },
      "execution_count": 63,
      "outputs": [
        {
          "output_type": "stream",
          "name": "stdout",
          "text": [
            "{'C', 'C#', 'PHP', 'Python', 'Perl', 'C++', 'Java'}\n"
          ]
        }
      ]
    },
    {
      "cell_type": "markdown",
      "source": [
        "#***Dictionaries***"
      ],
      "metadata": {
        "id": "80T6rAFeN9v1"
      }
    },
    {
      "cell_type": "code",
      "source": [
        "sports_player = {\n",
        "   \"Name\": \"Sachin Tendulkar\",\n",
        "   \"Age\": 48,\n",
        "   \"Sport\": \"Cricket\"\n",
        "}\n",
        "print(sports_player)"
      ],
      "metadata": {
        "id": "l4yEpoHYN9cs",
        "outputId": "1c74965b-5387-4ae6-f918-b0829074ca9c",
        "colab": {
          "base_uri": "https://localhost:8080/"
        }
      },
      "execution_count": 70,
      "outputs": [
        {
          "output_type": "stream",
          "name": "stdout",
          "text": [
            "{'Name': 'Sachin Tendulkar', 'Age': 48, 'Sport': 'Cricket'}\n"
          ]
        }
      ]
    },
    {
      "cell_type": "code",
      "source": [
        "student_info=dict(name=\"Rahul\",age=21,subject=\"Data Mining\")\n",
        "print(student_info)"
      ],
      "metadata": {
        "id": "QhUkYmxFOKOt",
        "outputId": "23f62a39-2ff0-47ca-8900-1ac18aa8b14f",
        "colab": {
          "base_uri": "https://localhost:8080/"
        }
      },
      "execution_count": 71,
      "outputs": [
        {
          "output_type": "stream",
          "name": "stdout",
          "text": [
            "{'name': 'Rahul', 'age': 21, 'subject': 'Data Mining'}\n"
          ]
        }
      ]
    },
    {
      "cell_type": "code",
      "source": [
        "name=student_info[\"name\"]\n",
        "print(name)"
      ],
      "metadata": {
        "id": "WQjP1-cCOV-z",
        "outputId": "2fbcf6fa-a394-4b27-bf1d-10225b9fc29d",
        "colab": {
          "base_uri": "https://localhost:8080/"
        }
      },
      "execution_count": 73,
      "outputs": [
        {
          "output_type": "stream",
          "name": "stdout",
          "text": [
            "Rahul\n"
          ]
        }
      ]
    },
    {
      "cell_type": "code",
      "source": [
        "name=student_info[\"age\"]\n",
        "print(name)"
      ],
      "metadata": {
        "id": "wB4cqYgNOegf",
        "outputId": "d829d290-2d74-48d9-9b5c-406cc71fdd8a",
        "colab": {
          "base_uri": "https://localhost:8080/"
        }
      },
      "execution_count": 74,
      "outputs": [
        {
          "output_type": "stream",
          "name": "stdout",
          "text": [
            "21\n"
          ]
        }
      ]
    },
    {
      "cell_type": "code",
      "source": [
        "# Modifying an existing key-value pair\n",
        "student_info[\"age\"] = 22\n",
        "\n",
        "# Adding a new key-value pair\n",
        "student_info[\"graduation_year\"] = 2023\n",
        "print(\"The modified dictionary is:\",student_info)"
      ],
      "metadata": {
        "id": "tWx5zg8-Oj71",
        "outputId": "aa7a978f-459a-4d9a-d03b-e4f45cbda84b",
        "colab": {
          "base_uri": "https://localhost:8080/"
        }
      },
      "execution_count": 75,
      "outputs": [
        {
          "output_type": "stream",
          "name": "stdout",
          "text": [
            "The modified dictionary is: {'name': 'Rahul', 'age': 22, 'subject': 'Data Mining', 'graduation_year': 2023}\n"
          ]
        }
      ]
    },
    {
      "cell_type": "markdown",
      "source": [
        "##**Program 1**:\n",
        "Write python code to accept words from the user until a blank line is entered. The output should display the words exactly once, in the order in which they were entered.\n",
        "\n",
        "##**Example Input:**\n",
        "red\n",
        "\n",
        "black\n",
        "\n",
        "red\n",
        "\n",
        "orange\n",
        "\n",
        "black\n",
        "\n",
        "##**Output:**\n",
        "red\n",
        "\n",
        "black\n",
        "\n",
        "orange"
      ],
      "metadata": {
        "id": "b3wPIhW7MLpR"
      }
    },
    {
      "cell_type": "code",
      "source": [
        "words = set()\n",
        "unique_words = []\n",
        "\n",
        "while True:\n",
        "    word = input(\"Input: \").strip()  # Remove leading/trailing spaces\n",
        "    if word==\"\":  # Stop on blank line\n",
        "        break\n",
        "    if word not in words:\n",
        "        words.add(word)\n",
        "        unique_words.append(word)\n",
        "\n",
        "print(\"Unique words are:\")\n",
        "for word in unique_words:\n",
        "    print(word)"
      ],
      "metadata": {
        "id": "bbpyaP8EHiah",
        "outputId": "602ca52d-4058-4395-bad2-de1a76b0d453",
        "colab": {
          "base_uri": "https://localhost:8080/"
        }
      },
      "execution_count": 67,
      "outputs": [
        {
          "output_type": "stream",
          "name": "stdout",
          "text": [
            "Input: red\n",
            "Input: orange\n",
            "Input: red\n",
            "Input: black\n",
            "Input: \n",
            "Unique words are:\n",
            "red\n",
            "orange\n",
            "black\n"
          ]
        }
      ]
    },
    {
      "cell_type": "markdown",
      "source": [
        "#**Program 2:**\n",
        "Write a program to create a dictionary from two lists. The list values are to be inputted by the user.\n",
        "##**Example**:\n",
        "List\n",
        "1: [red, orange, black]\n",
        "\n",
        "List\n",
        "2: [200, 300, 100]\n",
        "##**Output:**\n",
        "{'red': '200', 'orange': '300', 'black': '100'}"
      ],
      "metadata": {
        "id": "kEtboziAMkjn"
      }
    },
    {
      "cell_type": "code",
      "source": [
        "list1=input(\"Enter list1: \").split(\" \")\n",
        "list2=input(\"Enter list2: \").split(\" \")\n",
        "dict1=dict(zip(list1,list2))\n",
        "print(dict1)"
      ],
      "metadata": {
        "id": "FhtY4YltJIXp",
        "outputId": "63f64ce3-b6b2-4ed8-eb17-ebcef173417a",
        "colab": {
          "base_uri": "https://localhost:8080/"
        }
      },
      "execution_count": 69,
      "outputs": [
        {
          "output_type": "stream",
          "name": "stdout",
          "text": [
            "Enter list1: red orange black\n",
            "Enter list2: 200 300 100\n",
            "{'red': '200', 'orange': '300', 'black': '100'}\n"
          ]
        }
      ]
    },
    {
      "cell_type": "code",
      "source": [],
      "metadata": {
        "id": "l3fYsvwcNdH1"
      },
      "execution_count": null,
      "outputs": []
    }
  ]
}