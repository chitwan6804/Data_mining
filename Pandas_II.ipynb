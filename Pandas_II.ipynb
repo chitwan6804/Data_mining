{
  "nbformat": 4,
  "nbformat_minor": 0,
  "metadata": {
    "colab": {
      "provenance": [],
      "authorship_tag": "ABX9TyMvnmTwPtm8NOSRrgJgFusA",
      "include_colab_link": true
    },
    "kernelspec": {
      "name": "python3",
      "display_name": "Python 3"
    },
    "language_info": {
      "name": "python"
    }
  },
  "cells": [
    {
      "cell_type": "markdown",
      "metadata": {
        "id": "view-in-github",
        "colab_type": "text"
      },
      "source": [
        "<a href=\"https://colab.research.google.com/github/chitwan6804/Data_mining/blob/main/Pandas_II.ipynb\" target=\"_parent\"><img src=\"https://colab.research.google.com/assets/colab-badge.svg\" alt=\"Open In Colab\"/></a>"
      ]
    },
    {
      "cell_type": "code",
      "execution_count": null,
      "metadata": {
        "colab": {
          "base_uri": "https://localhost:8080/"
        },
        "id": "zPa_Z5u_7WCm",
        "outputId": "81b51d1e-6c2f-41a6-b863-e31d47611a61"
      },
      "outputs": [
        {
          "output_type": "stream",
          "name": "stdout",
          "text": [
            "  Group  Value  Rolling_Sum\n",
            "0     A     10          NaN\n",
            "1     A     20         30.0\n",
            "2     B     15         35.0\n",
            "3     B     25         40.0\n",
            "4     B     30         55.0\n"
          ]
        }
      ],
      "source": [
        "import pandas as pd\n",
        "df = pd.DataFrame({'Group': ['A', 'A', 'B', 'B', 'B'], 'Value': [10, 20, 15, 25, 30]})\n",
        "df['Rolling_Sum'] = df['Value'].rolling(window=2).sum()\n",
        "print(df)\n"
      ]
    },
    {
      "cell_type": "code",
      "source": [
        "df['Cumulative_Sum'] = df['Value'].cumsum()\n",
        "print(df)"
      ],
      "metadata": {
        "colab": {
          "base_uri": "https://localhost:8080/"
        },
        "id": "VU9JGGBN7YXO",
        "outputId": "5240b66e-2e96-45bc-d643-a2a510a38eb1"
      },
      "execution_count": null,
      "outputs": [
        {
          "output_type": "stream",
          "name": "stdout",
          "text": [
            "  Group  Value  Rolling_Sum  Cumulative_Sum\n",
            "0     A     10          NaN              10\n",
            "1     A     20         30.0              30\n",
            "2     B     15         35.0              45\n",
            "3     B     25         40.0              70\n",
            "4     B     30         55.0             100\n"
          ]
        }
      ]
    },
    {
      "cell_type": "code",
      "source": [
        "df['Expanding_Mean'] = df['Value'].expanding().mean()\n",
        "print(df)"
      ],
      "metadata": {
        "colab": {
          "base_uri": "https://localhost:8080/"
        },
        "id": "t9q3m5a97bMt",
        "outputId": "400ddf39-e8ca-41e7-a9f4-8b2bfbfa71a3"
      },
      "execution_count": null,
      "outputs": [
        {
          "output_type": "stream",
          "name": "stdout",
          "text": [
            "  Group  Value  Rolling_Sum  Cumulative_Sum  Expanding_Mean\n",
            "0     A     10          NaN              10            10.0\n",
            "1     A     20         30.0              30            15.0\n",
            "2     B     15         35.0              45            15.0\n",
            "3     B     25         40.0              70            17.5\n",
            "4     B     30         55.0             100            20.0\n"
          ]
        }
      ]
    },
    {
      "cell_type": "code",
      "source": [
        "df['Rank'] = df.groupby('Group')['Value'].rank(method='first')\n",
        "print(df)"
      ],
      "metadata": {
        "colab": {
          "base_uri": "https://localhost:8080/"
        },
        "id": "DoxPHi7M7e8r",
        "outputId": "5b0ca83d-3a2d-4e54-82f7-2bcb5d356813"
      },
      "execution_count": null,
      "outputs": [
        {
          "output_type": "stream",
          "name": "stdout",
          "text": [
            "  Group  Value  Rolling_Sum  Cumulative_Sum  Expanding_Mean  Rank\n",
            "0     A     10          NaN              10            10.0   1.0\n",
            "1     A     20         30.0              30            15.0   2.0\n",
            "2     B     15         35.0              45            15.0   1.0\n",
            "3     B     25         40.0              70            17.5   2.0\n",
            "4     B     30         55.0             100            20.0   3.0\n"
          ]
        }
      ]
    },
    {
      "cell_type": "code",
      "source": [
        "df['Rolling_Mean'] = df['Value'].rolling(2).apply(lambda x: x.mean())\n",
        "print(df)"
      ],
      "metadata": {
        "colab": {
          "base_uri": "https://localhost:8080/"
        },
        "id": "WRhuVYj47j_U",
        "outputId": "e11b5afc-59bc-4fa4-c4b1-b022e39e9134"
      },
      "execution_count": null,
      "outputs": [
        {
          "output_type": "stream",
          "name": "stdout",
          "text": [
            "  Group  Value  Rolling_Sum  Cumulative_Sum  Expanding_Mean  Rank  \\\n",
            "0     A     10          NaN              10            10.0   1.0   \n",
            "1     A     20         30.0              30            15.0   2.0   \n",
            "2     B     15         35.0              45            15.0   1.0   \n",
            "3     B     25         40.0              70            17.5   2.0   \n",
            "4     B     30         55.0             100            20.0   3.0   \n",
            "\n",
            "   Rolling_Mean  \n",
            "0           NaN  \n",
            "1          15.0  \n",
            "2          17.5  \n",
            "3          20.0  \n",
            "4          27.5  \n"
          ]
        }
      ]
    },
    {
      "cell_type": "code",
      "source": [
        "df = pd.DataFrame({'Category': ['A', 'A', 'B', 'B'], 'Sales': [200, 150, 300, 400]})\n",
        "print(df['Sales'].sum())\n"
      ],
      "metadata": {
        "colab": {
          "base_uri": "https://localhost:8080/"
        },
        "id": "9lVUo0ti7tCm",
        "outputId": "10d1e420-5779-4fee-db28-3a45fb185376"
      },
      "execution_count": null,
      "outputs": [
        {
          "output_type": "stream",
          "name": "stdout",
          "text": [
            "1050\n"
          ]
        }
      ]
    },
    {
      "cell_type": "code",
      "source": [
        "print(df['Sales'].mean())"
      ],
      "metadata": {
        "colab": {
          "base_uri": "https://localhost:8080/"
        },
        "id": "sFncRK_H725N",
        "outputId": "88fad949-2a51-428f-eea8-d7265d66d03d"
      },
      "execution_count": null,
      "outputs": [
        {
          "output_type": "stream",
          "name": "stdout",
          "text": [
            "262.5\n"
          ]
        }
      ]
    },
    {
      "cell_type": "code",
      "source": [
        "print(df['Sales'].min(), df['Sales'].max())"
      ],
      "metadata": {
        "colab": {
          "base_uri": "https://localhost:8080/"
        },
        "id": "N_3zWdfp763E",
        "outputId": "ede25697-a1ee-4abd-f9b6-b02d09b6be5a"
      },
      "execution_count": null,
      "outputs": [
        {
          "output_type": "stream",
          "name": "stdout",
          "text": [
            "150 400\n"
          ]
        }
      ]
    },
    {
      "cell_type": "code",
      "source": [
        "print(df['Sales'].count())"
      ],
      "metadata": {
        "colab": {
          "base_uri": "https://localhost:8080/"
        },
        "id": "POjytfrU79Ys",
        "outputId": "9754dfda-e102-4f6f-8e8c-178a9aad0645"
      },
      "execution_count": null,
      "outputs": [
        {
          "output_type": "stream",
          "name": "stdout",
          "text": [
            "4\n"
          ]
        }
      ]
    },
    {
      "cell_type": "code",
      "source": [
        "print(df.agg({'Sales': ['sum', 'mean', 'min']}))"
      ],
      "metadata": {
        "colab": {
          "base_uri": "https://localhost:8080/"
        },
        "id": "S4bJfnm28Aju",
        "outputId": "c1d14fda-a6cc-471c-b2c1-9ab0f7063443"
      },
      "execution_count": null,
      "outputs": [
        {
          "output_type": "stream",
          "name": "stdout",
          "text": [
            "       Sales\n",
            "sum   1050.0\n",
            "mean   262.5\n",
            "min    150.0\n"
          ]
        }
      ]
    },
    {
      "cell_type": "code",
      "source": [
        "df = pd.DataFrame({'A': [1, 2, None, 4], 'B': [None, 5, 6, 7]})\n",
        "print(df.isnull())"
      ],
      "metadata": {
        "colab": {
          "base_uri": "https://localhost:8080/"
        },
        "id": "oxm8E41M8Cf4",
        "outputId": "fd80802f-8d01-461f-8030-83a9e137aad8"
      },
      "execution_count": null,
      "outputs": [
        {
          "output_type": "stream",
          "name": "stdout",
          "text": [
            "       A      B\n",
            "0  False   True\n",
            "1  False  False\n",
            "2   True  False\n",
            "3  False  False\n"
          ]
        }
      ]
    },
    {
      "cell_type": "code",
      "source": [
        "df_filled = df.fillna(0)\n",
        "print( df_filled)\n"
      ],
      "metadata": {
        "colab": {
          "base_uri": "https://localhost:8080/"
        },
        "id": "fM5FMZtj8Fje",
        "outputId": "13a117b6-75ea-4127-8f7c-589b65668e42"
      },
      "execution_count": null,
      "outputs": [
        {
          "output_type": "stream",
          "name": "stdout",
          "text": [
            "     A    B\n",
            "0  1.0  0.0\n",
            "1  2.0  5.0\n",
            "2  0.0  6.0\n",
            "3  4.0  7.0\n"
          ]
        }
      ]
    },
    {
      "cell_type": "code",
      "source": [
        "df_mean = df.fillna(df.mean())\n",
        "print( df_mean)\n"
      ],
      "metadata": {
        "colab": {
          "base_uri": "https://localhost:8080/"
        },
        "id": "oOC4yTlw8IwT",
        "outputId": "eaaa37dd-9b28-4299-c511-cc8a7621607f"
      },
      "execution_count": null,
      "outputs": [
        {
          "output_type": "stream",
          "name": "stdout",
          "text": [
            "          A    B\n",
            "0  1.000000  6.0\n",
            "1  2.000000  5.0\n",
            "2  2.333333  6.0\n",
            "3  4.000000  7.0\n"
          ]
        }
      ]
    },
    {
      "cell_type": "code",
      "source": [
        "df_dropped = df.dropna()\n",
        "print( df_dropped)\n"
      ],
      "metadata": {
        "colab": {
          "base_uri": "https://localhost:8080/"
        },
        "id": "4ty3QSqi8LVe",
        "outputId": "c768d06b-67f9-49a3-f757-2c0a3396bee1"
      },
      "execution_count": null,
      "outputs": [
        {
          "output_type": "stream",
          "name": "stdout",
          "text": [
            "     A    B\n",
            "1  2.0  5.0\n",
            "3  4.0  7.0\n"
          ]
        }
      ]
    },
    {
      "cell_type": "code",
      "source": [
        "df_ffill = df.ffill()\n",
        "print( df_ffill)\n"
      ],
      "metadata": {
        "colab": {
          "base_uri": "https://localhost:8080/"
        },
        "id": "vdbdZQCE8OTm",
        "outputId": "0321beed-4524-4ae1-8984-afcde7b0fc3e"
      },
      "execution_count": null,
      "outputs": [
        {
          "output_type": "stream",
          "name": "stdout",
          "text": [
            "     A    B\n",
            "0  1.0  NaN\n",
            "1  2.0  5.0\n",
            "2  2.0  6.0\n",
            "3  4.0  7.0\n"
          ]
        }
      ]
    },
    {
      "cell_type": "code",
      "source": [
        "df = pd.DataFrame({'Department': ['HR', 'IT', 'HR', 'IT', 'HR'],\n",
        "                   'Salary': [50000, 60000, 52000, 65000, 48000]})\n",
        "print(df.groupby('Department')['Salary'].sum())\n"
      ],
      "metadata": {
        "colab": {
          "base_uri": "https://localhost:8080/"
        },
        "id": "LVJmk1gS8RPl",
        "outputId": "2715116e-7cd6-4e51-b3bc-c83fb38be0f6"
      },
      "execution_count": null,
      "outputs": [
        {
          "output_type": "stream",
          "name": "stdout",
          "text": [
            "Department\n",
            "HR    150000\n",
            "IT    125000\n",
            "Name: Salary, dtype: int64\n"
          ]
        }
      ]
    },
    {
      "cell_type": "code",
      "source": [
        "print(df.groupby('Department')['Salary'].mean())"
      ],
      "metadata": {
        "colab": {
          "base_uri": "https://localhost:8080/"
        },
        "id": "OuXkfLxx8Tvy",
        "outputId": "c05f8601-cdba-40f0-9b7b-cd277f5f1a13"
      },
      "execution_count": null,
      "outputs": [
        {
          "output_type": "stream",
          "name": "stdout",
          "text": [
            "Department\n",
            "HR    50000.0\n",
            "IT    62500.0\n",
            "Name: Salary, dtype: float64\n"
          ]
        }
      ]
    },
    {
      "cell_type": "code",
      "source": [
        "df1 = pd.DataFrame({'ID': [1, 2, 3], 'Name': ['Alice', 'Bob', 'Charlie']})\n",
        "df2 = pd.DataFrame({'ID': [1, 2, 4], 'Salary': [50000, 60000, 70000]})\n",
        "print(df1.merge(df2, on='ID', how='inner'))\n"
      ],
      "metadata": {
        "colab": {
          "base_uri": "https://localhost:8080/"
        },
        "id": "wsnMX6MC8Wem",
        "outputId": "ac747cb5-ed04-4dc4-972f-e56974c5d092"
      },
      "execution_count": null,
      "outputs": [
        {
          "output_type": "stream",
          "name": "stdout",
          "text": [
            "   ID   Name  Salary\n",
            "0   1  Alice   50000\n",
            "1   2    Bob   60000\n"
          ]
        }
      ]
    },
    {
      "cell_type": "code",
      "source": [
        "df1 = pd.DataFrame({'A': [1, 2], 'B': [3, 4]})\n",
        "df2 = pd.DataFrame({'A': [5, 6], 'B': [7, 8]})\n",
        "print(pd.concat([df1, df2], axis=0))"
      ],
      "metadata": {
        "colab": {
          "base_uri": "https://localhost:8080/"
        },
        "id": "exF8wlkE8Z8S",
        "outputId": "db101e49-c2bb-4334-b326-e1ec11fd58f9"
      },
      "execution_count": null,
      "outputs": [
        {
          "output_type": "stream",
          "name": "stdout",
          "text": [
            "   A  B\n",
            "0  1  3\n",
            "1  2  4\n",
            "0  5  7\n",
            "1  6  8\n"
          ]
        }
      ]
    },
    {
      "cell_type": "code",
      "source": [
        "print(pd.concat([df1, df2], axis=1))"
      ],
      "metadata": {
        "colab": {
          "base_uri": "https://localhost:8080/"
        },
        "id": "CDP5mCB58dvL",
        "outputId": "33d2308b-ef09-4025-c62e-7eb79541d485"
      },
      "execution_count": null,
      "outputs": [
        {
          "output_type": "stream",
          "name": "stdout",
          "text": [
            "   A  B  A  B\n",
            "0  1  3  5  7\n",
            "1  2  4  6  8\n"
          ]
        }
      ]
    },
    {
      "cell_type": "code",
      "source": [
        "df3 = pd.DataFrame({'C': [9, 10]})\n",
        "print(pd.concat([df1, df3], axis=1))"
      ],
      "metadata": {
        "colab": {
          "base_uri": "https://localhost:8080/"
        },
        "id": "6lgyZi1x8hwd",
        "outputId": "7438a410-98cc-4b39-b887-0417c7fc4d75"
      },
      "execution_count": null,
      "outputs": [
        {
          "output_type": "stream",
          "name": "stdout",
          "text": [
            "   A  B   C\n",
            "0  1  3   9\n",
            "1  2  4  10\n"
          ]
        }
      ]
    },
    {
      "cell_type": "code",
      "source": [
        "df = pd.DataFrame({'Date': ['2023-01-01', '2023-02-01']})\n",
        "df['Date'] = pd.to_datetime(df['Date'])\n",
        "print(df)\n"
      ],
      "metadata": {
        "colab": {
          "base_uri": "https://localhost:8080/"
        },
        "id": "aDDE4UeS8nVT",
        "outputId": "c22f5d87-3b94-4675-ad09-3f18b448cf8f"
      },
      "execution_count": null,
      "outputs": [
        {
          "output_type": "stream",
          "name": "stdout",
          "text": [
            "        Date\n",
            "0 2023-01-01\n",
            "1 2023-02-01\n"
          ]
        }
      ]
    },
    {
      "cell_type": "code",
      "source": [
        "df['Year'] = df['Date'].dt.year\n",
        "df['Month'] = df['Date'].dt.month\n",
        "df['Day'] = df['Date'].dt.day\n",
        "print(df)\n"
      ],
      "metadata": {
        "colab": {
          "base_uri": "https://localhost:8080/"
        },
        "id": "b737k1_o8rcV",
        "outputId": "20479a48-8eb5-4c0c-a55f-f71c863e8201"
      },
      "execution_count": null,
      "outputs": [
        {
          "output_type": "stream",
          "name": "stdout",
          "text": [
            "        Date  Year  Month  Day\n",
            "0 2023-01-01  2023      1    1\n",
            "1 2023-02-01  2023      2    1\n"
          ]
        }
      ]
    },
    {
      "cell_type": "code",
      "source": [
        "print(pd.date_range(start='2023-01-01', periods=5, freq='D'))"
      ],
      "metadata": {
        "colab": {
          "base_uri": "https://localhost:8080/"
        },
        "id": "8-gCP3LU8uAa",
        "outputId": "2b6bda22-60a2-471c-f84c-ba1876bcd736"
      },
      "execution_count": null,
      "outputs": [
        {
          "output_type": "stream",
          "name": "stdout",
          "text": [
            "DatetimeIndex(['2023-01-01', '2023-01-02', '2023-01-03', '2023-01-04',\n",
            "               '2023-01-05'],\n",
            "              dtype='datetime64[ns]', freq='D')\n"
          ]
        }
      ]
    },
    {
      "cell_type": "code",
      "source": [
        "td = pd.Timedelta(days=5, hours=3, minutes=30)"
      ],
      "metadata": {
        "id": "BBbH6xVN8w_3"
      },
      "execution_count": null,
      "outputs": []
    },
    {
      "cell_type": "code",
      "source": [
        "df = pd.DataFrame({'Start': pd.to_datetime(['2024-01-01', '2024-02-01']),\n",
        "                   'End': pd.to_datetime(['2024-01-05', '2024-02-10'])})\n",
        "df['Duration'] = df['End'] - df['Start']\n",
        "print(df)\n"
      ],
      "metadata": {
        "colab": {
          "base_uri": "https://localhost:8080/"
        },
        "id": "30tBVARW805D",
        "outputId": "f9a928e9-5d3e-417c-9258-1c81124c4431"
      },
      "execution_count": null,
      "outputs": [
        {
          "output_type": "stream",
          "name": "stdout",
          "text": [
            "       Start        End Duration\n",
            "0 2024-01-01 2024-01-05   4 days\n",
            "1 2024-02-01 2024-02-10   9 days\n"
          ]
        }
      ]
    },
    {
      "cell_type": "code",
      "source": [
        "df = pd.DataFrame({'Category': pd.Categorical(['Low', 'Medium', 'High', 'Medium', 'Low'])})\n",
        "print(df['Category'])\n"
      ],
      "metadata": {
        "colab": {
          "base_uri": "https://localhost:8080/"
        },
        "id": "SYsDmAJ783Rl",
        "outputId": "9b448097-cb33-4f2d-a815-b5e32d14d0e8"
      },
      "execution_count": null,
      "outputs": [
        {
          "output_type": "stream",
          "name": "stdout",
          "text": [
            "0       Low\n",
            "1    Medium\n",
            "2      High\n",
            "3    Medium\n",
            "4       Low\n",
            "Name: Category, dtype: category\n",
            "Categories (3, object): ['High', 'Low', 'Medium']\n"
          ]
        }
      ]
    },
    {
      "cell_type": "code",
      "source": [
        "df['Category'] = df['Category'].astype(pd.CategoricalDtype(categories=['Low', 'Medium', 'High'], ordered=True))\n",
        "print(df['Category'].cat.categories)\n"
      ],
      "metadata": {
        "colab": {
          "base_uri": "https://localhost:8080/"
        },
        "id": "2KmTzhyZ87AD",
        "outputId": "1da8bb16-c067-4307-f201-fb418faade7b"
      },
      "execution_count": null,
      "outputs": [
        {
          "output_type": "stream",
          "name": "stdout",
          "text": [
            "Index(['Low', 'Medium', 'High'], dtype='object')\n"
          ]
        }
      ]
    },
    {
      "cell_type": "code",
      "source": [],
      "metadata": {
        "id": "tZyrpwIG89zH"
      },
      "execution_count": null,
      "outputs": []
    }
  ]
}