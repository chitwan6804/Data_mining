{
  "nbformat": 4,
  "nbformat_minor": 0,
  "metadata": {
    "colab": {
      "provenance": [],
      "authorship_tag": "ABX9TyNtpiqscc31H2nkfqPnTXaP",
      "include_colab_link": true
    },
    "kernelspec": {
      "name": "python3",
      "display_name": "Python 3"
    },
    "language_info": {
      "name": "python"
    }
  },
  "cells": [
    {
      "cell_type": "markdown",
      "metadata": {
        "id": "view-in-github",
        "colab_type": "text"
      },
      "source": [
        "<a href=\"https://colab.research.google.com/github/chitwan6804/Data_mining/blob/main/Pandas_I.ipynb\" target=\"_parent\"><img src=\"https://colab.research.google.com/assets/colab-badge.svg\" alt=\"Open In Colab\"/></a>"
      ]
    },
    {
      "cell_type": "code",
      "execution_count": null,
      "metadata": {
        "id": "W1JXiW2ljaM9"
      },
      "outputs": [],
      "source": [
        "import pandas as pd"
      ]
    },
    {
      "cell_type": "markdown",
      "source": [
        "Forming Series from data"
      ],
      "metadata": {
        "id": "GZl4M2w4lNgI"
      }
    },
    {
      "cell_type": "code",
      "source": [
        "data=['Chitwan',20,'Female']\n",
        "series=pd.Series(data,index=['Name','Age','Gender'])\n",
        "print(\"Data is stored as: \\n\",data)\n",
        "print(\"\\nSeries is stored as: \\n\",series)"
      ],
      "metadata": {
        "colab": {
          "base_uri": "https://localhost:8080/"
        },
        "id": "pZhZ2uk7jwRw",
        "outputId": "2ead8447-e7b6-44fe-84cc-4b45af597e2e"
      },
      "execution_count": null,
      "outputs": [
        {
          "output_type": "stream",
          "name": "stdout",
          "text": [
            "Data is stored as: \n",
            " ['Chitwan', 20, 'Female']\n",
            "\n",
            "Series is stored as: \n",
            " Name      Chitwan\n",
            "Age            20\n",
            "Gender     Female\n",
            "dtype: object\n"
          ]
        }
      ]
    },
    {
      "cell_type": "markdown",
      "source": [
        "Forming dataframe from data"
      ],
      "metadata": {
        "id": "6IXCF00_lRPg"
      }
    },
    {
      "cell_type": "code",
      "source": [
        "data={\n",
        "    'Name': ['Steve','Lia','Vin','Katie'],\n",
        "    'Age': [32,28,45,38],\n",
        "    'Gender': ['Male','Female','Male','Female'],\n",
        "    'Rating': [3.45,4.6,3.9,2.78]\n",
        "}\n",
        "df=pd.DataFrame(data)\n",
        "print(\"\\nDataFrame is stored as: \\n\",df)"
      ],
      "metadata": {
        "colab": {
          "base_uri": "https://localhost:8080/"
        },
        "id": "tVI6KIFCj_MM",
        "outputId": "10740ec1-f80b-4ce4-caae-5765c2849477"
      },
      "execution_count": null,
      "outputs": [
        {
          "output_type": "stream",
          "name": "stdout",
          "text": [
            "\n",
            "DataFrame is stored as: \n",
            "     Name  Age  Gender  Rating\n",
            "0  Steve   32    Male    3.45\n",
            "1    Lia   28  Female    4.60\n",
            "2    Vin   45    Male    3.90\n",
            "3  Katie   38  Female    2.78\n"
          ]
        }
      ]
    },
    {
      "cell_type": "markdown",
      "source": [
        "Searching for only names column from the dataframe"
      ],
      "metadata": {
        "id": "GXymU67xlUzF"
      }
    },
    {
      "cell_type": "code",
      "source": [
        "print(\"Names in the list are as follows:\\n\");\n",
        "print(df['Name'])"
      ],
      "metadata": {
        "colab": {
          "base_uri": "https://localhost:8080/"
        },
        "id": "0k1L3mTpk_RX",
        "outputId": "c097aee2-abd6-444b-88f8-5972752b78d9"
      },
      "execution_count": null,
      "outputs": [
        {
          "output_type": "stream",
          "name": "stdout",
          "text": [
            "Names in the list are as follows:\n",
            "\n",
            "0    Steve\n",
            "1      Lia\n",
            "2      Vin\n",
            "3    Katie\n",
            "Name: Name, dtype: object\n"
          ]
        }
      ]
    },
    {
      "cell_type": "markdown",
      "source": [
        "Index types:\n",
        "(By default it is numerical index)"
      ],
      "metadata": {
        "id": "z9qYQLigmJ4G"
      }
    },
    {
      "cell_type": "code",
      "source": [
        "print(\"\\nDatafrane Index object Type:\",df.index.dtype)"
      ],
      "metadata": {
        "colab": {
          "base_uri": "https://localhost:8080/"
        },
        "id": "MgNxXZo7lJkb",
        "outputId": "0f591872-1c14-4135-8688-748a2b6ce827"
      },
      "execution_count": null,
      "outputs": [
        {
          "output_type": "stream",
          "name": "stdout",
          "text": [
            "\n",
            "Datafrane Index object Type: int64\n"
          ]
        }
      ]
    },
    {
      "cell_type": "code",
      "source": [
        "#CategoricalIndex\n",
        "categories=pd.CategoricalIndex(['a','b','a','d'])\n",
        "df=pd.DataFrame({'Col1':[1,2,3,4], 'Col2':[5,6,7,8]}, index=categories)\n",
        "print('Input DataFrame:\\n',df)\n",
        "print(\"\\nDatafrane Index object Type:\",df.index.dtype)"
      ],
      "metadata": {
        "colab": {
          "base_uri": "https://localhost:8080/"
        },
        "id": "H8aCidZYmI69",
        "outputId": "d07efbcc-ef1c-4de4-9709-d4266c9b8460"
      },
      "execution_count": null,
      "outputs": [
        {
          "output_type": "stream",
          "name": "stdout",
          "text": [
            "Input DataFrame:\n",
            "    Col1  Col2\n",
            "a     1     5\n",
            "b     2     6\n",
            "a     3     7\n",
            "d     4     8\n",
            "\n",
            "Datafrane Index object Type: category\n"
          ]
        }
      ]
    },
    {
      "cell_type": "code",
      "source": [
        "#IntervalIndex\n",
        "interval_idx=pd.interval_range(start=1,end=5)\n",
        "df=pd.DataFrame({'Col1':[1,2,3,4], 'Col2':[5,6,7,8]}, index=interval_idx)\n",
        "print('Input DataFrame:\\n',df)\n",
        "print(\"\\nDatafrane Index object Type:\",df.index.dtype)"
      ],
      "metadata": {
        "colab": {
          "base_uri": "https://localhost:8080/"
        },
        "id": "n6ulqeeyms9s",
        "outputId": "1c5d4920-f17d-49f5-c54b-f1cf46759bb1"
      },
      "execution_count": null,
      "outputs": [
        {
          "output_type": "stream",
          "name": "stdout",
          "text": [
            "Input DataFrame:\n",
            "         Col1  Col2\n",
            "(1, 2]     1     5\n",
            "(2, 3]     2     6\n",
            "(3, 4]     3     7\n",
            "(4, 5]     4     8\n",
            "\n",
            "Datafrane Index object Type: interval[int64, right]\n"
          ]
        }
      ]
    },
    {
      "cell_type": "code",
      "source": [
        "#Create MultiIndex\n",
        "arrays=[[1,1,2,2],['red','blue','red','blue']]\n",
        "multi_idx=pd.MultiIndex.from_arrays(arrays,names=('number','color'))\n",
        "df=pd.DataFrame({'value1':[1,2,3,4],'value2':[5,6,7,8]},index=multi_idx)\n",
        "print('Input DataFrame:\\n',df)\n",
        "print(\"\\nDatafrane Index object Type:\",df.index.dtype)"
      ],
      "metadata": {
        "colab": {
          "base_uri": "https://localhost:8080/"
        },
        "id": "wIKts3Q6nDzB",
        "outputId": "dc12e1e7-0208-44c0-8bbe-a603618eb407"
      },
      "execution_count": null,
      "outputs": [
        {
          "output_type": "stream",
          "name": "stdout",
          "text": [
            "Input DataFrame:\n",
            "               value1  value2\n",
            "number color                \n",
            "1      red         1       5\n",
            "       blue        2       6\n",
            "2      red         3       7\n",
            "       blue        4       8\n",
            "\n",
            "Datafrane Index object Type: object\n"
          ]
        }
      ]
    },
    {
      "cell_type": "code",
      "source": [
        "#DateTimeIndex\n",
        "datetime_idx=pd.DatetimeIndex(['2020-01-01 10:00:00','2020-01-01 11:00:00','2020-01-03 10:00:00','2020-01-04 10:00:00'])\n",
        "df=pd.DataFrame({'value1':[1,2,3,4],'value2':[5,6,7,8]},index=datetime_idx)\n",
        "print('Input DataFrame:\\n',df)\n",
        "print(\"\\nDatafrane Index object Type:\",df.index.dtype)"
      ],
      "metadata": {
        "colab": {
          "base_uri": "https://localhost:8080/"
        },
        "id": "WcS8LDP8nZIZ",
        "outputId": "1c77edad-f47b-4427-d31f-1e31b19ab864"
      },
      "execution_count": null,
      "outputs": [
        {
          "output_type": "stream",
          "name": "stdout",
          "text": [
            "Input DataFrame:\n",
            "                      value1  value2\n",
            "2020-01-01 10:00:00       1       5\n",
            "2020-01-01 11:00:00       2       6\n",
            "2020-01-03 10:00:00       3       7\n",
            "2020-01-04 10:00:00       4       8\n",
            "\n",
            "Datafrane Index object Type: datetime64[ns]\n"
          ]
        }
      ]
    },
    {
      "cell_type": "code",
      "source": [
        "#TimedeltaIndex\n",
        "timedelta_idx=pd.TimedeltaIndex(['1 days','2 days','3 days','4 days'])\n",
        "df=pd.DataFrame({'value1':[1,2,3,4],'value2':[5,6,7,8]},index=timedelta_idx)\n",
        "print('Input DataFrame:\\n',df)\n",
        "print(\"\\nDatafrane Index object Type:\",df.index.dtype)"
      ],
      "metadata": {
        "colab": {
          "base_uri": "https://localhost:8080/"
        },
        "id": "8YX1VVeenr-J",
        "outputId": "ac8a14c7-3218-4ddb-ca94-d9b7ef9fb154"
      },
      "execution_count": null,
      "outputs": [
        {
          "output_type": "stream",
          "name": "stdout",
          "text": [
            "Input DataFrame:\n",
            "         value1  value2\n",
            "1 days       1       5\n",
            "2 days       2       6\n",
            "3 days       3       7\n",
            "4 days       4       8\n",
            "\n",
            "Datafrane Index object Type: timedelta64[ns]\n"
          ]
        }
      ]
    },
    {
      "cell_type": "code",
      "source": [
        "#PeriodIndex\n",
        "period_idx=pd.PeriodIndex(year=[2020,2021,2022,2024],quarter=[1,2,3,4])\n",
        "df=pd.DataFrame({'value1':[1,2,3,4],'value2':[5,6,7,8]},index=period_idx)\n",
        "print('Input DataFrame:\\n',df)"
      ],
      "metadata": {
        "colab": {
          "base_uri": "https://localhost:8080/"
        },
        "id": "L60T5xDvoBlb",
        "outputId": "f4198017-59c3-48f2-f7a7-45730e1fa8c2"
      },
      "execution_count": null,
      "outputs": [
        {
          "output_type": "stream",
          "name": "stdout",
          "text": [
            "Input DataFrame:\n",
            "         value1  value2\n",
            "2020Q1       1       5\n",
            "2021Q2       2       6\n",
            "2022Q3       3       7\n",
            "2024Q4       4       8\n"
          ]
        },
        {
          "output_type": "stream",
          "name": "stderr",
          "text": [
            "<ipython-input-24-3237f8699425>:2: FutureWarning: Constructing PeriodIndex from fields is deprecated. Use PeriodIndex.from_fields instead.\n",
            "  period_idx=pd.PeriodIndex(year=[2020,2021,2022,2024],quarter=[1,2,3,4])\n"
          ]
        }
      ]
    },
    {
      "cell_type": "markdown",
      "source": [
        "Panel"
      ],
      "metadata": {
        "id": "seBTT_6hpMBd"
      }
    },
    {
      "cell_type": "code",
      "source": [
        "#Panel is no longer present in pandas.\n",
        "#It was removed in pandas version 1.0.0 (released in January 2020)."
      ],
      "metadata": {
        "id": "gvLwM1EZoaqd"
      },
      "execution_count": null,
      "outputs": []
    },
    {
      "cell_type": "code",
      "source": [
        "import numpy as np\n",
        "df=pd.DataFrame(np.random.randn(3,4),columns=list('ABCD'))\n",
        "print(\"DataFrame:\\n\",df)\n",
        "\n",
        "print(\"Results\")\n",
        "print(\"\\nData types:\\n\",df.dtypes)\n",
        "print(\"\\nIndex:\",df.index)\n",
        "print(\"Columns:\",df.columns)\n",
        "print(\"Values:\\n\",df.values)\n",
        "print(\"Shape:\",df.shape)\n",
        "print(\"Dimension:\",df.ndim)\n",
        "print(\"Size:\",df.size)\n",
        "print(\"Is empty:\",df.empty)"
      ],
      "metadata": {
        "colab": {
          "base_uri": "https://localhost:8080/"
        },
        "id": "QtK-Ap3KpXiN",
        "outputId": "84ef67c0-468a-41d0-9a1e-4eef52f8190e"
      },
      "execution_count": null,
      "outputs": [
        {
          "output_type": "stream",
          "name": "stdout",
          "text": [
            "DataFrame:\n",
            "           A         B         C         D\n",
            "0  1.024648 -0.772922  1.249594  1.122892\n",
            "1 -1.472067  0.142523 -0.168313 -1.342314\n",
            "2  0.401891 -1.116344 -1.512436 -0.219329\n",
            "Results\n",
            "\n",
            "Data types:\n",
            " A    float64\n",
            "B    float64\n",
            "C    float64\n",
            "D    float64\n",
            "dtype: object\n",
            "\n",
            "Index: RangeIndex(start=0, stop=3, step=1)\n",
            "Columns: Index(['A', 'B', 'C', 'D'], dtype='object')\n",
            "Values:\n",
            " [[ 1.02464776 -0.77292162  1.24959407  1.12289178]\n",
            " [-1.47206689  0.14252321 -0.16831344 -1.34231389]\n",
            " [ 0.40189144 -1.11634368 -1.51243613 -0.21932926]]\n",
            "Shape: (3, 4)\n",
            "Dimension: 2\n",
            "Size: 12\n",
            "Is empty: False\n"
          ]
        }
      ]
    },
    {
      "cell_type": "code",
      "source": [
        "# Create a Series with random numbers\n",
        "s = pd.Series(np.random.randn(10))\n",
        "\n",
        "print(\"Series:\")\n",
        "print(s)\n",
        "\n",
        "# Using basic methods\n",
        "print(\"First 5 elements of the Series:\\n\", s.head())\n",
        "print(\"\\nLast 3 elements of the Series:\\n\", s.tail(3))\n",
        "print(\"\\nDescriptive statistics of the Series:\\n\", s.describe())"
      ],
      "metadata": {
        "colab": {
          "base_uri": "https://localhost:8080/"
        },
        "id": "LzeDlw-ms6vV",
        "outputId": "348c578e-6fb6-4869-d4d9-7988fdd4bcf1"
      },
      "execution_count": null,
      "outputs": [
        {
          "output_type": "stream",
          "name": "stdout",
          "text": [
            "Series:\n",
            "0    1.581688\n",
            "1   -1.635350\n",
            "2    0.065922\n",
            "3   -0.728606\n",
            "4   -0.171563\n",
            "5    0.484093\n",
            "6   -0.152595\n",
            "7    0.785664\n",
            "8    0.062922\n",
            "9    0.923179\n",
            "dtype: float64\n",
            "First 5 elements of the Series:\n",
            " 0    1.581688\n",
            "1   -1.635350\n",
            "2    0.065922\n",
            "3   -0.728606\n",
            "4   -0.171563\n",
            "dtype: float64\n",
            "\n",
            "Last 3 elements of the Series:\n",
            " 7    0.785664\n",
            "8    0.062922\n",
            "9    0.923179\n",
            "dtype: float64\n",
            "\n",
            "Descriptive statistics of the Series:\n",
            " count    10.000000\n",
            "mean      0.121535\n",
            "std       0.902106\n",
            "min      -1.635350\n",
            "25%      -0.166821\n",
            "50%       0.064422\n",
            "75%       0.710271\n",
            "max       1.581688\n",
            "dtype: float64\n"
          ]
        }
      ]
    },
    {
      "cell_type": "code",
      "source": [
        "#Create a Dictionary of series\n",
        "data = {'Name':pd.Series(['Tom','James','Ricky','Vin','Steve','Smith','Jack']),\n",
        "   'Age':pd.Series([25,26,25,23,30,29,23]),\n",
        "   'Rating':pd.Series([4.23,3.24,3.98,2.56,3.20,4.6,3.8])}\n",
        "\n",
        "#Create a DataFrame\n",
        "df = pd.DataFrame(data)\n",
        "print(\"Our data frame is:\\n\")\n",
        "print(df)\n",
        "\n",
        "# Using basic methods\n",
        "print(\"\\nFirst 5 rows of the DataFrame:\\n\", df.head())\n",
        "print(\"\\nLast 3 rows of the DataFrame:\\n\", df.tail(3))\n",
        "print(\"\\nInfo of the DataFrame:\")\n",
        "df.info()\n",
        "print(\"\\nDescriptive statistics of the DataFrame:\\n\", df.describe())"
      ],
      "metadata": {
        "colab": {
          "base_uri": "https://localhost:8080/"
        },
        "id": "GLB7lB3ntWjw",
        "outputId": "649a2a86-b40c-4fb4-b935-0114b0ec29c5"
      },
      "execution_count": null,
      "outputs": [
        {
          "output_type": "stream",
          "name": "stdout",
          "text": [
            "Our data frame is:\n",
            "\n",
            "    Name  Age  Rating\n",
            "0    Tom   25    4.23\n",
            "1  James   26    3.24\n",
            "2  Ricky   25    3.98\n",
            "3    Vin   23    2.56\n",
            "4  Steve   30    3.20\n",
            "5  Smith   29    4.60\n",
            "6   Jack   23    3.80\n",
            "\n",
            "First 5 rows of the DataFrame:\n",
            "     Name  Age  Rating\n",
            "0    Tom   25    4.23\n",
            "1  James   26    3.24\n",
            "2  Ricky   25    3.98\n",
            "3    Vin   23    2.56\n",
            "4  Steve   30    3.20\n",
            "\n",
            "Last 3 rows of the DataFrame:\n",
            "     Name  Age  Rating\n",
            "4  Steve   30     3.2\n",
            "5  Smith   29     4.6\n",
            "6   Jack   23     3.8\n",
            "\n",
            "Info of the DataFrame:\n",
            "<class 'pandas.core.frame.DataFrame'>\n",
            "RangeIndex: 7 entries, 0 to 6\n",
            "Data columns (total 3 columns):\n",
            " #   Column  Non-Null Count  Dtype  \n",
            "---  ------  --------------  -----  \n",
            " 0   Name    7 non-null      object \n",
            " 1   Age     7 non-null      int64  \n",
            " 2   Rating  7 non-null      float64\n",
            "dtypes: float64(1), int64(1), object(1)\n",
            "memory usage: 300.0+ bytes\n",
            "\n",
            "Descriptive statistics of the DataFrame:\n",
            "              Age    Rating\n",
            "count   7.000000  7.000000\n",
            "mean   25.857143  3.658571\n",
            "std     2.734262  0.698628\n",
            "min    23.000000  2.560000\n",
            "25%    24.000000  3.220000\n",
            "50%    25.000000  3.800000\n",
            "75%    27.500000  4.105000\n",
            "max    30.000000  4.600000\n"
          ]
        }
      ]
    },
    {
      "cell_type": "markdown",
      "source": [
        "selects all rows for a specific column using the loc indexer."
      ],
      "metadata": {
        "id": "o9rqzC4twQLH"
      }
    },
    {
      "cell_type": "code",
      "source": [
        "df = pd.DataFrame(np.random.randn(8, 4),\n",
        "index = ['a','b','c','d','e','f','g','h'], columns = ['A', 'B', 'C', 'D'])\n",
        "\n",
        "print(\"Original DataFrame:\\n\", df)\n",
        "\n",
        "#select all rows for a specific column\n",
        "print('\\nResult:\\n',df.loc[:,'A'])"
      ],
      "metadata": {
        "colab": {
          "base_uri": "https://localhost:8080/"
        },
        "id": "XfWEzyVZtrfU",
        "outputId": "8bb62259-95e4-49a5-c272-c30677980d52"
      },
      "execution_count": null,
      "outputs": [
        {
          "output_type": "stream",
          "name": "stdout",
          "text": [
            "Original DataFrame:\n",
            "           A         B         C         D\n",
            "a  0.739292  0.581710  0.820864  0.463438\n",
            "b  1.074361 -0.969742 -0.481592 -1.180939\n",
            "c  1.513824  0.607310  0.361186 -0.548067\n",
            "d -0.759489 -1.241849 -0.812407 -0.551907\n",
            "e -1.218345 -1.449674 -0.969041 -0.680932\n",
            "f  0.383369  0.905019 -1.117570 -0.794818\n",
            "g -0.306485  1.197159 -0.943624 -0.296791\n",
            "h -0.018573 -0.772291  0.841015  0.236345\n",
            "\n",
            "Result:\n",
            " a    0.739292\n",
            "b    1.074361\n",
            "c    1.513824\n",
            "d   -0.759489\n",
            "e   -1.218345\n",
            "f    0.383369\n",
            "g   -0.306485\n",
            "h   -0.018573\n",
            "Name: A, dtype: float64\n"
          ]
        }
      ]
    },
    {
      "cell_type": "markdown",
      "source": [
        "This example selecting all rows for multiple columns."
      ],
      "metadata": {
        "id": "5LJaxtLDwNAb"
      }
    },
    {
      "cell_type": "code",
      "source": [
        "# import the pandas library and aliasing as pd\n",
        "import pandas as pd\n",
        "import numpy as np\n",
        "\n",
        "df = pd.DataFrame(np.random.randn(8, 4),\n",
        "index = ['a','b','c','d','e','f','g','h'], columns = ['A', 'B', 'C', 'D'])\n",
        "\n",
        "# Select all rows for multiple columns, say list[]\n",
        "print(df.loc[:,['A','C']])"
      ],
      "metadata": {
        "colab": {
          "base_uri": "https://localhost:8080/"
        },
        "id": "23kYRlIvv9dR",
        "outputId": "1b838270-fde4-4a46-db25-ae43c044a1a1"
      },
      "execution_count": null,
      "outputs": [
        {
          "output_type": "stream",
          "name": "stdout",
          "text": [
            "          A         C\n",
            "a -0.495634  0.632147\n",
            "b -0.126255  0.335489\n",
            "c  1.623975  0.356916\n",
            "d -0.342358 -0.695694\n",
            "e -0.234594 -1.981995\n",
            "f  0.137929  0.468498\n",
            "g  0.941971  0.423522\n",
            "h -0.102664  0.988279\n"
          ]
        }
      ]
    },
    {
      "cell_type": "markdown",
      "source": [
        "This example selects the specific rows for the specific columns."
      ],
      "metadata": {
        "id": "LPybxtA8wKIQ"
      }
    },
    {
      "cell_type": "code",
      "source": [
        "print(df.loc[['a','b','f','h'],['A','C']])"
      ],
      "metadata": {
        "colab": {
          "base_uri": "https://localhost:8080/"
        },
        "id": "JDBEXmOKwE7j",
        "outputId": "15cb625d-335c-4297-89c0-2bc6307b1498"
      },
      "execution_count": null,
      "outputs": [
        {
          "output_type": "stream",
          "name": "stdout",
          "text": [
            "          A         C\n",
            "a -0.495634  0.632147\n",
            "b -0.126255  0.335489\n",
            "f  0.137929  0.468498\n",
            "h -0.102664  0.988279\n"
          ]
        }
      ]
    },
    {
      "cell_type": "markdown",
      "source": [
        "The following example selecting a range of rows for all columns using the loc indexer."
      ],
      "metadata": {
        "id": "Jjlwdu6swZ7P"
      }
    },
    {
      "cell_type": "code",
      "source": [
        "print(df.loc[['a','b','f','h'],:])"
      ],
      "metadata": {
        "colab": {
          "base_uri": "https://localhost:8080/"
        },
        "id": "ASU9XFo1wIi1",
        "outputId": "e681d323-513f-43a9-d52a-392524d11f2a"
      },
      "execution_count": null,
      "outputs": [
        {
          "output_type": "stream",
          "name": "stdout",
          "text": [
            "          A         B         C         D\n",
            "a -0.495634 -1.456097  0.632147  0.047109\n",
            "b -0.126255  1.154266  0.335489  0.741718\n",
            "f  0.137929 -2.609172  0.468498 -0.346525\n",
            "h -0.102664  0.496887  0.988279  0.262623\n"
          ]
        }
      ]
    },
    {
      "cell_type": "markdown",
      "source": [
        "selects 4 rows for the all column using the iloc indexer."
      ],
      "metadata": {
        "id": "6oVR6Vw66rZY"
      }
    },
    {
      "cell_type": "code",
      "source": [
        "print('\\nResult:\\n',df.iloc[:4])"
      ],
      "metadata": {
        "colab": {
          "base_uri": "https://localhost:8080/"
        },
        "id": "R2dmcSlJwXT4",
        "outputId": "b814f3f3-d9b9-48a2-e796-4b500f559e1c"
      },
      "execution_count": null,
      "outputs": [
        {
          "output_type": "stream",
          "name": "stdout",
          "text": [
            "\n",
            "Result:\n",
            "           A         B         C         D\n",
            "a -0.495634 -1.456097  0.632147  0.047109\n",
            "b -0.126255  1.154266  0.335489  0.741718\n",
            "c  1.623975 -1.269102  0.356916  0.007632\n",
            "d -0.342358 -0.595550 -0.695694  0.131434\n"
          ]
        }
      ]
    },
    {
      "cell_type": "markdown",
      "source": [
        "selects the specific data using the integer slicing."
      ],
      "metadata": {
        "id": "zdJ2ChIy6uSd"
      }
    },
    {
      "cell_type": "code",
      "source": [
        "print(df.iloc[1:5, 2:4])"
      ],
      "metadata": {
        "colab": {
          "base_uri": "https://localhost:8080/"
        },
        "id": "EqNRN6Bjwmkg",
        "outputId": "11ad6f3c-a37d-4a93-8bc1-65e9efc46c8a"
      },
      "execution_count": null,
      "outputs": [
        {
          "output_type": "stream",
          "name": "stdout",
          "text": [
            "          C         D\n",
            "b  0.335489  0.741718\n",
            "c  0.356916  0.007632\n",
            "d -0.695694  0.131434\n",
            "e -1.981995  0.337292\n"
          ]
        }
      ]
    },
    {
      "cell_type": "markdown",
      "source": [
        "selects the data using the slicing through list of values."
      ],
      "metadata": {
        "id": "pTazaBO86xL2"
      }
    },
    {
      "cell_type": "code",
      "source": [
        "print(df.iloc[[1, 3, 5], [1, 3]])"
      ],
      "metadata": {
        "colab": {
          "base_uri": "https://localhost:8080/"
        },
        "id": "S7RqYATxwqma",
        "outputId": "e998036c-a4fb-44e0-e5ab-695155056033"
      },
      "execution_count": null,
      "outputs": [
        {
          "output_type": "stream",
          "name": "stdout",
          "text": [
            "          B         D\n",
            "b  1.154266  0.741718\n",
            "d -0.595550  0.131434\n",
            "f -2.609172 -0.346525\n"
          ]
        }
      ]
    },
    {
      "cell_type": "markdown",
      "source": [
        "how to use the direct indexing with brackets for accessing a single column."
      ],
      "metadata": {
        "id": "x6y5MVMQ60kq"
      }
    },
    {
      "cell_type": "code",
      "source": [
        "print(df['A'])\n",
        "print(df.loc[['a','b','f','h'],:])\n",
        "print(df.iloc[[1, 3, 5], [1, 3]])"
      ],
      "metadata": {
        "colab": {
          "base_uri": "https://localhost:8080/"
        },
        "id": "r94tmCl3w2IA",
        "outputId": "45141182-fb83-47c8-c30c-e031615b2c57"
      },
      "execution_count": null,
      "outputs": [
        {
          "output_type": "stream",
          "name": "stdout",
          "text": [
            "a   -0.495634\n",
            "b   -0.126255\n",
            "c    1.623975\n",
            "d   -0.342358\n",
            "e   -0.234594\n",
            "f    0.137929\n",
            "g    0.941971\n",
            "h   -0.102664\n",
            "Name: A, dtype: float64\n",
            "          A         B         C         D\n",
            "a -0.495634 -1.456097  0.632147  0.047109\n",
            "b -0.126255  1.154266  0.335489  0.741718\n",
            "f  0.137929 -2.609172  0.468498 -0.346525\n",
            "h -0.102664  0.496887  0.988279  0.262623\n",
            "          B         D\n",
            "b  1.154266  0.741718\n",
            "d -0.595550  0.131434\n",
            "f -2.609172 -0.346525\n"
          ]
        }
      ]
    },
    {
      "cell_type": "markdown",
      "source": [
        "selects the multiple columns using the direct indexing."
      ],
      "metadata": {
        "id": "FEfSSksu640W"
      }
    },
    {
      "cell_type": "code",
      "source": [
        "print(df[['B','A']])"
      ],
      "metadata": {
        "colab": {
          "base_uri": "https://localhost:8080/"
        },
        "id": "6ML_cX9pw5Jq",
        "outputId": "5b3fc75f-7961-4a28-9f61-5b6a96121cd7"
      },
      "execution_count": null,
      "outputs": [
        {
          "output_type": "stream",
          "name": "stdout",
          "text": [
            "          B         A\n",
            "a -0.894255  0.845329\n",
            "b  1.730405 -1.727416\n",
            "c  0.526794  0.721076\n",
            "d -1.097301 -0.471668\n",
            "e  0.748285 -0.534790\n",
            "f -0.409792  1.104865\n",
            "g  0.047547  0.296238\n",
            "h  0.390316 -0.239156\n"
          ]
        }
      ]
    },
    {
      "cell_type": "markdown",
      "source": [
        "# Series"
      ],
      "metadata": {
        "id": "guI-AiRFxCtq"
      }
    },
    {
      "cell_type": "code",
      "source": [
        "data = np.array(['a','b','c','d'])\n",
        "s = pd.Series(data,index=[100,101,102,103])\n",
        "print(\"Output:\\n\",s)"
      ],
      "metadata": {
        "colab": {
          "base_uri": "https://localhost:8080/"
        },
        "id": "snVKmYyGw-af",
        "outputId": "2105a7f4-b196-47da-dfce-fb83322af691"
      },
      "execution_count": null,
      "outputs": [
        {
          "output_type": "stream",
          "name": "stdout",
          "text": [
            "Output:\n",
            " 100    a\n",
            "101    b\n",
            "102    c\n",
            "103    d\n",
            "dtype: object\n"
          ]
        }
      ]
    },
    {
      "cell_type": "code",
      "source": [
        "data = {'a' : 0., 'b' : 1., 'c' : 2.}\n",
        "s = pd.Series(data,index=['b','c','x','a'])\n",
        "print(s)"
      ],
      "metadata": {
        "colab": {
          "base_uri": "https://localhost:8080/"
        },
        "id": "-h2r-yCz7xVz",
        "outputId": "c3a11897-f1d5-4918-8372-196ee85a5da2"
      },
      "execution_count": null,
      "outputs": [
        {
          "output_type": "stream",
          "name": "stdout",
          "text": [
            "b    1.0\n",
            "c    2.0\n",
            "x    NaN\n",
            "a    0.0\n",
            "dtype: float64\n"
          ]
        }
      ]
    },
    {
      "cell_type": "code",
      "source": [
        "s = pd.Series(5, index=[0, 1, 2, 3])\n",
        "print(s)"
      ],
      "metadata": {
        "colab": {
          "base_uri": "https://localhost:8080/"
        },
        "id": "ArpOynnv8Qcb",
        "outputId": "a5438745-b768-4a4f-9484-947f3227a6fb"
      },
      "execution_count": null,
      "outputs": [
        {
          "output_type": "stream",
          "name": "stdout",
          "text": [
            "0    5\n",
            "1    5\n",
            "2    5\n",
            "3    5\n",
            "dtype: int64\n"
          ]
        }
      ]
    },
    {
      "cell_type": "markdown",
      "source": [
        "Slicing range of values from a Series"
      ],
      "metadata": {
        "id": "ZymLDF1d9Gw0"
      }
    },
    {
      "cell_type": "code",
      "source": [
        "data=np.array(['a','b','c','d'])\n",
        "s=pd.Series(data)\n",
        "print('Original Series:\\n',s,sep='\\n')\n",
        "\n",
        "result=s[1:3]\n",
        "\n",
        "print('Result:\\n',result,sep='\\n')"
      ],
      "metadata": {
        "colab": {
          "base_uri": "https://localhost:8080/"
        },
        "id": "NlfV1oqA8X8o",
        "outputId": "83fa3147-7172-4973-ab16-f51eefc4d6fc"
      },
      "execution_count": null,
      "outputs": [
        {
          "output_type": "stream",
          "name": "stdout",
          "text": [
            "Original Series:\n",
            "\n",
            "0    a\n",
            "1    b\n",
            "2    c\n",
            "3    d\n",
            "dtype: object\n",
            "Result:\n",
            "\n",
            "1    b\n",
            "2    c\n",
            "dtype: object\n"
          ]
        }
      ]
    },
    {
      "cell_type": "markdown",
      "source": [
        "Slicing the First Three Elements from a Series"
      ],
      "metadata": {
        "id": "GYHBwixh9EQo"
      }
    },
    {
      "cell_type": "code",
      "source": [
        "result=s[:3]\n",
        "\n",
        "print('Result:\\n',result,sep='\\n')"
      ],
      "metadata": {
        "colab": {
          "base_uri": "https://localhost:8080/"
        },
        "id": "05yj_Xrc84Bx",
        "outputId": "e58ec921-d28f-4674-eb37-703b98dc10ab"
      },
      "execution_count": null,
      "outputs": [
        {
          "output_type": "stream",
          "name": "stdout",
          "text": [
            "Result:\n",
            "\n",
            "0    a\n",
            "1    b\n",
            "2    c\n",
            "dtype: object\n"
          ]
        }
      ]
    },
    {
      "cell_type": "markdown",
      "source": [
        "Slicing the Last Three Elements from a Series"
      ],
      "metadata": {
        "id": "EFYhx8L79PIH"
      }
    },
    {
      "cell_type": "code",
      "source": [
        "print(s[-3:])"
      ],
      "metadata": {
        "colab": {
          "base_uri": "https://localhost:8080/"
        },
        "id": "zMWUjJhQ9Chc",
        "outputId": "162b94b7-e28f-4c0d-bf59-57b11c9b5ae7"
      },
      "execution_count": null,
      "outputs": [
        {
          "output_type": "stream",
          "name": "stdout",
          "text": [
            "1    b\n",
            "2    c\n",
            "3    d\n",
            "dtype: object\n"
          ]
        }
      ]
    },
    {
      "cell_type": "markdown",
      "source": [
        "Slicing Group of elements from a Series using the Labels"
      ],
      "metadata": {
        "id": "fko-E8Dw9Xtl"
      }
    },
    {
      "cell_type": "code",
      "source": [
        "s=pd.Series([1,2,3,4,5],index=['a','b','c','d','e'])\n",
        "print('Original Series:\\n',s,sep='\\n')\n",
        "\n",
        "result=s[['a','c','d']]\n",
        "\n",
        "print('Result:\\n',result,sep='\\n')"
      ],
      "metadata": {
        "colab": {
          "base_uri": "https://localhost:8080/"
        },
        "id": "hZ5ONF9c9R0W",
        "outputId": "fc6e7642-915b-4d8f-d802-fc9a8693fe67"
      },
      "execution_count": null,
      "outputs": [
        {
          "output_type": "stream",
          "name": "stdout",
          "text": [
            "Original Series:\n",
            "\n",
            "a    1\n",
            "b    2\n",
            "c    3\n",
            "d    4\n",
            "e    5\n",
            "dtype: int64\n",
            "Result:\n",
            "\n",
            "a    1\n",
            "c    3\n",
            "d    4\n",
            "dtype: int64\n"
          ]
        }
      ]
    },
    {
      "cell_type": "markdown",
      "source": [
        "Slicing First Three Elements using the Labels"
      ],
      "metadata": {
        "id": "lefUNAai9mSo"
      }
    },
    {
      "cell_type": "code",
      "source": [
        "print('Result:\\n',s[:'c'],sep='\\n')"
      ],
      "metadata": {
        "colab": {
          "base_uri": "https://localhost:8080/"
        },
        "id": "tcdywyai9jYG",
        "outputId": "a524caa9-1c84-403d-b9f7-14b00620a2c2"
      },
      "execution_count": null,
      "outputs": [
        {
          "output_type": "stream",
          "name": "stdout",
          "text": [
            "Result:\n",
            "\n",
            "a    1\n",
            "b    2\n",
            "c    3\n",
            "dtype: int64\n"
          ]
        }
      ]
    },
    {
      "cell_type": "code",
      "source": [
        "print('Original Series:\\n',s,sep='\\n')\n",
        "s[:2]=[100,200]\n",
        "print('Result:\\n',s,sep='\\n')"
      ],
      "metadata": {
        "colab": {
          "base_uri": "https://localhost:8080/"
        },
        "id": "WlO9k_p_9q3G",
        "outputId": "dbf02c1e-037f-46cf-b9a5-ee5546a2ccfe"
      },
      "execution_count": null,
      "outputs": [
        {
          "output_type": "stream",
          "name": "stdout",
          "text": [
            "Original Series:\n",
            "\n",
            "a    1\n",
            "b    2\n",
            "c    3\n",
            "d    4\n",
            "e    5\n",
            "dtype: int64\n",
            "Result:\n",
            "\n",
            "a    100\n",
            "b    200\n",
            "c      3\n",
            "d      4\n",
            "e      5\n",
            "dtype: int64\n"
          ]
        }
      ]
    },
    {
      "cell_type": "markdown",
      "source": [
        "Applying Arithmetic operations on Series"
      ],
      "metadata": {
        "id": "ED-8a-Ik-Rso"
      }
    },
    {
      "cell_type": "code",
      "source": [
        "# Apply all Arithmetic Operation and Display the Results\n",
        "print('\\nAddition:\\n',s+2)\n",
        "print('\\nSubtraction:\\n', s-2)\n",
        "print('\\nMultiplication:\\n', s * 2)\n",
        "print('\\nDivision:\\n', s/2)\n",
        "print('\\nExponentiation:\\n', s**2)\n",
        "print('\\nModulus:\\n', s%2)\n",
        "print('\\nFloor Division:\\n', s//2)"
      ],
      "metadata": {
        "colab": {
          "base_uri": "https://localhost:8080/"
        },
        "id": "NufLZYvi91qc",
        "outputId": "6430d661-315a-4766-f670-dff2c77c0453"
      },
      "execution_count": null,
      "outputs": [
        {
          "output_type": "stream",
          "name": "stdout",
          "text": [
            "\n",
            "Addition:\n",
            " a    102\n",
            "b    202\n",
            "c      5\n",
            "d      6\n",
            "e      7\n",
            "dtype: int64\n",
            "\n",
            "Subtraction:\n",
            " a     98\n",
            "b    198\n",
            "c      1\n",
            "d      2\n",
            "e      3\n",
            "dtype: int64\n",
            "\n",
            "Multiplication:\n",
            " a    200\n",
            "b    400\n",
            "c      6\n",
            "d      8\n",
            "e     10\n",
            "dtype: int64\n",
            "\n",
            "Division:\n",
            " a     50.0\n",
            "b    100.0\n",
            "c      1.5\n",
            "d      2.0\n",
            "e      2.5\n",
            "dtype: float64\n",
            "\n",
            "Exponentiation:\n",
            " a    10000\n",
            "b    40000\n",
            "c        9\n",
            "d       16\n",
            "e       25\n",
            "dtype: int64\n",
            "\n",
            "Modulus:\n",
            " a    0\n",
            "b    0\n",
            "c    1\n",
            "d    0\n",
            "e    1\n",
            "dtype: int64\n",
            "\n",
            "Floor Division:\n",
            " a     50\n",
            "b    100\n",
            "c      1\n",
            "d      2\n",
            "e      2\n",
            "dtype: int64\n"
          ]
        }
      ]
    },
    {
      "cell_type": "code",
      "source": [
        "s1 = pd.Series([1,2,3,4,5],index = ['a','b','c','d','e'])\n",
        "s2 = pd.Series([9, 8, 6, 5], index=['x','a','b','c'])\n",
        "\n",
        "# Apply all Arithmetic Operations and Display the Results\n",
        "print('\\nAddition:\\n',s1+s2)\n",
        "print('\\nSubtraction:\\n', s1-s2)\n",
        "print('\\nMultiplication:\\n', s1 * s2)\n",
        "print('\\nDivision:\\n', s1/s2)"
      ],
      "metadata": {
        "colab": {
          "base_uri": "https://localhost:8080/"
        },
        "id": "64oZCCvC-GvH",
        "outputId": "f6bb1522-f00e-4b44-d15a-e180d3cca027"
      },
      "execution_count": null,
      "outputs": [
        {
          "output_type": "stream",
          "name": "stdout",
          "text": [
            "\n",
            "Addition:\n",
            " a    9.0\n",
            "b    8.0\n",
            "c    8.0\n",
            "d    NaN\n",
            "e    NaN\n",
            "x    NaN\n",
            "dtype: float64\n",
            "\n",
            "Subtraction:\n",
            " a   -7.0\n",
            "b   -4.0\n",
            "c   -2.0\n",
            "d    NaN\n",
            "e    NaN\n",
            "x    NaN\n",
            "dtype: float64\n",
            "\n",
            "Multiplication:\n",
            " a     8.0\n",
            "b    12.0\n",
            "c    15.0\n",
            "d     NaN\n",
            "e     NaN\n",
            "x     NaN\n",
            "dtype: float64\n",
            "\n",
            "Division:\n",
            " a    0.125000\n",
            "b    0.333333\n",
            "c    0.600000\n",
            "d         NaN\n",
            "e         NaN\n",
            "x         NaN\n",
            "dtype: float64\n"
          ]
        }
      ]
    },
    {
      "cell_type": "code",
      "source": [
        "print(s.dtype, s.shape, s.size, s.index, s.values)"
      ],
      "metadata": {
        "colab": {
          "base_uri": "https://localhost:8080/"
        },
        "id": "YC-_m1n0dPbI",
        "outputId": "80dd0343-f170-494b-ad13-6b39f1bdb37c"
      },
      "execution_count": null,
      "outputs": [
        {
          "output_type": "stream",
          "name": "stdout",
          "text": [
            "int64 (5,) 5 Index(['a', 'b', 'c', 'd', 'e'], dtype='object') [100 200   3   4   5]\n"
          ]
        }
      ]
    },
    {
      "cell_type": "code",
      "source": [
        "print(s.to_frame(name='Values'))"
      ],
      "metadata": {
        "colab": {
          "base_uri": "https://localhost:8080/"
        },
        "id": "qHZlvL5gdqm3",
        "outputId": "7a1d5418-dff5-44ef-d1f2-3c5fb2965e8e"
      },
      "execution_count": null,
      "outputs": [
        {
          "output_type": "stream",
          "name": "stdout",
          "text": [
            "   Values\n",
            "a     100\n",
            "b     200\n",
            "c       3\n",
            "d       4\n",
            "e       5\n"
          ]
        }
      ]
    },
    {
      "cell_type": "markdown",
      "source": [
        "Converting to list"
      ],
      "metadata": {
        "id": "6SuT7voW-cP4"
      }
    },
    {
      "cell_type": "code",
      "source": [
        "s=pd.Series([1,2,3])\n",
        "result=s.tolist()\n",
        "print(result)"
      ],
      "metadata": {
        "colab": {
          "base_uri": "https://localhost:8080/"
        },
        "id": "gpStqQEQ-MX2",
        "outputId": "7a028c06-e15a-49f7-b525-a69e866f0b25"
      },
      "execution_count": null,
      "outputs": [
        {
          "output_type": "stream",
          "name": "stdout",
          "text": [
            "[1, 2, 3]\n"
          ]
        }
      ]
    },
    {
      "cell_type": "markdown",
      "source": [
        "to numpy array"
      ],
      "metadata": {
        "id": "Ekwa2ttG-hod"
      }
    },
    {
      "cell_type": "code",
      "source": [
        "result=s.to_numpy()\n",
        "print(result)"
      ],
      "metadata": {
        "colab": {
          "base_uri": "https://localhost:8080/"
        },
        "id": "bBpAZJQo-f7Q",
        "outputId": "b80c1821-0fcc-4946-ba02-08b8fb2b35e1"
      },
      "execution_count": null,
      "outputs": [
        {
          "output_type": "stream",
          "name": "stdout",
          "text": [
            "[1 2 3]\n"
          ]
        }
      ]
    },
    {
      "cell_type": "markdown",
      "source": [
        "to dictionary"
      ],
      "metadata": {
        "id": "7cfEkyRH-od8"
      }
    },
    {
      "cell_type": "code",
      "source": [
        "s=pd.Series([1,2,3],index=['a','b','c'])\n",
        "result=s.to_dict()\n",
        "print(result)"
      ],
      "metadata": {
        "colab": {
          "base_uri": "https://localhost:8080/"
        },
        "id": "xyK1V5Ku-liq",
        "outputId": "d65b4fef-5658-4590-d599-c9bb13f4c111"
      },
      "execution_count": null,
      "outputs": [
        {
          "output_type": "stream",
          "name": "stdout",
          "text": [
            "{'a': 1, 'b': 2, 'c': 3}\n"
          ]
        }
      ]
    },
    {
      "cell_type": "markdown",
      "source": [
        "to dataframe"
      ],
      "metadata": {
        "id": "kk88Epod-0As"
      }
    },
    {
      "cell_type": "code",
      "source": [
        "result=s.to_frame(name='Numbers')\n",
        "print(result)"
      ],
      "metadata": {
        "colab": {
          "base_uri": "https://localhost:8080/"
        },
        "id": "ZXj7TDGe-y2D",
        "outputId": "79d8a38c-8dc0-423d-a451-804bfbabd742"
      },
      "execution_count": null,
      "outputs": [
        {
          "output_type": "stream",
          "name": "stdout",
          "text": [
            "   Numbers\n",
            "a        1\n",
            "b        2\n",
            "c        3\n"
          ]
        }
      ]
    },
    {
      "cell_type": "code",
      "source": [
        "result=s.to_string()\n",
        "print(repr(result))"
      ],
      "metadata": {
        "colab": {
          "base_uri": "https://localhost:8080/"
        },
        "id": "jpjEAN5u-8XE",
        "outputId": "d2d3dd67-f27d-4145-bbc3-4bfe86153821"
      },
      "execution_count": null,
      "outputs": [
        {
          "output_type": "stream",
          "name": "stdout",
          "text": [
            "'a    1\\nb    2\\nc    3'\n"
          ]
        }
      ]
    },
    {
      "cell_type": "markdown",
      "source": [
        "# Dataframe"
      ],
      "metadata": {
        "id": "vLa9ZEu8AEEo"
      }
    },
    {
      "cell_type": "code",
      "source": [
        "data=[['Alex',10],['Bob',12],['Clarke',13]]\n",
        "df=pd.DataFrame(data,columns=['Name','Age'])\n",
        "print(df)"
      ],
      "metadata": {
        "colab": {
          "base_uri": "https://localhost:8080/"
        },
        "id": "k7EmSXQ4_F8w",
        "outputId": "77642242-d728-492e-8a69-0d70db8727ec"
      },
      "execution_count": null,
      "outputs": [
        {
          "output_type": "stream",
          "name": "stdout",
          "text": [
            "     Name  Age\n",
            "0    Alex   10\n",
            "1     Bob   12\n",
            "2  Clarke   13\n"
          ]
        }
      ]
    },
    {
      "cell_type": "code",
      "source": [
        "data = {'Name':['Tom', 'Jack', 'Steve', 'Ricky'],'Age':[28,34,29,42]}\n",
        "df = pd.DataFrame(data)\n",
        "print(df)"
      ],
      "metadata": {
        "colab": {
          "base_uri": "https://localhost:8080/"
        },
        "id": "RP6X0RwLASwM",
        "outputId": "5b77b40c-8bb1-43cd-9a1e-5b72f4503c82"
      },
      "execution_count": null,
      "outputs": [
        {
          "output_type": "stream",
          "name": "stdout",
          "text": [
            "    Name  Age\n",
            "0    Tom   28\n",
            "1   Jack   34\n",
            "2  Steve   29\n",
            "3  Ricky   42\n"
          ]
        }
      ]
    },
    {
      "cell_type": "code",
      "source": [
        "data = {'Name':['Tom', 'Jack', 'Steve', 'Ricky'],'Age':[28,34,29,42]}\n",
        "df = pd.DataFrame(data, index=['rank1','rank2','rank3','rank4'])\n",
        "print(df)"
      ],
      "metadata": {
        "colab": {
          "base_uri": "https://localhost:8080/"
        },
        "id": "uAr-7XTrAc--",
        "outputId": "380ed74b-919d-45a1-9993-4397ba4408e9"
      },
      "execution_count": null,
      "outputs": [
        {
          "output_type": "stream",
          "name": "stdout",
          "text": [
            "        Name  Age\n",
            "rank1    Tom   28\n",
            "rank2   Jack   34\n",
            "rank3  Steve   29\n",
            "rank4  Ricky   42\n"
          ]
        }
      ]
    },
    {
      "cell_type": "code",
      "source": [
        "df = pd.DataFrame({'A': [10, 20], 'B': [30, 40]})\n",
        "df['C'] = df['A'] + df['B']\n",
        "\n",
        "print(df)"
      ],
      "metadata": {
        "id": "Gkp4dqBoAg1P",
        "colab": {
          "base_uri": "https://localhost:8080/"
        },
        "outputId": "ba40ec55-713a-460a-d638-d37d2f1c504e"
      },
      "execution_count": null,
      "outputs": [
        {
          "output_type": "stream",
          "name": "stdout",
          "text": [
            "    A   B   C\n",
            "0  10  30  40\n",
            "1  20  40  60\n"
          ]
        }
      ]
    },
    {
      "cell_type": "code",
      "source": [
        "print(df.describe())  # Summary stats\n",
        "print(df.T)  # Transpose\n",
        "print(df * 2)  # Multiply all values"
      ],
      "metadata": {
        "colab": {
          "base_uri": "https://localhost:8080/"
        },
        "id": "frUgtC0neoft",
        "outputId": "4b160dd2-775d-4f4a-c82c-a9ed4bb111e9"
      },
      "execution_count": null,
      "outputs": [
        {
          "output_type": "stream",
          "name": "stdout",
          "text": [
            "               A          B          C\n",
            "count   2.000000   2.000000   2.000000\n",
            "mean   15.000000  35.000000  50.000000\n",
            "std     7.071068   7.071068  14.142136\n",
            "min    10.000000  30.000000  40.000000\n",
            "25%    12.500000  32.500000  45.000000\n",
            "50%    15.000000  35.000000  50.000000\n",
            "75%    17.500000  37.500000  55.000000\n",
            "max    20.000000  40.000000  60.000000\n",
            "    0   1\n",
            "A  10  20\n",
            "B  30  40\n",
            "C  40  60\n",
            "    A   B    C\n",
            "0  20  60   80\n",
            "1  40  80  120\n"
          ]
        }
      ]
    },
    {
      "cell_type": "code",
      "source": [],
      "metadata": {
        "id": "utZjg0NNe32G"
      },
      "execution_count": null,
      "outputs": []
    }
  ]
}