{
  "nbformat": 4,
  "nbformat_minor": 0,
  "metadata": {
    "colab": {
      "provenance": [],
      "authorship_tag": "ABX9TyMo8VakL1IKFOBzLquqlXHg",
      "include_colab_link": true
    },
    "kernelspec": {
      "name": "python3",
      "display_name": "Python 3"
    },
    "language_info": {
      "name": "python"
    }
  },
  "cells": [
    {
      "cell_type": "markdown",
      "metadata": {
        "id": "view-in-github",
        "colab_type": "text"
      },
      "source": [
        "<a href=\"https://colab.research.google.com/github/chitwan6804/Data_mining/blob/main/Basics%20of%20Python.ipynb\" target=\"_parent\"><img src=\"https://colab.research.google.com/assets/colab-badge.svg\" alt=\"Open In Colab\"/></a>"
      ]
    },
    {
      "cell_type": "markdown",
      "source": [
        "## **Using Python as calculator**"
      ],
      "metadata": {
        "id": "LC-wuk9TSReq"
      }
    },
    {
      "cell_type": "code",
      "execution_count": null,
      "metadata": {
        "colab": {
          "base_uri": "https://localhost:8080/"
        },
        "id": "VupXN-SWSB0h",
        "outputId": "52b346ec-2b54-4284-df73-0495ad1621cc"
      },
      "outputs": [
        {
          "output_type": "execute_result",
          "data": {
            "text/plain": [
              "4"
            ]
          },
          "metadata": {},
          "execution_count": 1
        }
      ],
      "source": [
        "2+2"
      ]
    },
    {
      "cell_type": "code",
      "source": [
        "(50-5*6)/4   # by default float valueis generated."
      ],
      "metadata": {
        "colab": {
          "base_uri": "https://localhost:8080/"
        },
        "id": "tWM0xxzOSiol",
        "outputId": "864d6172-8239-4b58-8700-f71c6044f958"
      },
      "execution_count": null,
      "outputs": [
        {
          "output_type": "execute_result",
          "data": {
            "text/plain": [
              "5.0"
            ]
          },
          "metadata": {},
          "execution_count": 3
        }
      ]
    },
    {
      "cell_type": "code",
      "source": [
        "(50-5*6) # here as divide is not there int value."
      ],
      "metadata": {
        "colab": {
          "base_uri": "https://localhost:8080/"
        },
        "id": "uXueT8oZSmrs",
        "outputId": "4e96753b-791d-448f-e7e6-caf4d5653019"
      },
      "execution_count": null,
      "outputs": [
        {
          "output_type": "execute_result",
          "data": {
            "text/plain": [
              "20"
            ]
          },
          "metadata": {},
          "execution_count": 5
        }
      ]
    },
    {
      "cell_type": "code",
      "source": [
        "x=7/3   #float value.\n",
        "type(x)"
      ],
      "metadata": {
        "colab": {
          "base_uri": "https://localhost:8080/"
        },
        "id": "FGZSNnlrS2-j",
        "outputId": "fbe0bab2-ba43-445f-c565-d1dfc7151ca1"
      },
      "execution_count": null,
      "outputs": [
        {
          "output_type": "execute_result",
          "data": {
            "text/plain": [
              "float"
            ]
          },
          "metadata": {},
          "execution_count": 9
        }
      ]
    },
    {
      "cell_type": "code",
      "source": [
        "x=2+3\n",
        "type(x)"
      ],
      "metadata": {
        "colab": {
          "base_uri": "https://localhost:8080/"
        },
        "id": "xMG3r5aSTs8l",
        "outputId": "9286b7b6-ed2b-4fe4-d7c1-7f8c5aaa5fcd"
      },
      "execution_count": null,
      "outputs": [
        {
          "output_type": "execute_result",
          "data": {
            "text/plain": [
              "int"
            ]
          },
          "metadata": {},
          "execution_count": 10
        }
      ]
    },
    {
      "cell_type": "code",
      "source": [
        "x=2*3\n",
        "type(x)"
      ],
      "metadata": {
        "colab": {
          "base_uri": "https://localhost:8080/"
        },
        "id": "IZeiFl83UEa-",
        "outputId": "8a0bf72a-e58c-4bc7-ec78-59919bdddd9d"
      },
      "execution_count": null,
      "outputs": [
        {
          "output_type": "execute_result",
          "data": {
            "text/plain": [
              "int"
            ]
          },
          "metadata": {},
          "execution_count": 12
        }
      ]
    },
    {
      "cell_type": "code",
      "source": [
        "int(7/3)"
      ],
      "metadata": {
        "colab": {
          "base_uri": "https://localhost:8080/"
        },
        "id": "d46-WVXPUII7",
        "outputId": "61520795-e7c8-4baf-e576-b2c8d44aea99"
      },
      "execution_count": null,
      "outputs": [
        {
          "output_type": "execute_result",
          "data": {
            "text/plain": [
              "2"
            ]
          },
          "metadata": {},
          "execution_count": 15
        }
      ]
    },
    {
      "cell_type": "code",
      "source": [
        "from math import sqrt,log"
      ],
      "metadata": {
        "id": "7EbcibPeUMoh"
      },
      "execution_count": null,
      "outputs": []
    },
    {
      "cell_type": "code",
      "source": [
        "sqrt(144)"
      ],
      "metadata": {
        "colab": {
          "base_uri": "https://localhost:8080/"
        },
        "id": "N2oy_Rb-UdLJ",
        "outputId": "e3e4dc5a-0080-4cb7-d40c-518ba74a82fd"
      },
      "execution_count": null,
      "outputs": [
        {
          "output_type": "execute_result",
          "data": {
            "text/plain": [
              "12.0"
            ]
          },
          "metadata": {},
          "execution_count": 17
        }
      ]
    },
    {
      "cell_type": "code",
      "source": [
        "PI=22/7\n",
        "rad=10\n",
        "area=PI*rad*rad"
      ],
      "metadata": {
        "id": "tzP2idcfUfaC"
      },
      "execution_count": null,
      "outputs": []
    },
    {
      "cell_type": "code",
      "source": [
        "round(area,2) #rounding of significant decimanl points to 2"
      ],
      "metadata": {
        "colab": {
          "base_uri": "https://localhost:8080/"
        },
        "id": "6U4NSXwFUx2c",
        "outputId": "91240ef7-75bc-4fd1-d964-ba643a848118"
      },
      "execution_count": null,
      "outputs": [
        {
          "output_type": "execute_result",
          "data": {
            "text/plain": [
              "314.29"
            ]
          },
          "metadata": {},
          "execution_count": 22
        }
      ]
    },
    {
      "cell_type": "code",
      "source": [
        "# return = 0 # trying to use keywords/reserved words as variables"
      ],
      "metadata": {
        "colab": {
          "base_uri": "https://localhost:8080/",
          "height": 111
        },
        "id": "XUnbeIf9Uy2x",
        "outputId": "7f87a801-27f4-4ce0-c8ad-8467877c4a6e"
      },
      "execution_count": null,
      "outputs": [
        {
          "output_type": "error",
          "ename": "SyntaxError",
          "evalue": "invalid syntax (<ipython-input-23-61c0c528b01c>, line 1)",
          "traceback": [
            "\u001b[0;36m  File \u001b[0;32m\"<ipython-input-23-61c0c528b01c>\"\u001b[0;36m, line \u001b[0;32m1\u001b[0m\n\u001b[0;31m    return = 0 # trying to use keywords/reserved words as variables\u001b[0m\n\u001b[0m           ^\u001b[0m\n\u001b[0;31mSyntaxError\u001b[0m\u001b[0;31m:\u001b[0m invalid syntax\n"
          ]
        }
      ]
    },
    {
      "cell_type": "markdown",
      "source": [
        "## ***Variables:***"
      ],
      "metadata": {
        "id": "RDDw94Wd8lnG"
      }
    },
    {
      "cell_type": "code",
      "source": [
        "counter=1  #int\n",
        "miles=10.2 #float\n",
        "text=\"hello\" #string\n",
        "print(\"type of counter:: \",type(counter))\n",
        "print(\"type of miles:: \",type(miles))\n",
        "print(\"type of text:: \",type(text))\n",
        "#type inference it automatically tries to understand which type of data is being provided we need not describe it."
      ],
      "metadata": {
        "colab": {
          "base_uri": "https://localhost:8080/"
        },
        "id": "9G1TUJPAVGO7",
        "outputId": "fe11b1d9-0d89-4558-877b-d4e8a7a87985"
      },
      "execution_count": null,
      "outputs": [
        {
          "output_type": "stream",
          "name": "stdout",
          "text": [
            "type of counter::  <class 'int'>\n",
            "type of miles::  <class 'float'>\n",
            "type of text::  <class 'str'>\n"
          ]
        }
      ]
    },
    {
      "cell_type": "code",
      "source": [
        "counter = 100\n",
        "print(counter)\n",
        "\n",
        "del counter\n",
        "#print(counter)\n",
        "# shows error as we try to use data which is now not present in memory."
      ],
      "metadata": {
        "colab": {
          "base_uri": "https://localhost:8080/"
        },
        "id": "zxEj4ADZV9eH",
        "outputId": "62ad3f9e-0ac9-4cc4-980b-dd621f8ae910"
      },
      "execution_count": null,
      "outputs": [
        {
          "output_type": "stream",
          "name": "stdout",
          "text": [
            "100\n"
          ]
        }
      ]
    },
    {
      "cell_type": "code",
      "source": [
        "x=str(10)\n",
        "y=int(10)\n",
        "z=float(10)\n",
        "\n",
        "print(\"x = \",x, \" as data type: \",type(x))\n",
        "print(\"y = \",y)\n",
        "print(\"z = \",z)"
      ],
      "metadata": {
        "colab": {
          "base_uri": "https://localhost:8080/"
        },
        "id": "njks-tvcWK0U",
        "outputId": "056ea0b2-3d33-4afa-cda5-6f5d9acfcbdc"
      },
      "execution_count": null,
      "outputs": [
        {
          "output_type": "stream",
          "name": "stdout",
          "text": [
            "x =  10  as data type:  <class 'str'>\n",
            "y =  10\n",
            "z =  10.0\n"
          ]
        }
      ]
    },
    {
      "cell_type": "code",
      "source": [
        "age=10\n",
        "Age=20\n",
        "# python is case sensitive\n",
        "print(age)\n",
        "print(Age)"
      ],
      "metadata": {
        "colab": {
          "base_uri": "https://localhost:8080/"
        },
        "id": "DPnr7znKWkPC",
        "outputId": "318815bf-d3bc-4a47-b300-21fd7ac970ca"
      },
      "execution_count": null,
      "outputs": [
        {
          "output_type": "stream",
          "name": "stdout",
          "text": [
            "10\n",
            "20\n"
          ]
        }
      ]
    },
    {
      "cell_type": "code",
      "source": [
        "a,b,c=10,\"hello\",10.0\n",
        "\n",
        "print(a)\n",
        "print(b)\n",
        "print(c)"
      ],
      "metadata": {
        "colab": {
          "base_uri": "https://localhost:8080/"
        },
        "id": "gBovuDcfW0gY",
        "outputId": "c64e5e45-1893-4e4e-d554-8d1c44a46ffc"
      },
      "execution_count": null,
      "outputs": [
        {
          "output_type": "stream",
          "name": "stdout",
          "text": [
            "10\n",
            "hello\n",
            "10.0\n"
          ]
        }
      ]
    },
    {
      "cell_type": "code",
      "source": [
        "#Python's identity operator is returns True if both the operands have same id() value.\n",
        "\n",
        "a=10\n",
        "b=10\n",
        "a is b"
      ],
      "metadata": {
        "colab": {
          "base_uri": "https://localhost:8080/"
        },
        "id": "W6UiPetAW9_G",
        "outputId": "5be0534b-6de7-40e5-8289-889759743535"
      },
      "execution_count": null,
      "outputs": [
        {
          "output_type": "execute_result",
          "data": {
            "text/plain": [
              "True"
            ]
          },
          "metadata": {},
          "execution_count": 35
        }
      ]
    },
    {
      "cell_type": "code",
      "source": [
        "id(a),id(b) # same memory location"
      ],
      "metadata": {
        "colab": {
          "base_uri": "https://localhost:8080/"
        },
        "id": "tOg-4he0XMFd",
        "outputId": "c83d96aa-bf07-4b10-b154-766c302b3c30"
      },
      "execution_count": null,
      "outputs": [
        {
          "output_type": "execute_result",
          "data": {
            "text/plain": [
              "(10751144, 10751144)"
            ]
          },
          "metadata": {},
          "execution_count": 37
        }
      ]
    },
    {
      "cell_type": "markdown",
      "source": [
        "# **Data Types**"
      ],
      "metadata": {
        "id": "FFHSZToLzoLh"
      }
    },
    {
      "cell_type": "markdown",
      "source": [
        "## ***Numeric Data Types***"
      ],
      "metadata": {
        "id": "uxVRK18IXkv8"
      }
    },
    {
      "cell_type": "code",
      "source": [
        "var=1\n",
        "var2=True #case sensitive as true was not working.\n",
        "var3=10.0003\n",
        "var4=10+3j\n",
        "var5=\"hello\""
      ],
      "metadata": {
        "id": "GNW848YdXcnS"
      },
      "execution_count": null,
      "outputs": []
    },
    {
      "cell_type": "code",
      "source": [
        "print(type(var))\n",
        "print(type(var2))\n",
        "print(type(var3))\n",
        "print(type(var4))\n",
        "print(type(var5))"
      ],
      "metadata": {
        "colab": {
          "base_uri": "https://localhost:8080/"
        },
        "id": "hKInqLMbX3LP",
        "outputId": "04c3b17d-5366-4c02-b075-598ca91fd520"
      },
      "execution_count": null,
      "outputs": [
        {
          "output_type": "stream",
          "name": "stdout",
          "text": [
            "<class 'int'>\n",
            "<class 'bool'>\n",
            "<class 'float'>\n",
            "<class 'complex'>\n",
            "<class 'str'>\n"
          ]
        }
      ]
    },
    {
      "cell_type": "markdown",
      "source": [
        "## ***String Data type***"
      ],
      "metadata": {
        "id": "JYYwiQI4YNZ-"
      }
    },
    {
      "cell_type": "code",
      "source": [
        "'hello,world'"
      ],
      "metadata": {
        "colab": {
          "base_uri": "https://localhost:8080/",
          "height": 36
        },
        "id": "4Sj7WRd1X82K",
        "outputId": "c801ddfe-b70c-4168-8021-059c33610b5d"
      },
      "execution_count": null,
      "outputs": [
        {
          "output_type": "execute_result",
          "data": {
            "text/plain": [
              "'hello,world'"
            ],
            "application/vnd.google.colaboratory.intrinsic+json": {
              "type": "string"
            }
          },
          "metadata": {},
          "execution_count": 42
        }
      ]
    },
    {
      "cell_type": "code",
      "source": [
        "x='hello world'\n",
        "print(x)"
      ],
      "metadata": {
        "colab": {
          "base_uri": "https://localhost:8080/"
        },
        "id": "_9wTF8_2YWwT",
        "outputId": "fbbdd384-a312-4fee-9fbc-f4da5a391ef2"
      },
      "execution_count": null,
      "outputs": [
        {
          "output_type": "stream",
          "name": "stdout",
          "text": [
            "hello world\n"
          ]
        }
      ]
    },
    {
      "cell_type": "code",
      "source": [
        "'She said,\"hello\"'"
      ],
      "metadata": {
        "colab": {
          "base_uri": "https://localhost:8080/",
          "height": 36
        },
        "id": "LiEoV8gyYh8e",
        "outputId": "6d3cf74a-dffd-4ab7-8f6e-c583cd6ed191"
      },
      "execution_count": null,
      "outputs": [
        {
          "output_type": "execute_result",
          "data": {
            "text/plain": [
              "'She said,\"hello\"'"
            ],
            "application/vnd.google.colaboratory.intrinsic+json": {
              "type": "string"
            }
          },
          "metadata": {},
          "execution_count": 44
        }
      ]
    },
    {
      "cell_type": "code",
      "source": [
        "x='She said,\"hello\"'\n",
        "print(x)"
      ],
      "metadata": {
        "colab": {
          "base_uri": "https://localhost:8080/"
        },
        "id": "-z6Z5FigYlM8",
        "outputId": "019bcc88-40e2-4e42-cd5e-47b163bc1b35"
      },
      "execution_count": null,
      "outputs": [
        {
          "output_type": "stream",
          "name": "stdout",
          "text": [
            "She said,\"hello\"\n"
          ]
        }
      ]
    },
    {
      "cell_type": "code",
      "source": [
        "\"hello\"+\"world\" #concatenates strings"
      ],
      "metadata": {
        "colab": {
          "base_uri": "https://localhost:8080/",
          "height": 36
        },
        "id": "TuQOpNweYq66",
        "outputId": "9dacbdd2-9ddb-4cf6-f0c6-b3852d782f63"
      },
      "execution_count": null,
      "outputs": [
        {
          "output_type": "execute_result",
          "data": {
            "text/plain": [
              "'helloworld'"
            ],
            "application/vnd.google.colaboratory.intrinsic+json": {
              "type": "string"
            }
          },
          "metadata": {},
          "execution_count": 47
        }
      ]
    },
    {
      "cell_type": "code",
      "source": [
        "print(\"hello\"+\" world.\")"
      ],
      "metadata": {
        "colab": {
          "base_uri": "https://localhost:8080/"
        },
        "id": "VVwrVwg1YuAV",
        "outputId": "72fa8d95-73a4-403c-924d-a98338fdb06b"
      },
      "execution_count": null,
      "outputs": [
        {
          "output_type": "stream",
          "name": "stdout",
          "text": [
            "hello world.\n"
          ]
        }
      ]
    },
    {
      "cell_type": "code",
      "source": [
        "str= \"hello,world\"\n",
        "\n",
        "print(str)\n",
        "print(str[0]) #first char of the string\n",
        "print(str[2:5]) #char from 3rd to 5th characters of the string\n",
        "print(str[2:]) # from 3rd to the end\n",
        "print(str[2:-1]) # -1 finds automatically the last char of the string used when we dont know index of last char(last - 1)\n",
        "print(str*2) #prints string twice"
      ],
      "metadata": {
        "colab": {
          "base_uri": "https://localhost:8080/"
        },
        "id": "Lvgn84LTY1W5",
        "outputId": "a22cbaac-0e75-4ee1-9a28-e26f756aa762"
      },
      "execution_count": null,
      "outputs": [
        {
          "output_type": "stream",
          "name": "stdout",
          "text": [
            "hello,world\n",
            "h\n",
            "llo\n",
            "llo,world\n",
            "llo,worl\n",
            "hello,worldhello,world\n"
          ]
        }
      ]
    },
    {
      "cell_type": "markdown",
      "source": [
        "## ***Python Sequence Data Types***\n",
        "1. List Data type\n",
        "2. Tuple Data type\n",
        "3. Range Data Type"
      ],
      "metadata": {
        "id": "PAJoOONgaTDN"
      }
    },
    {
      "cell_type": "code",
      "source": [
        "list = [ 'abcd', 786 , 2.23, 'john', 70.2 ]\n",
        "tinylist = [123, 'john']\n",
        "\n",
        "print (list)            # Prints complete list\n",
        "print (list[0])         # Prints first element of the list\n",
        "print (list[1:3])       # Prints elements starting from 2nd till 3rd\n",
        "print (list[2:])        # Prints elements starting from 3rd element\n",
        "print (tinylist * 2)    # Prints list two times\n",
        "print (list + tinylist) # Prints concatenated lists"
      ],
      "metadata": {
        "colab": {
          "base_uri": "https://localhost:8080/"
        },
        "id": "R-kArBxkZlmg",
        "outputId": "5b3de226-9810-4bc3-84bf-764d0036d1d2"
      },
      "execution_count": null,
      "outputs": [
        {
          "output_type": "stream",
          "name": "stdout",
          "text": [
            "['abcd', 786, 2.23, 'john', 70.2]\n",
            "abcd\n",
            "[786, 2.23]\n",
            "[2.23, 'john', 70.2]\n",
            "[123, 'john', 123, 'john']\n",
            "['abcd', 786, 2.23, 'john', 70.2, 123, 'john']\n"
          ]
        }
      ]
    },
    {
      "cell_type": "code",
      "source": [
        "2025,'chitwan','data minimg',5032005 #forms tuple by default"
      ],
      "metadata": {
        "colab": {
          "base_uri": "https://localhost:8080/"
        },
        "id": "bQTWH-Bfau7z",
        "outputId": "4fb1e7c6-2739-4849-829a-5937267799c7"
      },
      "execution_count": null,
      "outputs": [
        {
          "output_type": "execute_result",
          "data": {
            "text/plain": [
              "(2025, 'chitwan', 'data minimg', 5032005)"
            ]
          },
          "metadata": {},
          "execution_count": 53
        }
      ]
    },
    {
      "cell_type": "code",
      "source": [
        "[2025,'chitwan','data minimg',5032005] #forms list"
      ],
      "metadata": {
        "colab": {
          "base_uri": "https://localhost:8080/"
        },
        "id": "VRv05cV7bDxb",
        "outputId": "d4d8ea03-d2ff-4255-e0b2-6e39ebffad07"
      },
      "execution_count": null,
      "outputs": [
        {
          "output_type": "execute_result",
          "data": {
            "text/plain": [
              "[2025, 'chitwan', 'data minimg', 5032005]"
            ]
          },
          "metadata": {},
          "execution_count": 55
        }
      ]
    },
    {
      "cell_type": "code",
      "source": [
        "tuple = ( 'abcd', 786 , 2.23, 'john', 70.2  )\n",
        "tinytuple = (123, 'john')\n",
        "\n",
        "print (tuple)               # Prints the complete tuple\n",
        "print (tuple[0])            # Prints first element of the tuple\n",
        "print (tuple[1:3])          # Prints elements of the tuple starting from 2nd till 3rd\n",
        "print (tuple[2:])           # Prints elements of the tuple starting from 3rd element\n",
        "print (tinytuple * 2)       # Prints the contents of the tuple twice\n",
        "print (tuple + tinytuple)   # Prints concatenated tuples"
      ],
      "metadata": {
        "colab": {
          "base_uri": "https://localhost:8080/"
        },
        "id": "L7J-y-jgbKMf",
        "outputId": "d21045d3-6875-4cea-c0eb-bbfa76858812"
      },
      "execution_count": null,
      "outputs": [
        {
          "output_type": "stream",
          "name": "stdout",
          "text": [
            "('abcd', 786, 2.23, 'john', 70.2)\n",
            "abcd\n",
            "(786, 2.23)\n",
            "(2.23, 'john', 70.2)\n",
            "(123, 'john', 123, 'john')\n",
            "('abcd', 786, 2.23, 'john', 70.2, 123, 'john')\n"
          ]
        }
      ]
    },
    {
      "cell_type": "code",
      "source": [
        "#The main differences between lists and tuples are: Lists are enclosed in brackets ( [ ] )\n",
        "#and their elements and size can be changed i.e. lists are mutable, while tuples are enclosed\n",
        "#in parentheses ( ( ) ) and cannot be updated (immutable). Tuples can be thought of as read-only lists."
      ],
      "metadata": {
        "id": "t0JWIIFnbOuh"
      },
      "execution_count": null,
      "outputs": []
    },
    {
      "cell_type": "code",
      "source": [
        "tuple = ( 'abcd', 786 , 2.23, 'john', 70.2  )\n",
        "list = [ 'abcd', 786 , 2.23, 'john', 70.2  ]\n",
        "#tuple[2] = 1000    # Invalid syntax with tuple\n",
        "list[2] = 1000     # Valid syntax with list"
      ],
      "metadata": {
        "id": "YPSMUhu1bZrd"
      },
      "execution_count": null,
      "outputs": []
    },
    {
      "cell_type": "code",
      "source": [
        "print(range(10))\n"
      ],
      "metadata": {
        "colab": {
          "base_uri": "https://localhost:8080/"
        },
        "id": "5lxBhWKsbbdx",
        "outputId": "6a292b97-6475-43be-e57f-4802f1201a2b"
      },
      "execution_count": null,
      "outputs": [
        {
          "output_type": "stream",
          "name": "stdout",
          "text": [
            "range(0, 10)\n"
          ]
        }
      ]
    },
    {
      "cell_type": "code",
      "source": [
        "range(2,8)"
      ],
      "metadata": {
        "colab": {
          "base_uri": "https://localhost:8080/"
        },
        "id": "BMz8mTBDbo7O",
        "outputId": "4d170314-1273-4988-9dda-a7fc662bdfe9"
      },
      "execution_count": null,
      "outputs": [
        {
          "output_type": "execute_result",
          "data": {
            "text/plain": [
              "range(2, 8)"
            ]
          },
          "metadata": {},
          "execution_count": 62
        }
      ]
    },
    {
      "cell_type": "code",
      "source": [
        "evens=range(0,20,2)"
      ],
      "metadata": {
        "id": "pdoemeQVbw3S"
      },
      "execution_count": null,
      "outputs": []
    },
    {
      "cell_type": "code",
      "source": [
        "evens"
      ],
      "metadata": {
        "colab": {
          "base_uri": "https://localhost:8080/"
        },
        "id": "SB3TfX58b0qU",
        "outputId": "08948b48-85cf-4a33-d727-5f2f49aa5d5e"
      },
      "execution_count": null,
      "outputs": [
        {
          "output_type": "execute_result",
          "data": {
            "text/plain": [
              "range(0, 20, 2)"
            ]
          },
          "metadata": {},
          "execution_count": 64
        }
      ]
    },
    {
      "cell_type": "code",
      "source": [
        "evens[3]"
      ],
      "metadata": {
        "colab": {
          "base_uri": "https://localhost:8080/"
        },
        "id": "hTB39iPWb2mW",
        "outputId": "89afcc36-9fc1-4aef-986e-bb6c80e27e8e"
      },
      "execution_count": null,
      "outputs": [
        {
          "output_type": "execute_result",
          "data": {
            "text/plain": [
              "6"
            ]
          },
          "metadata": {},
          "execution_count": 66
        }
      ]
    },
    {
      "cell_type": "code",
      "source": [
        "len(evens)"
      ],
      "metadata": {
        "colab": {
          "base_uri": "https://localhost:8080/"
        },
        "id": "dPHcbi01b4mO",
        "outputId": "39c7cdc4-9a45-4321-bd7e-0c41739b564c"
      },
      "execution_count": null,
      "outputs": [
        {
          "output_type": "execute_result",
          "data": {
            "text/plain": [
              "10"
            ]
          },
          "metadata": {},
          "execution_count": 67
        }
      ]
    },
    {
      "cell_type": "code",
      "source": [
        "for i in range(10):\n",
        "    print(i)"
      ],
      "metadata": {
        "colab": {
          "base_uri": "https://localhost:8080/"
        },
        "id": "xc5Zcdlub_bW",
        "outputId": "9761b8da-2c2f-4e42-c3de-f2c502bb34a7"
      },
      "execution_count": null,
      "outputs": [
        {
          "output_type": "stream",
          "name": "stdout",
          "text": [
            "0\n",
            "1\n",
            "2\n",
            "3\n",
            "4\n",
            "5\n",
            "6\n",
            "7\n",
            "8\n",
            "9\n"
          ]
        }
      ]
    },
    {
      "cell_type": "code",
      "source": [
        "for i in range(2,8,2):\n",
        "  print(i)"
      ],
      "metadata": {
        "colab": {
          "base_uri": "https://localhost:8080/"
        },
        "id": "Ra9dr3tOcG4A",
        "outputId": "b8c64ace-5064-4554-87f5-8eca93ec0864"
      },
      "execution_count": null,
      "outputs": [
        {
          "output_type": "stream",
          "name": "stdout",
          "text": [
            "2\n",
            "4\n",
            "6\n"
          ]
        }
      ]
    },
    {
      "cell_type": "markdown",
      "source": [
        "## ***Python Binary Data types***\n",
        "1. bytes\n",
        "2. bytearray\n",
        "3. memoryview"
      ],
      "metadata": {
        "id": "McIpKt02cbWs"
      }
    },
    {
      "cell_type": "code",
      "source": [
        "b1=bytes([65,66,67,68,69])\n",
        "print(b1)"
      ],
      "metadata": {
        "colab": {
          "base_uri": "https://localhost:8080/"
        },
        "id": "mB7fPMVpcL48",
        "outputId": "60a25ef0-eb8f-4e68-df79-abcc4d83e36a"
      },
      "execution_count": null,
      "outputs": [
        {
          "output_type": "stream",
          "name": "stdout",
          "text": [
            "b'ABCDE'\n"
          ]
        }
      ]
    },
    {
      "cell_type": "code",
      "source": [
        "b2=b'Hello' # we are using the \"b\" prefix before a string to automatically create a bytes object −\n",
        "print(b2)\n",
        "print(type(b2))\n"
      ],
      "metadata": {
        "colab": {
          "base_uri": "https://localhost:8080/"
        },
        "id": "7EIbYFiqctmn",
        "outputId": "9dbef3ea-f518-4294-e6d0-72a3aa22e2f0"
      },
      "execution_count": null,
      "outputs": [
        {
          "output_type": "stream",
          "name": "stdout",
          "text": [
            "b'Hello'\n",
            "<class 'bytes'>\n"
          ]
        }
      ]
    },
    {
      "cell_type": "code",
      "source": [
        "value = bytearray([72, 101, 108, 108, 111])\n",
        "print(value)"
      ],
      "metadata": {
        "colab": {
          "base_uri": "https://localhost:8080/"
        },
        "id": "zrel92Ebc-Iu",
        "outputId": "aac1321b-82ed-4647-b9e6-2d8f6824d36b"
      },
      "execution_count": null,
      "outputs": [
        {
          "output_type": "stream",
          "name": "stdout",
          "text": [
            "bytearray(b'Hello')\n"
          ]
        }
      ]
    },
    {
      "cell_type": "code",
      "source": [
        "val = bytearray(\"Hello\", 'utf-8')\n",
        "print(val)"
      ],
      "metadata": {
        "id": "0Ka3-VJOdFCZ",
        "outputId": "2acf1db9-cdee-4f23-fcda-9190fbe15b19",
        "colab": {
          "base_uri": "https://localhost:8080/"
        }
      },
      "execution_count": null,
      "outputs": [
        {
          "output_type": "stream",
          "name": "stdout",
          "text": [
            "bytearray(b'Hello')\n"
          ]
        }
      ]
    },
    {
      "cell_type": "code",
      "source": [
        "data=bytearray(b'Hello World!')\n",
        "view=memoryview(data)\n",
        "print(data)\n",
        "print(view)"
      ],
      "metadata": {
        "id": "SHZTV8jUsme5",
        "outputId": "d57b83d0-859a-4bcf-e1f4-cfab493d5058",
        "colab": {
          "base_uri": "https://localhost:8080/"
        }
      },
      "execution_count": null,
      "outputs": [
        {
          "output_type": "stream",
          "name": "stdout",
          "text": [
            "bytearray(b'Hello World!')\n",
            "<memory at 0x79171e329f00>\n"
          ]
        }
      ]
    },
    {
      "cell_type": "code",
      "source": [
        "import array\n",
        "arr=array.array('i',[1,2,3,4,5])\n",
        "print(arr)\n",
        "view=memoryview(arr)\n",
        "print(view)"
      ],
      "metadata": {
        "id": "_mnGweuZs2Ui",
        "outputId": "3e8b2f9c-0bb9-4de1-a5a1-a83bc2e30ea8",
        "colab": {
          "base_uri": "https://localhost:8080/"
        }
      },
      "execution_count": null,
      "outputs": [
        {
          "output_type": "stream",
          "name": "stdout",
          "text": [
            "array('i', [1, 2, 3, 4, 5])\n",
            "<memory at 0x79171e328340>\n"
          ]
        }
      ]
    },
    {
      "cell_type": "code",
      "source": [
        "data=b'Hello, World!'\n",
        "\n",
        "view=memoryview(data[5:10])\n",
        "print(view)"
      ],
      "metadata": {
        "id": "Fm0fZy18tWqE",
        "outputId": "4eef0e38-8f9b-4c25-cb9a-c762cb63d1e4",
        "colab": {
          "base_uri": "https://localhost:8080/"
        }
      },
      "execution_count": null,
      "outputs": [
        {
          "output_type": "stream",
          "name": "stdout",
          "text": [
            "<memory at 0x79171e3281c0>\n"
          ]
        }
      ]
    },
    {
      "cell_type": "markdown",
      "source": [
        "## ***Python Dictionary Data Type***"
      ],
      "metadata": {
        "id": "rxrjYFd9tnuV"
      }
    },
    {
      "cell_type": "code",
      "source": [
        "type({1:'one',2:'two',3:'three'})"
      ],
      "metadata": {
        "id": "TGbqJboptvBM",
        "outputId": "dac9ee92-e834-40e0-e2ca-f3082c922d34",
        "colab": {
          "base_uri": "https://localhost:8080/"
        }
      },
      "execution_count": null,
      "outputs": [
        {
          "output_type": "execute_result",
          "data": {
            "text/plain": [
              "dict"
            ]
          },
          "metadata": {},
          "execution_count": 7
        }
      ]
    },
    {
      "cell_type": "code",
      "source": [
        "#Dictionaries are enclosed by curly braces ({ }) and values can be assigned\n",
        "#and accessed using square braces ([])."
      ],
      "metadata": {
        "id": "k2D8wqy2t9hf"
      },
      "execution_count": null,
      "outputs": []
    },
    {
      "cell_type": "code",
      "source": [
        "dict={}\n",
        "dict['one']=\"This is one\"\n",
        "dict[2]=\"This is two\"\n",
        "\n",
        "tinydict={'name':'john','code':6734,'dept':'sales'}\n",
        "\n",
        "print(dict['one'])\n",
        "print(dict[2])\n",
        "print(dict.keys())\n",
        "print(dict.values())\n",
        "print(tinydict)\n",
        "print(tinydict.keys())\n",
        "print(tinydict.values())"
      ],
      "metadata": {
        "id": "2qr1HN_xuBWK",
        "outputId": "018be3c6-499a-46d1-9c12-030efc8300ab",
        "colab": {
          "base_uri": "https://localhost:8080/"
        }
      },
      "execution_count": null,
      "outputs": [
        {
          "output_type": "stream",
          "name": "stdout",
          "text": [
            "This is one\n",
            "This is two\n",
            "dict_keys(['one', 2])\n",
            "dict_values(['This is one', 'This is two'])\n",
            "{'name': 'john', 'code': 6734, 'dept': 'sales'}\n",
            "dict_keys(['name', 'code', 'dept'])\n",
            "dict_values(['john', 6734, 'sales'])\n"
          ]
        }
      ]
    },
    {
      "cell_type": "markdown",
      "source": [
        "## ***Python Set Data Type***"
      ],
      "metadata": {
        "id": "2-17U2UdulsW"
      }
    },
    {
      "cell_type": "code",
      "source": [
        "type({2023,5+6j,3.11,1.222E-4,\"python\"})"
      ],
      "metadata": {
        "id": "rZ3AocAivPhX",
        "outputId": "f5a699a1-c7fc-4457-d0a4-b72bc7564c52",
        "colab": {
          "base_uri": "https://localhost:8080/"
        }
      },
      "execution_count": null,
      "outputs": [
        {
          "output_type": "execute_result",
          "data": {
            "text/plain": [
              "set"
            ]
          },
          "metadata": {},
          "execution_count": 13
        }
      ]
    },
    {
      "cell_type": "code",
      "source": [
        "#A set can store only immutable objects such as number (int, float, complex or bool),\n",
        "# string or tuple. If you try to put a list or a dictionary in the set collection,\n",
        "#Python raises a TypeError."
      ],
      "metadata": {
        "id": "gOAB8KULveJS"
      },
      "execution_count": null,
      "outputs": []
    },
    {
      "cell_type": "code",
      "source": [
        "set1=(123,456,7,8)"
      ],
      "metadata": {
        "id": "b44hoQJVvlAQ"
      },
      "execution_count": null,
      "outputs": []
    },
    {
      "cell_type": "code",
      "source": [
        "set2=('java','python','javascript')"
      ],
      "metadata": {
        "id": "BGtmifBevpPb"
      },
      "execution_count": null,
      "outputs": []
    },
    {
      "cell_type": "code",
      "source": [
        "print(set1)\n",
        "print(set2)"
      ],
      "metadata": {
        "id": "O-xsgNQRvteb",
        "outputId": "2e95dc10-85e9-4c48-b90b-5b86f20f8cbe",
        "colab": {
          "base_uri": "https://localhost:8080/"
        }
      },
      "execution_count": null,
      "outputs": [
        {
          "output_type": "stream",
          "name": "stdout",
          "text": [
            "(123, 456, 7, 8)\n",
            "('java', 'python', 'javascript')\n"
          ]
        }
      ]
    },
    {
      "cell_type": "markdown",
      "source": [
        "## ***Python Boolean Data Type***"
      ],
      "metadata": {
        "id": "ndIEPo8FvyjL"
      }
    },
    {
      "cell_type": "code",
      "source": [
        "print(type(True))\n",
        "print(type(False))"
      ],
      "metadata": {
        "id": "e17P9Jgavwt7",
        "outputId": "17ab2109-40f7-4a7b-d5d8-7fc817db8be2",
        "colab": {
          "base_uri": "https://localhost:8080/"
        }
      },
      "execution_count": null,
      "outputs": [
        {
          "output_type": "stream",
          "name": "stdout",
          "text": [
            "<class 'bool'>\n",
            "<class 'bool'>\n"
          ]
        }
      ]
    },
    {
      "cell_type": "code",
      "source": [
        "a=2\n",
        "b=3\n",
        "\n",
        "print(bool(a==b))\n",
        "print(bool(a!=b))\n",
        "print(bool(a>b))\n",
        "print(bool(a<b))"
      ],
      "metadata": {
        "id": "ZxXaLEfmv8kq",
        "outputId": "040b997d-dcc6-4baa-ce68-537397e9bb80",
        "colab": {
          "base_uri": "https://localhost:8080/"
        }
      },
      "execution_count": null,
      "outputs": [
        {
          "output_type": "stream",
          "name": "stdout",
          "text": [
            "False\n",
            "True\n",
            "False\n",
            "True\n"
          ]
        }
      ]
    },
    {
      "cell_type": "code",
      "source": [
        "a=None\n",
        "print(bool(a))"
      ],
      "metadata": {
        "id": "cv3yrQyUwLo8",
        "outputId": "c3b2b04d-db84-4a84-df4c-62c1af2065dc",
        "colab": {
          "base_uri": "https://localhost:8080/"
        }
      },
      "execution_count": null,
      "outputs": [
        {
          "output_type": "stream",
          "name": "stdout",
          "text": [
            "False\n"
          ]
        }
      ]
    },
    {
      "cell_type": "code",
      "source": [
        "a=()\n",
        "print(bool(a))"
      ],
      "metadata": {
        "id": "leu5nIJQwPjF",
        "outputId": "c93de229-7d48-4ee1-cac4-0f1698e97797",
        "colab": {
          "base_uri": "https://localhost:8080/"
        }
      },
      "execution_count": null,
      "outputs": [
        {
          "output_type": "stream",
          "name": "stdout",
          "text": [
            "False\n"
          ]
        }
      ]
    },
    {
      "cell_type": "code",
      "source": [
        "a=0.0\n",
        "print(bool(a))"
      ],
      "metadata": {
        "id": "2FksUkXOwYHF",
        "outputId": "382a82f3-6709-43c4-8634-1c15d550444e",
        "colab": {
          "base_uri": "https://localhost:8080/"
        }
      },
      "execution_count": null,
      "outputs": [
        {
          "output_type": "stream",
          "name": "stdout",
          "text": [
            "False\n"
          ]
        }
      ]
    },
    {
      "cell_type": "code",
      "source": [
        "a=1.0\n",
        "print(bool(a))"
      ],
      "metadata": {
        "id": "kmhZq1BLwa80",
        "outputId": "0d04c3cc-f338-4fe6-d245-249e382c865f",
        "colab": {
          "base_uri": "https://localhost:8080/"
        }
      },
      "execution_count": null,
      "outputs": [
        {
          "output_type": "stream",
          "name": "stdout",
          "text": [
            "True\n"
          ]
        }
      ]
    },
    {
      "cell_type": "code",
      "source": [
        "a=2\n",
        "print(bool(a))"
      ],
      "metadata": {
        "id": "WkQfNfmBwc5j",
        "outputId": "e8b2b4bc-53f4-4779-e319-b034f255c330",
        "colab": {
          "base_uri": "https://localhost:8080/"
        }
      },
      "execution_count": null,
      "outputs": [
        {
          "output_type": "stream",
          "name": "stdout",
          "text": [
            "True\n"
          ]
        }
      ]
    },
    {
      "cell_type": "markdown",
      "source": [
        "## ***Python None Type***"
      ],
      "metadata": {
        "id": "iJkPXZkgwj8P"
      }
    },
    {
      "cell_type": "code",
      "source": [
        "x=None\n",
        "\n",
        "print(\"x = \",x)\n",
        "print(type(x))"
      ],
      "metadata": {
        "id": "e-cMpMY3whI1",
        "outputId": "e3c1c3df-c1b3-4ce0-a15d-b7b817f229ee",
        "colab": {
          "base_uri": "https://localhost:8080/"
        }
      },
      "execution_count": null,
      "outputs": [
        {
          "output_type": "stream",
          "name": "stdout",
          "text": [
            "x =  None\n",
            "<class 'NoneType'>\n"
          ]
        }
      ]
    },
    {
      "cell_type": "markdown",
      "source": [
        "# **Type Casting**"
      ],
      "metadata": {
        "id": "9l8Cae3B0eRa"
      }
    },
    {
      "cell_type": "markdown",
      "source": [
        "## ***Implicit Type Casting***"
      ],
      "metadata": {
        "id": "22QoJtkn0jng"
      }
    },
    {
      "cell_type": "code",
      "source": [
        "a=10   #int\n",
        "b=10.2 #float"
      ],
      "metadata": {
        "id": "NjnLN6a9wrxe"
      },
      "execution_count": null,
      "outputs": []
    },
    {
      "cell_type": "code",
      "source": [
        "c=a+b # here a is implicilty type casted from int to float\n",
        "print(c)"
      ],
      "metadata": {
        "id": "qGctAKe80ykc",
        "outputId": "1eca00c9-6df3-4a3b-df2b-7a37350891e1",
        "colab": {
          "base_uri": "https://localhost:8080/"
        }
      },
      "execution_count": null,
      "outputs": [
        {
          "output_type": "stream",
          "name": "stdout",
          "text": [
            "20.2\n"
          ]
        }
      ]
    },
    {
      "cell_type": "code",
      "source": [
        "a=True\n",
        "b=10.5\n",
        "d=False\n",
        "c=a+b\n",
        "\n",
        "print(c)  # it is 1+10.5\n",
        "print(d+b) # it is 0+10.5"
      ],
      "metadata": {
        "id": "ptPlCFK6040h",
        "outputId": "77e4efda-6ecf-47aa-d28b-9ffbb934c4d0",
        "colab": {
          "base_uri": "https://localhost:8080/"
        }
      },
      "execution_count": null,
      "outputs": [
        {
          "output_type": "stream",
          "name": "stdout",
          "text": [
            "11.5\n",
            "10.5\n"
          ]
        }
      ]
    },
    {
      "cell_type": "markdown",
      "source": [
        "## ***Explicit Type Casting***"
      ],
      "metadata": {
        "id": "ZHPheCXh1yUN"
      }
    },
    {
      "cell_type": "code",
      "source": [
        "a=int(10)\n",
        "b=float(10)\n",
        "c=str(10)\n",
        "\n",
        "print(type(a))\n",
        "print(type(b))\n",
        "print(type(c))"
      ],
      "metadata": {
        "id": "PCb0SIig1r_B",
        "outputId": "e67d1e99-521d-4d97-dd67-9ee641f6e59a",
        "colab": {
          "base_uri": "https://localhost:8080/"
        }
      },
      "execution_count": null,
      "outputs": [
        {
          "output_type": "stream",
          "name": "stdout",
          "text": [
            "<class 'int'>\n",
            "<class 'float'>\n",
            "<class 'str'>\n"
          ]
        }
      ]
    },
    {
      "cell_type": "code",
      "source": [
        "#binary string to integer\n",
        "a=int(\"110011\",2)\n",
        "a"
      ],
      "metadata": {
        "id": "trVe-p272sWl",
        "outputId": "10f4d627-ae71-48f7-cf60-697d3a674885",
        "colab": {
          "base_uri": "https://localhost:8080/"
        }
      },
      "execution_count": null,
      "outputs": [
        {
          "output_type": "execute_result",
          "data": {
            "text/plain": [
              "51"
            ]
          },
          "metadata": {},
          "execution_count": 31
        }
      ]
    },
    {
      "cell_type": "code",
      "source": [
        "#octal to int\n",
        "a=int(\"20\",8)\n",
        "a"
      ],
      "metadata": {
        "id": "K48R5dYS38SH",
        "outputId": "ca1f8c10-d661-4bf8-fa9c-44cbae2ef5ee",
        "colab": {
          "base_uri": "https://localhost:8080/"
        }
      },
      "execution_count": null,
      "outputs": [
        {
          "output_type": "execute_result",
          "data": {
            "text/plain": [
              "16"
            ]
          },
          "metadata": {},
          "execution_count": 33
        }
      ]
    },
    {
      "cell_type": "code",
      "source": [
        "#hexa-decimal str to int\n",
        "a=int(\"2A9\",16)\n",
        "a"
      ],
      "metadata": {
        "id": "fxUjBIHM45qy",
        "outputId": "5b33a490-7839-4f12-cc44-70de9e9e3da2",
        "colab": {
          "base_uri": "https://localhost:8080/"
        }
      },
      "execution_count": null,
      "outputs": [
        {
          "output_type": "execute_result",
          "data": {
            "text/plain": [
              "681"
            ]
          },
          "metadata": {},
          "execution_count": 34
        }
      ]
    },
    {
      "cell_type": "code",
      "source": [
        "#str cannot be converted/casted to int or float whereas vice-versa is true"
      ],
      "metadata": {
        "id": "UZycwlD-41zs"
      },
      "execution_count": null,
      "outputs": []
    },
    {
      "cell_type": "code",
      "source": [
        "#string to list\n",
        "c=\"Hello\"\n",
        "obj=list(c)\n",
        "obj"
      ],
      "metadata": {
        "id": "io2rs_my5j_T",
        "outputId": "aa60c0ef-c50a-40c9-a0a6-f65d3bbb017e",
        "colab": {
          "base_uri": "https://localhost:8080/"
        }
      },
      "execution_count": null,
      "outputs": [
        {
          "output_type": "execute_result",
          "data": {
            "text/plain": [
              "['H', 'e', 'l', 'l', 'o']"
            ]
          },
          "metadata": {},
          "execution_count": 38
        }
      ]
    },
    {
      "cell_type": "code",
      "source": [
        "#tuple to list\n",
        "c=(1,2,3,4)\n",
        "obj=list(c)\n",
        "obj"
      ],
      "metadata": {
        "id": "5XCRECxY6Q8y",
        "outputId": "2cad2de5-cac5-46f0-d377-663d1183f0f0",
        "colab": {
          "base_uri": "https://localhost:8080/"
        }
      },
      "execution_count": null,
      "outputs": [
        {
          "output_type": "execute_result",
          "data": {
            "text/plain": [
              "[1, 2, 3, 4]"
            ]
          },
          "metadata": {},
          "execution_count": 39
        }
      ]
    }
  ]
}