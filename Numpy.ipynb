{
  "nbformat": 4,
  "nbformat_minor": 0,
  "metadata": {
    "colab": {
      "provenance": [],
      "authorship_tag": "ABX9TyN5fq2LCdXg4wpOo8CedbX3",
      "include_colab_link": true
    },
    "kernelspec": {
      "name": "python3",
      "display_name": "Python 3"
    },
    "language_info": {
      "name": "python"
    }
  },
  "cells": [
    {
      "cell_type": "markdown",
      "metadata": {
        "id": "view-in-github",
        "colab_type": "text"
      },
      "source": [
        "<a href=\"https://colab.research.google.com/github/chitwan6804/Data_mining/blob/main/Numpy.ipynb\" target=\"_parent\"><img src=\"https://colab.research.google.com/assets/colab-badge.svg\" alt=\"Open In Colab\"/></a>"
      ]
    },
    {
      "cell_type": "markdown",
      "source": [
        "# ***Numpy***"
      ],
      "metadata": {
        "id": "fSj_3KEo-ZlX"
      }
    },
    {
      "cell_type": "code",
      "source": [
        "import numpy as np\n",
        "arr=np.array([10,20,30,40,50])\n",
        "# print(arr)\n",
        "\n",
        "arr1=np.array([[10,20],[30,40]])\n",
        "# print(arr1)\n",
        "\n",
        "a=np.array([1,2,3,4],dtype=float)\n",
        "# print(a)\n",
        "\n",
        "print(\"Contents of arr:\\n\",arr);\n",
        "print(\"\\nContents of arr1:\\n\",arr1);\n",
        "print(\"\\nContents of a:\\n\",a)\n",
        "\n",
        "print(\"\\nShape:\",arr1.shape)\n",
        "print(\"\\nStrides:\",a.strides)"
      ],
      "metadata": {
        "colab": {
          "base_uri": "https://localhost:8080/"
        },
        "id": "B2ujVtNXc8YO",
        "outputId": "d2f7d7a1-fa76-42ac-c028-83a437d1f0d9"
      },
      "execution_count": null,
      "outputs": [
        {
          "output_type": "stream",
          "name": "stdout",
          "text": [
            "Contents of arr:\n",
            " [10 20 30 40 50]\n",
            "\n",
            "Contents of arr1:\n",
            " [[10 20]\n",
            " [30 40]]\n",
            "\n",
            "Contents of a:\n",
            " [1. 2. 3. 4.]\n",
            "\n",
            "Shape: (2, 2)\n",
            "\n",
            "Strides: (8,)\n"
          ]
        }
      ]
    },
    {
      "cell_type": "markdown",
      "source": [
        "## ***Data Types***"
      ],
      "metadata": {
        "id": "wdIMWHqWgRZu"
      }
    },
    {
      "cell_type": "code",
      "source": [
        "dt=np.dtype(np.int32)\n",
        "print(dt)"
      ],
      "metadata": {
        "colab": {
          "base_uri": "https://localhost:8080/"
        },
        "id": "RBl3m3h5gQi-",
        "outputId": "8e904755-3261-4282-bdd6-66cba26bb554"
      },
      "execution_count": null,
      "outputs": [
        {
          "output_type": "stream",
          "name": "stdout",
          "text": [
            "int32\n"
          ]
        }
      ]
    },
    {
      "cell_type": "code",
      "source": [
        "dt=np.dtype([('age',np.int8)])\n",
        "a=np.array([(10,),(20,)],dtype=dt)\n",
        "print(a)\n",
        "print(a['age'])"
      ],
      "metadata": {
        "colab": {
          "base_uri": "https://localhost:8080/"
        },
        "id": "V-Mcxfhcc6nz",
        "outputId": "8083bdf4-e01a-41e5-f2be-404b15b44061"
      },
      "execution_count": null,
      "outputs": [
        {
          "output_type": "stream",
          "name": "stdout",
          "text": [
            "[(10,) (20,)]\n",
            "[10 20]\n"
          ]
        }
      ]
    },
    {
      "cell_type": "code",
      "source": [
        "student=np.dtype([('name','S20'),('age','i1'),('marks','f4')])\n",
        "a=np.array([('abc',21,50),('xyz',18,75)],dtype=student)\n",
        "print(a)"
      ],
      "metadata": {
        "colab": {
          "base_uri": "https://localhost:8080/"
        },
        "id": "208YLkm3iEMk",
        "outputId": "1325b501-6448-43b0-e278-a3ac9d0b073b"
      },
      "execution_count": null,
      "outputs": [
        {
          "output_type": "stream",
          "name": "stdout",
          "text": [
            "[(b'abc', 21, 50.) (b'xyz', 18, 75.)]\n"
          ]
        }
      ]
    },
    {
      "cell_type": "code",
      "source": [
        "a=np.array([1,2,3,4,5])\n",
        "print(\"Original array:\",a)\n",
        "print(\"Original Data type:\",a.dtype)\n",
        "\n",
        "a_float=a.astype(np.float32)\n",
        "print(\"Converted array:\",a_float)\n",
        "print(\"Converted dtype:\",a_float.dtype)"
      ],
      "metadata": {
        "colab": {
          "base_uri": "https://localhost:8080/"
        },
        "id": "052jcpdLjW7q",
        "outputId": "7c936de2-31f9-4d56-e68b-b7d78fe87d10"
      },
      "execution_count": null,
      "outputs": [
        {
          "output_type": "stream",
          "name": "stdout",
          "text": [
            "Original array: [1 2 3 4 5]\n",
            "Original Data type: int64\n",
            "Converted array: [1. 2. 3. 4. 5.]\n",
            "Converted dtype: float32\n"
          ]
        }
      ]
    },
    {
      "cell_type": "code",
      "source": [
        "a=np.array(['1','2','three','four'])\n",
        "print(\"Original array:\",a)\n",
        "print(\"Original Data type:\",a.dtype)\n",
        "\n",
        "try:\n",
        "  a_int=a.astype(np.int32)\n",
        "  print(\"Converted array:\",a_int)\n",
        "  print(\"Converted dtype:\",a_int.dtype)\n",
        "except ValueError as e:\n",
        "  print(\"Error:\",e)"
      ],
      "metadata": {
        "colab": {
          "base_uri": "https://localhost:8080/"
        },
        "id": "lpBguEs_j7Vw",
        "outputId": "651ff13b-e89e-4830-c0b9-6edbdfa7d1a1"
      },
      "execution_count": null,
      "outputs": [
        {
          "output_type": "stream",
          "name": "stdout",
          "text": [
            "Original array: ['1' '2' 'three' 'four']\n",
            "Original Data type: <U5\n",
            "Error: invalid literal for int() with base 10: 'three'\n"
          ]
        }
      ]
    },
    {
      "cell_type": "code",
      "source": [
        "c=np.array([1+2j,3+4j,5+6j])\n",
        "print(\"Original array:\",c)\n",
        "print(\"Original Data type:\",c.dtype)\n",
        "c_float=c.astype(np.float32)\n",
        "print(\"Converted array:\",c_float)\n",
        "print(\"Converted dtype:\",c_float.dtype)"
      ],
      "metadata": {
        "colab": {
          "base_uri": "https://localhost:8080/"
        },
        "id": "FC4pGOe0lnA2",
        "outputId": "8c743b4f-06db-4f6d-a511-e7871194b23b"
      },
      "execution_count": null,
      "outputs": [
        {
          "output_type": "stream",
          "name": "stdout",
          "text": [
            "Original array: [1.+2.j 3.+4.j 5.+6.j]\n",
            "Original Data type: complex128\n",
            "Converted array: [1. 3. 5.]\n",
            "Converted dtype: float32\n"
          ]
        },
        {
          "output_type": "stream",
          "name": "stderr",
          "text": [
            "<ipython-input-26-b699bad06b4c>:5: ComplexWarning: Casting complex values to real discards the imaginary part\n",
            "  c_float=c.astype(np.float32)\n"
          ]
        }
      ]
    },
    {
      "cell_type": "code",
      "source": [
        "a=np.array([1.1,2.2])\n",
        "print(\"Original array:\",a)\n",
        "print(\"Original Data type:\",a.dtype)\n",
        "def safe_convert(arr,target_type):\n",
        "  try:\n",
        "    return arr.astype(target_type)\n",
        "  except ValueError as e:\n",
        "    print(\"Error:\",e)\n",
        "    return None\n",
        "\n",
        "d_int =safe_convert(a,np.int32)\n",
        "if d_int is not None:\n",
        "  print(\"Converted array:\",d_int)\n",
        "  print(\"Converted dtype:\",d_int.dtype)\n",
        "else:\n",
        "  print(\"Conversion failed\")"
      ],
      "metadata": {
        "colab": {
          "base_uri": "https://localhost:8080/"
        },
        "id": "qMHV9hEUmM4w",
        "outputId": "7fa08847-72b8-4d38-bcd8-e639ed63d9b5"
      },
      "execution_count": null,
      "outputs": [
        {
          "output_type": "stream",
          "name": "stdout",
          "text": [
            "Original array: [1.1 2.2]\n",
            "Original Data type: float64\n",
            "Converted array: [1 2]\n",
            "Converted dtype: int32\n"
          ]
        }
      ]
    },
    {
      "cell_type": "code",
      "source": [
        "e=np.array(['1.1','2.2','Three'])\n",
        "print(\"Original array:\",e)\n",
        "print(\"Original Data type:\",e.dtype)\n",
        "\n",
        "def convert_with_nan(arr):\n",
        "  result=[]\n",
        "  for item in arr:\n",
        "    try:\n",
        "      result.append(float(item))\n",
        "    except ValueError:\n",
        "      result.append(np.nan)\n",
        "  return np.array(result)\n",
        "\n",
        "e_float=convert_with_nan(e)\n",
        "print(\"Converted array:\",e_float)\n",
        "print(\"Converted dtype:\",e_float.dtype)"
      ],
      "metadata": {
        "colab": {
          "base_uri": "https://localhost:8080/"
        },
        "id": "wbKZ7ZrdnMuc",
        "outputId": "8833db16-29c3-433e-897d-f0ccf1d8daa8"
      },
      "execution_count": null,
      "outputs": [
        {
          "output_type": "stream",
          "name": "stdout",
          "text": [
            "Original array: ['1.1' '2.2' 'Three']\n",
            "Original Data type: <U5\n",
            "Converted array: [1.1 2.2 nan]\n",
            "Converted dtype: float64\n"
          ]
        }
      ]
    },
    {
      "cell_type": "markdown",
      "source": [
        "## ***Creating and Manipulating Arrays***"
      ],
      "metadata": {
        "id": "Qhq_2f1ztnF6"
      }
    },
    {
      "cell_type": "code",
      "source": [
        "my_list=[1,2,3,4]\n",
        "my_array=np.array(my_list)\n",
        "print(\"1D Array:\\n\",my_array)\n",
        "\n",
        "arr=np.array([[1,2,3],[4,5,6]])\n",
        "print(\"2D Array:\\n\",arr)\n",
        "\n",
        "arr1=np.zeros(5)\n",
        "print(\"1D Array with zeros:\\n\",arr1)\n",
        "arr2=np.ones((2,3))\n",
        "print(\"2D Array with ones:\\n\",arr2)\n",
        "arr3=np.full((2,3),7)\n",
        "print(\"2D Array with full:\\n\",arr3)\n",
        "\n",
        "arr4=np.eye(3)\n",
        "print(\"Identity Matrix:\\n\",arr4)\n",
        "\n",
        "array1=np.arange(10)\n",
        "print(\"array1:\",array1)\n",
        "array2=np.arange(1,10,2)\n",
        "print(\"array2:\",array2)\n",
        "\n",
        "array3=np.linspace(0,1,5)\n",
        "print(\"array3:\",array3)\n",
        "array3=np.linspace(0,1,5,endpoint=False)\n",
        "print(\"array3:\",array3)\n",
        "array4, step = np.linspace(0, 1, num=5, retstep=True)\n",
        "print(\"array3:\",array4)\n",
        "print(\"Step size:\", step)\n",
        "\n",
        "array5 = np.random.rand(2, 3)\n",
        "print(\"array5:\\n\",array5)\n",
        "\n",
        "empty_array = np.empty((2, 3))\n",
        "print(\"Empty Array:\\n\",empty_array)"
      ],
      "metadata": {
        "colab": {
          "base_uri": "https://localhost:8080/"
        },
        "id": "v3DF1vAZpI_B",
        "outputId": "4721b1d6-f8c2-4348-dfab-be2c2367aa96"
      },
      "execution_count": null,
      "outputs": [
        {
          "output_type": "stream",
          "name": "stdout",
          "text": [
            "1D Array:\n",
            " [1 2 3 4]\n",
            "2D Array:\n",
            " [[1 2 3]\n",
            " [4 5 6]]\n",
            "1D Array with zeros:\n",
            " [0. 0. 0. 0. 0.]\n",
            "2D Array with ones:\n",
            " [[1. 1. 1.]\n",
            " [1. 1. 1.]]\n",
            "2D Array with full:\n",
            " [[7 7 7]\n",
            " [7 7 7]]\n",
            "Identity Matrix:\n",
            " [[1. 0. 0.]\n",
            " [0. 1. 0.]\n",
            " [0. 0. 1.]]\n",
            "array1: [0 1 2 3 4 5 6 7 8 9]\n",
            "array2: [1 3 5 7 9]\n",
            "array3: [0.   0.25 0.5  0.75 1.  ]\n",
            "array3: [0.  0.2 0.4 0.6 0.8]\n",
            "array3: [0.   0.25 0.5  0.75 1.  ]\n",
            "Step size: 0.25\n",
            "array5:\n",
            " [[0.88933879 0.69784898 0.62230303]\n",
            " [0.04229927 0.69543188 0.96429624]]\n",
            "Empty Array:\n",
            " [[0.88933879 0.69784898 0.62230303]\n",
            " [0.04229927 0.69543188 0.96429624]]\n"
          ]
        }
      ]
    },
    {
      "cell_type": "markdown",
      "source": [
        "## ***Loops***"
      ],
      "metadata": {
        "id": "8sN-L9th5f3M"
      }
    },
    {
      "cell_type": "code",
      "source": [
        "# Create a 1-dimensional NumPy array\n",
        "arr = np.array([1, 2, 3, 4, 5])\n",
        "\n",
        "# Iterate over the array\n",
        "for element in arr:\n",
        "   print(element)"
      ],
      "metadata": {
        "colab": {
          "base_uri": "https://localhost:8080/"
        },
        "id": "ZfQbeLfGt1un",
        "outputId": "fcb51b88-5d4c-4fe5-f39d-610a095796a7"
      },
      "execution_count": null,
      "outputs": [
        {
          "output_type": "stream",
          "name": "stdout",
          "text": [
            "1\n",
            "2\n",
            "3\n",
            "4\n",
            "5\n"
          ]
        }
      ]
    },
    {
      "cell_type": "code",
      "source": [
        "arr_2d = np.array([[1, 2, 3],\n",
        "                   [4, 5, 6],\n",
        "                   [7, 8, 9]])\n",
        "\n",
        "# Iterate over the array\n",
        "for row in arr_2d:\n",
        "   print(row)"
      ],
      "metadata": {
        "colab": {
          "base_uri": "https://localhost:8080/"
        },
        "id": "bq7Ifivv5jbw",
        "outputId": "3a373648-45b4-473e-9f65-d3dbad065441"
      },
      "execution_count": null,
      "outputs": [
        {
          "output_type": "stream",
          "name": "stdout",
          "text": [
            "[1 2 3]\n",
            "[4 5 6]\n",
            "[7 8 9]\n"
          ]
        }
      ]
    },
    {
      "cell_type": "code",
      "source": [
        "arr_3d = np.array([[[1, 2, 3],\n",
        "                    [4, 5, 6]],\n",
        "                   [[7, 8, 9],\n",
        "                    [10, 11, 12]]])\n",
        "\n",
        "# Iterate over the array\n",
        "for matrix in arr_3d:\n",
        "   print(matrix)"
      ],
      "metadata": {
        "colab": {
          "base_uri": "https://localhost:8080/"
        },
        "id": "TecNRmh35rn3",
        "outputId": "84ee81a4-60f9-491d-8978-cfa9d9b4f5ef"
      },
      "execution_count": null,
      "outputs": [
        {
          "output_type": "stream",
          "name": "stdout",
          "text": [
            "[[1 2 3]\n",
            " [4 5 6]]\n",
            "[[ 7  8  9]\n",
            " [10 11 12]]\n"
          ]
        }
      ]
    },
    {
      "cell_type": "code",
      "source": [
        "rows,cols=arr_2d.shape\n",
        "\n",
        "for i in range(rows):\n",
        "  for j in range(cols):\n",
        "    print(f\"Element at ({i}, {j}): {arr_2d[i, j]}\")"
      ],
      "metadata": {
        "colab": {
          "base_uri": "https://localhost:8080/"
        },
        "id": "xvQOUCBo5vU8",
        "outputId": "a22c67c1-9586-4706-ebbc-3393b3a8f2f1"
      },
      "execution_count": null,
      "outputs": [
        {
          "output_type": "stream",
          "name": "stdout",
          "text": [
            "Element at (0, 0): 1\n",
            "Element at (0, 1): 2\n",
            "Element at (0, 2): 3\n",
            "Element at (1, 0): 4\n",
            "Element at (1, 1): 5\n",
            "Element at (1, 2): 6\n",
            "Element at (2, 0): 7\n",
            "Element at (2, 1): 8\n",
            "Element at (2, 2): 9\n"
          ]
        }
      ]
    },
    {
      "cell_type": "code",
      "source": [
        "for x in np.nditer(arr_2d):\n",
        "   print(x)"
      ],
      "metadata": {
        "colab": {
          "base_uri": "https://localhost:8080/"
        },
        "id": "88pQVZxH5-Xr",
        "outputId": "0aea2cfa-9233-4dfb-8dec-98a4f8eec1fc"
      },
      "execution_count": null,
      "outputs": [
        {
          "output_type": "stream",
          "name": "stdout",
          "text": [
            "1\n",
            "2\n",
            "3\n",
            "4\n",
            "5\n",
            "6\n",
            "7\n",
            "8\n",
            "9\n"
          ]
        }
      ]
    },
    {
      "cell_type": "code",
      "source": [
        "for x in np.nditer(arr_2d):\n",
        "   print(x,end='')"
      ],
      "metadata": {
        "colab": {
          "base_uri": "https://localhost:8080/"
        },
        "id": "n7jfSdtN6E01",
        "outputId": "f686dc7d-5f9b-4e22-8619-70a3b3ac94f3"
      },
      "execution_count": null,
      "outputs": [
        {
          "output_type": "stream",
          "name": "stdout",
          "text": [
            "123456789"
          ]
        }
      ]
    },
    {
      "cell_type": "code",
      "source": [
        "arr1 = np.array([1, 2, 3])\n",
        "arr2 = np.array([4, 5, 6])\n",
        "\n",
        "# Broadcasting addition operation\n",
        "print(\"Broadcasting Iteration:\")\n",
        "for x, y in np.nditer([arr1, arr2]):\n",
        "   print(x + y, end=' ')"
      ],
      "metadata": {
        "colab": {
          "base_uri": "https://localhost:8080/"
        },
        "id": "5OcwsPbl6MRG",
        "outputId": "5d2a5f0f-7545-48ce-a170-442a3a731058"
      },
      "execution_count": null,
      "outputs": [
        {
          "output_type": "stream",
          "name": "stdout",
          "text": [
            "Broadcasting Iteration:\n",
            "5 7 9 "
          ]
        }
      ]
    },
    {
      "cell_type": "code",
      "source": [
        "result=arr1+arr2"
      ],
      "metadata": {
        "id": "n8vgB96I6Z4b"
      },
      "execution_count": null,
      "outputs": []
    },
    {
      "cell_type": "code",
      "source": [
        "print(result)"
      ],
      "metadata": {
        "colab": {
          "base_uri": "https://localhost:8080/"
        },
        "id": "eyX8KQmG6p6L",
        "outputId": "39107af3-3a3e-4653-acbe-f68775047b52"
      },
      "execution_count": null,
      "outputs": [
        {
          "output_type": "stream",
          "name": "stdout",
          "text": [
            "[5 7 9]\n"
          ]
        }
      ]
    },
    {
      "cell_type": "code",
      "source": [
        "arr1 = np.array([1, 2, 3])\n",
        "arr2 = np.array([4, 5, 6])\n",
        "\n",
        "# Broadcasting addition operation\n",
        "print(\"Broadcasting Iteration:\")\n",
        "for x, y in np.nditer([arr1, arr2]):\n",
        "   print(x * y, end=' ')"
      ],
      "metadata": {
        "colab": {
          "base_uri": "https://localhost:8080/"
        },
        "id": "L22QR21m8k8P",
        "outputId": "fc773ade-236a-413e-88c4-0862015db6c1"
      },
      "execution_count": null,
      "outputs": [
        {
          "output_type": "stream",
          "name": "stdout",
          "text": [
            "Broadcasting Iteration:\n",
            "4 10 18 "
          ]
        }
      ]
    },
    {
      "cell_type": "markdown",
      "source": [
        "The numpy.nditer() function, when used with the external_loop flag, allows iterating through array elements while preserving the array's row structure. This ensures that each row is processed individually, demonstrating how the integrity of dimensions is maintained throughout the iteration process."
      ],
      "metadata": {
        "id": "n9xidm6x7nsy"
      }
    },
    {
      "cell_type": "code",
      "source": [
        "# array with multiple dimensions\n",
        "arr = np.array([[1, 2, 3],\n",
        "                [4, 5, 6]])\n",
        "\n",
        "# External loop iteration\n",
        "print(\"External Loop:\")\n",
        "for row in np.nditer(arr, flags=['external_loop']):\n",
        "   print(row)"
      ],
      "metadata": {
        "colab": {
          "base_uri": "https://localhost:8080/"
        },
        "id": "Y4vEi4I27lA8",
        "outputId": "ae54cdfa-aeef-463d-fd4e-87d0fec41bab"
      },
      "execution_count": null,
      "outputs": [
        {
          "output_type": "stream",
          "name": "stdout",
          "text": [
            "External Loop:\n",
            "[1 2 3 4 5 6]\n"
          ]
        }
      ]
    },
    {
      "cell_type": "markdown",
      "source": [
        "The nditer object has another optional parameter called op_flags. Its default value is read-only, but can be set to read-write or write-only mode. This will enable modifying array elements using this iterator."
      ],
      "metadata": {
        "id": "LdWU3VRM7jm3"
      }
    },
    {
      "cell_type": "code",
      "source": [
        "arr = np.array([1, 2, 3, 4, 5])\n",
        "\n",
        "# Modify array elements\n",
        "with np.nditer(arr, flags=['buffered'], op_flags=['readwrite']) as it:\n",
        "   for x in it:\n",
        "      # Multiply each element by 2\n",
        "      x[...] = x * 2\n",
        "\n",
        "print(\"Modified Array Example:\",arr)"
      ],
      "metadata": {
        "colab": {
          "base_uri": "https://localhost:8080/"
        },
        "id": "YcWYyU786q_y",
        "outputId": "442931ce-701f-485e-e1e3-c0c1c2dd144e"
      },
      "execution_count": null,
      "outputs": [
        {
          "output_type": "stream",
          "name": "stdout",
          "text": [
            "Modified Array Example: [ 2  4  6  8 10]\n"
          ]
        }
      ]
    },
    {
      "cell_type": "markdown",
      "source": [
        "## ***Reshaping***"
      ],
      "metadata": {
        "id": "4Nj996sT7u46"
      }
    },
    {
      "cell_type": "code",
      "source": [
        "import numpy as np\n",
        "\n",
        "arr = np.array([1, 2, 3, 4, 5, 6])\n",
        "reshaped_arr = arr.reshape((2, 3))\n",
        "print(\"Array:\\n\", arr)\n",
        "print(\"Reshaped Array:\\n\", reshaped_arr)\n",
        "\n",
        "# Reshaping a 2-D array into a 1-D array\n",
        "arr = np.array([[1, 2, 3], [4, 5, 6]])\n",
        "print(\"Array:\\n\", arr)\n",
        "reshaped_arr = arr.reshape(-1)\n",
        "print(\"Reshaped Array:\", reshaped_arr)\n",
        "\n",
        "arr = np.array([1, 2, 3, 4, 5])\n",
        "try:\n",
        "    reshaped_arr = np.reshape(arr, (2, 4))\n",
        "    print(\"Reshaped Array:\\n\", reshaped_arr)\n",
        "except ValueError as e:\n",
        "    print(\"Error Occurred During Reshaping:\")\n",
        "    print(e)"
      ],
      "metadata": {
        "colab": {
          "base_uri": "https://localhost:8080/"
        },
        "id": "ifEcnerS7fsf",
        "outputId": "9587462d-0f39-4d15-87e1-bed7727b2143"
      },
      "execution_count": null,
      "outputs": [
        {
          "output_type": "stream",
          "name": "stdout",
          "text": [
            "Array:\n",
            " [1 2 3 4 5 6]\n",
            "Reshaped Array:\n",
            " [[1 2 3]\n",
            " [4 5 6]]\n",
            "Array:\n",
            " [[1 2 3]\n",
            " [4 5 6]]\n",
            "Reshaped Array: [1 2 3 4 5 6]\n",
            "Error Occurred During Reshaping:\n",
            "cannot reshape array of size 5 into shape (2,4)\n"
          ]
        }
      ]
    },
    {
      "cell_type": "markdown",
      "source": [
        "we are reshaping a 2-D array \"arr\" with shape (2, 3) into a 1-D array using the reshape() function with -1 as the argument −"
      ],
      "metadata": {
        "id": "Hoz5U0468GMZ"
      }
    },
    {
      "cell_type": "code",
      "source": [
        "arr = np.array([[1, 2, 3], [4, 5, 6]])\n",
        "\n",
        "# Reshape to 1-D array\n",
        "reshaped_arr = arr.reshape(-1)\n",
        "print(\"Reshaped Array:\", reshaped_arr)"
      ],
      "metadata": {
        "colab": {
          "base_uri": "https://localhost:8080/"
        },
        "id": "m2AZ8H8y76gc",
        "outputId": "b729df5b-60c7-471e-f7d4-7221b2da8918"
      },
      "execution_count": null,
      "outputs": [
        {
          "output_type": "stream",
          "name": "stdout",
          "text": [
            "Reshaped Array: [1 2 3 4 5 6]\n"
          ]
        }
      ]
    },
    {
      "cell_type": "code",
      "source": [
        "arr=np.array([1,2,3,4,5])\n",
        "try:\n",
        "  reshaped_arr=np.reshape(arr,(2,4))\n",
        "  print(\"Reshaped Array:\\n\",reshaped_arr)\n",
        "except ValueError as e:\n",
        "  print(\"Error Occurred During Reshaping:\")\n",
        "  print(e)"
      ],
      "metadata": {
        "colab": {
          "base_uri": "https://localhost:8080/"
        },
        "id": "230z9c0E8IXE",
        "outputId": "debf050c-34ee-43a3-9e61-46c7ee01ff52"
      },
      "execution_count": null,
      "outputs": [
        {
          "output_type": "stream",
          "name": "stdout",
          "text": [
            "Error Occurred During Reshaping:\n",
            "cannot reshape array of size 5 into shape (2,4)\n"
          ]
        }
      ]
    },
    {
      "cell_type": "markdown",
      "source": [
        "## ***Concatenation***"
      ],
      "metadata": {
        "id": "3F_yB5Nir_lP"
      }
    },
    {
      "cell_type": "code",
      "source": [
        "import numpy as np"
      ],
      "metadata": {
        "id": "hc17U4-t-B49"
      },
      "execution_count": null,
      "outputs": []
    },
    {
      "cell_type": "code",
      "source": [
        "arr1 = np.array([[1,2,3],[4,5,6]])\n",
        "arr2 = np.array([[7,8,9],[10,11,12]])\n",
        "\n",
        "# Concatenating along axis 0 (rows)\n",
        "concated_arr = np.concatenate((arr1, arr2), axis=0)\n",
        "print(\"Concatenated Array:\\n\", concated_arr)\n",
        "\n",
        "# Concatenating along axis 1 (columns)\n",
        "concated_arr = np.concatenate((arr1, arr2), axis=1)\n",
        "print(\"Concatenated Array:\\n\", concated_arr)"
      ],
      "metadata": {
        "colab": {
          "base_uri": "https://localhost:8080/"
        },
        "id": "9iI6rNeesFSe",
        "outputId": "c50834ed-c028-492d-8bb8-f75fb1e9e4c5"
      },
      "execution_count": null,
      "outputs": [
        {
          "output_type": "stream",
          "name": "stdout",
          "text": [
            "Concatenated Array:\n",
            " [[ 1  2  3]\n",
            " [ 4  5  6]\n",
            " [ 7  8  9]\n",
            " [10 11 12]]\n",
            "Concatenated Array:\n",
            " [[ 1  2  3  7  8  9]\n",
            " [ 4  5  6 10 11 12]]\n"
          ]
        }
      ]
    },
    {
      "cell_type": "code",
      "source": [
        "arr1 = np.array([1,2,3])\n",
        "arr2 = np.array([[4,5,6],[7,8,9]])\n",
        "\n",
        "# Expanding dimensions of arr1\n",
        "expand_arr1 = np.expand_dims(arr1, axis=0)\n",
        "print(\"Expanded Array:\\n\", expand_arr1)\n",
        "\n",
        "# Concatenating along axis 0\n",
        "concated_arr = np.concatenate((arr2, expand_arr1), axis=0)\n",
        "print(\"Concatenated Array:\\n\", concated_arr)\n"
      ],
      "metadata": {
        "colab": {
          "base_uri": "https://localhost:8080/"
        },
        "id": "-tfkbjT7tMLB",
        "outputId": "335485d1-123b-4d4e-8ea8-87b11856fadf"
      },
      "execution_count": null,
      "outputs": [
        {
          "output_type": "stream",
          "name": "stdout",
          "text": [
            "Expanded Array:\n",
            " [[1 2 3]]\n",
            "Concatenated Array:\n",
            " [[4 5 6]\n",
            " [7 8 9]\n",
            " [1 2 3]]\n"
          ]
        }
      ]
    },
    {
      "cell_type": "code",
      "source": [
        "arr1 = np.array([[1, 2],\n",
        "                 [3, 4]])\n",
        "\n",
        "arr2 = np.array([[5, 6],\n",
        "                 [7, 8]])\n",
        "\n",
        "arr3 = np.array([[9, 10],\n",
        "                 [11, 12]])\n",
        "\n",
        "# Stacking along a new third axis\n",
        "result = np.stack((arr1, arr2, arr3), axis=2)\n",
        "print(\"Stacked along a new axis:\")\n",
        "print(result)\n"
      ],
      "metadata": {
        "colab": {
          "base_uri": "https://localhost:8080/"
        },
        "id": "4Fif44jHtXJX",
        "outputId": "5bf9f388-cd2b-4f18-8b67-815b906ea7a4"
      },
      "execution_count": null,
      "outputs": [
        {
          "output_type": "stream",
          "name": "stdout",
          "text": [
            "Stacked along a new axis:\n",
            "[[[ 1  5  9]\n",
            "  [ 2  6 10]]\n",
            "\n",
            " [[ 3  7 11]\n",
            "  [ 4  8 12]]]\n"
          ]
        }
      ]
    },
    {
      "cell_type": "code",
      "source": [
        "# Creating an array for splitting\n",
        "arr = np.arange(9).reshape(3,3)\n",
        "\n",
        "# Splitting the array into 3 equal parts along axis 1\n",
        "split_arr = np.split(arr, 3, axis=1)\n",
        "print(\"Splitted Array:\\n\", split_arr)\n",
        "# Splitting into unequal sub-arrays\n",
        "arr = np.arange(10)\n",
        "split_arr = np.array_split(arr, 3)\n",
        "\n",
        "print(\"Original Array:\")\n",
        "print(arr)\n",
        "print(\"\\nSplit into 3 unequal sub-arrays:\")\n",
        "for sub_arr in split_arr:\n",
        "   print(sub_arr)\n"
      ],
      "metadata": {
        "colab": {
          "base_uri": "https://localhost:8080/"
        },
        "id": "s4SuItGpu5TR",
        "outputId": "d08b89c8-12c9-4a0f-ef3c-4c2798b60f6b"
      },
      "execution_count": null,
      "outputs": [
        {
          "output_type": "stream",
          "name": "stdout",
          "text": [
            "Splitted Array:\n",
            " [array([[0],\n",
            "       [3],\n",
            "       [6]]), array([[1],\n",
            "       [4],\n",
            "       [7]]), array([[2],\n",
            "       [5],\n",
            "       [8]])]\n",
            "Original Array:\n",
            "[0 1 2 3 4 5 6 7 8 9]\n",
            "\n",
            "Split into 3 unequal sub-arrays:\n",
            "[0 1 2 3]\n",
            "[4 5 6]\n",
            "[7 8 9]\n"
          ]
        }
      ]
    },
    {
      "cell_type": "code",
      "source": [
        "arr = np.array([[1,2,3],[4,5,6]])\n",
        "\n",
        "# Flattening the array\n",
        "flat_array = arr.flatten()\n",
        "print(\"Flattened Array:\\n\", flat_array)\n",
        "\n",
        "# Using ravel() to flatten\n",
        "raveled_arr = arr.ravel()\n",
        "print(\"\\nRaveled Array:\", raveled_arr)\n"
      ],
      "metadata": {
        "colab": {
          "base_uri": "https://localhost:8080/"
        },
        "id": "H5G4Z6Ejvjgz",
        "outputId": "a2b7d0e0-14bc-4b71-8b00-985bf681ce27"
      },
      "execution_count": null,
      "outputs": [
        {
          "output_type": "stream",
          "name": "stdout",
          "text": [
            "Flattened Array:\n",
            " [1 2 3 4 5 6]\n",
            "\n",
            "Raveled Array: [1 2 3 4 5 6]\n"
          ]
        }
      ]
    },
    {
      "cell_type": "code",
      "source": [
        "arr = np.array([[1,2,3],[4,5,6]])\n",
        "\n",
        "# Transposing a 2D array\n",
        "transposed_arr = np.transpose(arr)\n",
        "\n",
        "print(\"Original Array:\")\n",
        "print(arr)\n",
        "print(\"\\nTransposed Array:\")\n",
        "print(transposed_arr)\n",
        "# Transposing a 3D array\n",
        "arr_3d = np.array([[[1, 2],\n",
        "                    [3, 4]],\n",
        "                   [[5, 6],\n",
        "                    [7, 8]]])\n",
        "\n",
        "transposed_arr_3d = np.transpose(arr_3d)\n",
        "\n",
        "print(\"Original 3D Array:\")\n",
        "print(arr_3d)\n",
        "print(\"\\nTransposed 3D Array:\")\n",
        "print(transposed_arr_3d)"
      ],
      "metadata": {
        "colab": {
          "base_uri": "https://localhost:8080/"
        },
        "id": "5Rrfmn83yibt",
        "outputId": "0767f0e0-4d4c-4c81-ed46-f568c9ef87d0"
      },
      "execution_count": null,
      "outputs": [
        {
          "output_type": "stream",
          "name": "stdout",
          "text": [
            "Original Array:\n",
            "[[1 2 3]\n",
            " [4 5 6]]\n",
            "\n",
            "Transposed Array:\n",
            "[[1 4]\n",
            " [2 5]\n",
            " [3 6]]\n",
            "Original 3D Array:\n",
            "[[[1 2]\n",
            "  [3 4]]\n",
            "\n",
            " [[5 6]\n",
            "  [7 8]]]\n",
            "\n",
            "Transposed 3D Array:\n",
            "[[[1 5]\n",
            "  [3 7]]\n",
            "\n",
            " [[2 6]\n",
            "  [4 8]]]\n"
          ]
        }
      ]
    },
    {
      "cell_type": "code",
      "source": [],
      "metadata": {
        "id": "MotJM5v50By4"
      },
      "execution_count": null,
      "outputs": []
    }
  ]
}