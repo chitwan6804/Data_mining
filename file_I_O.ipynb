{
  "nbformat": 4,
  "nbformat_minor": 0,
  "metadata": {
    "colab": {
      "provenance": [],
      "authorship_tag": "ABX9TyNDDfdy4k5z92UBGiUMW9EB",
      "include_colab_link": true
    },
    "kernelspec": {
      "name": "python3",
      "display_name": "Python 3"
    },
    "language_info": {
      "name": "python"
    }
  },
  "cells": [
    {
      "cell_type": "markdown",
      "metadata": {
        "id": "view-in-github",
        "colab_type": "text"
      },
      "source": [
        "<a href=\"https://colab.research.google.com/github/chitwan6804/Data_mining/blob/main/file_I_O.ipynb\" target=\"_parent\"><img src=\"https://colab.research.google.com/assets/colab-badge.svg\" alt=\"Open In Colab\"/></a>"
      ]
    },
    {
      "cell_type": "markdown",
      "source": [
        "## Reading and writing text files in Python"
      ],
      "metadata": {
        "id": "z8FD2Hwyn_4b"
      }
    },
    {
      "cell_type": "markdown",
      "source": [
        "Writing to files and Reading the files.\n",
        "data can be written in 2 modes:\n",
        "\n",
        "\"w\" mode : Write mode\n",
        "\n",
        "\"a\" mode : Append mode"
      ],
      "metadata": {
        "id": "_Tc_Uc6noIMq"
      }
    },
    {
      "cell_type": "code",
      "execution_count": null,
      "metadata": {
        "id": "Db2SpTDGj9zX"
      },
      "outputs": [],
      "source": [
        "with open('example.txt', 'w') as f:\n",
        "    f.write(\"Hello, this is a text file.\\nThis is the second line.\")"
      ]
    },
    {
      "cell_type": "code",
      "source": [
        "with open('example.txt','r') as f:\n",
        "  content=f.read()\n",
        "  print(content)"
      ],
      "metadata": {
        "colab": {
          "base_uri": "https://localhost:8080/"
        },
        "id": "0x_X0Xq4kD5H",
        "outputId": "999090db-e93b-4945-e4a9-d1bc4b915b57"
      },
      "execution_count": null,
      "outputs": [
        {
          "output_type": "stream",
          "name": "stdout",
          "text": [
            "Hello, this is a text file.\n",
            "This is the second line.\n"
          ]
        }
      ]
    },
    {
      "cell_type": "code",
      "source": [
        "file = open(\"example.txt\", \"w\")\n",
        "file.write(\"Hello, World!\")\n",
        "file.close()\n",
        "print (\"File opened successfully!!\")"
      ],
      "metadata": {
        "colab": {
          "base_uri": "https://localhost:8080/"
        },
        "id": "NYZfEEWekWEw",
        "outputId": "c82fc5bc-f25b-41a6-b973-0733c5dc7222"
      },
      "execution_count": null,
      "outputs": [
        {
          "output_type": "stream",
          "name": "stdout",
          "text": [
            "File opened successfully!!\n"
          ]
        }
      ]
    },
    {
      "cell_type": "code",
      "source": [
        "file=open(\"example.txt\",\"r\")\n",
        "content=file.read()\n",
        "print(content)"
      ],
      "metadata": {
        "colab": {
          "base_uri": "https://localhost:8080/"
        },
        "id": "n5wKxytvlL-K",
        "outputId": "8c4e70ff-bdd4-49d2-9f37-0686754eddfb"
      },
      "execution_count": null,
      "outputs": [
        {
          "output_type": "stream",
          "name": "stdout",
          "text": [
            "Hello, World!\n"
          ]
        }
      ]
    },
    {
      "cell_type": "code",
      "source": [
        "file=open(\"example.txt\",\"a\")\n",
        "file.write(\"\\nHi I am Chitwan. Hope you are fine!\")\n",
        "file.close()\n",
        "print (\"File opened successfully!!\")"
      ],
      "metadata": {
        "colab": {
          "base_uri": "https://localhost:8080/"
        },
        "id": "0tY8BqI6lWrB",
        "outputId": "6e508021-c388-42a6-88fa-da2e1d4914de"
      },
      "execution_count": null,
      "outputs": [
        {
          "output_type": "stream",
          "name": "stdout",
          "text": [
            "File opened successfully!!\n"
          ]
        }
      ]
    },
    {
      "cell_type": "code",
      "source": [
        "file=open(\"example.txt\",\"r\")\n",
        "content=file.read()\n",
        "print(content)"
      ],
      "metadata": {
        "colab": {
          "base_uri": "https://localhost:8080/"
        },
        "id": "DdhI_FwDlh6d",
        "outputId": "ad56bade-5a40-4ea2-d0e7-e611ca5a648c"
      },
      "execution_count": null,
      "outputs": [
        {
          "output_type": "stream",
          "name": "stdout",
          "text": [
            "Hello, World!Hi I am Chitwan. Hope you are fine!\n",
            "Hi I am Chitwan. Hope you are fine!\n"
          ]
        }
      ]
    },
    {
      "cell_type": "markdown",
      "source": [
        "writelines() is used to write multiple lines at once and readlines() is used to read multiple lines."
      ],
      "metadata": {
        "id": "VP3ApSPZogMb"
      }
    },
    {
      "cell_type": "code",
      "source": [
        "lines=[\"First Line\\n\",\"Second Line\\n\",\"Third Line\\n\"]\n",
        "\n",
        "with open(\"example.txt\",\"w\") as file:\n",
        "  file.writelines(lines)\n",
        "  print(\"File opened successfully!!\")"
      ],
      "metadata": {
        "colab": {
          "base_uri": "https://localhost:8080/"
        },
        "id": "pVDqLueylj12",
        "outputId": "56e1ca8d-6b15-40da-be72-c5a5c9afe880"
      },
      "execution_count": null,
      "outputs": [
        {
          "output_type": "stream",
          "name": "stdout",
          "text": [
            "File opened successfully!!\n"
          ]
        }
      ]
    },
    {
      "cell_type": "code",
      "source": [
        "file=open(\"example.txt\",\"r\")\n",
        "content=file.read()\n",
        "print(content)"
      ],
      "metadata": {
        "colab": {
          "base_uri": "https://localhost:8080/"
        },
        "id": "ory_tn3WmAyT",
        "outputId": "a4a88cc5-2688-4bf8-91d7-6da4b90597c1"
      },
      "execution_count": null,
      "outputs": [
        {
          "output_type": "stream",
          "name": "stdout",
          "text": [
            "First Line\n",
            "Second Line\n",
            "Third Line\n",
            "\n"
          ]
        }
      ]
    },
    {
      "cell_type": "code",
      "source": [
        "# Open the file in read mode\n",
        "file = open('example.txt', 'r')\n",
        "\n",
        "# Read the first line of the file\n",
        "line = file.readline()\n",
        "\n",
        "# Print the line\n",
        "print(line)\n",
        "\n",
        "# Close the file\n",
        "file.close()"
      ],
      "metadata": {
        "colab": {
          "base_uri": "https://localhost:8080/"
        },
        "id": "mGnxhmqOmKih",
        "outputId": "a2e0bbdf-7bab-4f88-b44a-75fd3ffc724d"
      },
      "execution_count": null,
      "outputs": [
        {
          "output_type": "stream",
          "name": "stdout",
          "text": [
            "First Line\n",
            "\n"
          ]
        }
      ]
    },
    {
      "cell_type": "code",
      "source": [
        "with open(\"example.txt\",\"r\") as file:\n",
        "  lines=file.readlines()\n",
        "  for line in lines:\n",
        "    print(line,end='')"
      ],
      "metadata": {
        "colab": {
          "base_uri": "https://localhost:8080/"
        },
        "id": "69Nco6j6mhUR",
        "outputId": "4dbb15b3-e855-471d-a0ea-d35cd456e474"
      },
      "execution_count": null,
      "outputs": [
        {
          "output_type": "stream",
          "name": "stdout",
          "text": [
            "First Line\n",
            "Second Line\n",
            "Third Line\n"
          ]
        }
      ]
    },
    {
      "cell_type": "markdown",
      "source": [
        "Renaming and removing file"
      ],
      "metadata": {
        "id": "V9w3AzsqorIw"
      }
    },
    {
      "cell_type": "code",
      "source": [
        "import os\n",
        "current_name=\"example.txt\"\n",
        "new_name=\"myfile.txt\"\n",
        "os.rename(current_name,new_name)\n",
        "print(f\"File '{current_name}' renamed to '{new_name}' successfully.\")"
      ],
      "metadata": {
        "id": "I6TQgMoimvzU"
      },
      "execution_count": null,
      "outputs": []
    },
    {
      "cell_type": "code",
      "source": [
        "os.remove(\"myfile.txt\")\n",
        "print(\"File 'myfile.txt' deleted successfully.\")"
      ],
      "metadata": {
        "colab": {
          "base_uri": "https://localhost:8080/"
        },
        "id": "iFmALLCxnF8c",
        "outputId": "b081b550-ac79-4e7c-b065-962e1c868205"
      },
      "execution_count": null,
      "outputs": [
        {
          "output_type": "stream",
          "name": "stdout",
          "text": [
            "File 'myfile.txt' deleted successfully.\n"
          ]
        }
      ]
    },
    {
      "cell_type": "markdown",
      "source": [
        "## Reading Excel and CSV Files (use pandas)"
      ],
      "metadata": {
        "id": "jy0JHxOfpgNs"
      }
    },
    {
      "cell_type": "code",
      "source": [
        "pip install pandas"
      ],
      "metadata": {
        "id": "ZIqwRVmnn7oL",
        "outputId": "c3061dd6-e7f4-4a8e-b15e-c6a3b5d714fa",
        "colab": {
          "base_uri": "https://localhost:8080/"
        }
      },
      "execution_count": null,
      "outputs": [
        {
          "output_type": "stream",
          "name": "stdout",
          "text": [
            "Requirement already satisfied: pandas in /usr/local/lib/python3.11/dist-packages (2.2.2)\n",
            "Requirement already satisfied: numpy>=1.23.2 in /usr/local/lib/python3.11/dist-packages (from pandas) (1.26.4)\n",
            "Requirement already satisfied: python-dateutil>=2.8.2 in /usr/local/lib/python3.11/dist-packages (from pandas) (2.8.2)\n",
            "Requirement already satisfied: pytz>=2020.1 in /usr/local/lib/python3.11/dist-packages (from pandas) (2025.1)\n",
            "Requirement already satisfied: tzdata>=2022.7 in /usr/local/lib/python3.11/dist-packages (from pandas) (2025.1)\n",
            "Requirement already satisfied: six>=1.5 in /usr/local/lib/python3.11/dist-packages (from python-dateutil>=2.8.2->pandas) (1.17.0)\n"
          ]
        }
      ]
    },
    {
      "cell_type": "code",
      "source": [
        "from google.colab import files\n",
        "uploaded = files.upload()\n"
      ],
      "metadata": {
        "id": "HNci9JwDsW0F",
        "outputId": "bfce04a0-25d4-416e-d110-3d87eacdd73b",
        "colab": {
          "base_uri": "https://localhost:8080/",
          "height": 73
        }
      },
      "execution_count": null,
      "outputs": [
        {
          "output_type": "display_data",
          "data": {
            "text/plain": [
              "<IPython.core.display.HTML object>"
            ],
            "text/html": [
              "\n",
              "     <input type=\"file\" id=\"files-37605b94-13a6-4610-94bd-575fbf4e90cf\" name=\"files[]\" multiple disabled\n",
              "        style=\"border:none\" />\n",
              "     <output id=\"result-37605b94-13a6-4610-94bd-575fbf4e90cf\">\n",
              "      Upload widget is only available when the cell has been executed in the\n",
              "      current browser session. Please rerun this cell to enable.\n",
              "      </output>\n",
              "      <script>// Copyright 2017 Google LLC\n",
              "//\n",
              "// Licensed under the Apache License, Version 2.0 (the \"License\");\n",
              "// you may not use this file except in compliance with the License.\n",
              "// You may obtain a copy of the License at\n",
              "//\n",
              "//      http://www.apache.org/licenses/LICENSE-2.0\n",
              "//\n",
              "// Unless required by applicable law or agreed to in writing, software\n",
              "// distributed under the License is distributed on an \"AS IS\" BASIS,\n",
              "// WITHOUT WARRANTIES OR CONDITIONS OF ANY KIND, either express or implied.\n",
              "// See the License for the specific language governing permissions and\n",
              "// limitations under the License.\n",
              "\n",
              "/**\n",
              " * @fileoverview Helpers for google.colab Python module.\n",
              " */\n",
              "(function(scope) {\n",
              "function span(text, styleAttributes = {}) {\n",
              "  const element = document.createElement('span');\n",
              "  element.textContent = text;\n",
              "  for (const key of Object.keys(styleAttributes)) {\n",
              "    element.style[key] = styleAttributes[key];\n",
              "  }\n",
              "  return element;\n",
              "}\n",
              "\n",
              "// Max number of bytes which will be uploaded at a time.\n",
              "const MAX_PAYLOAD_SIZE = 100 * 1024;\n",
              "\n",
              "function _uploadFiles(inputId, outputId) {\n",
              "  const steps = uploadFilesStep(inputId, outputId);\n",
              "  const outputElement = document.getElementById(outputId);\n",
              "  // Cache steps on the outputElement to make it available for the next call\n",
              "  // to uploadFilesContinue from Python.\n",
              "  outputElement.steps = steps;\n",
              "\n",
              "  return _uploadFilesContinue(outputId);\n",
              "}\n",
              "\n",
              "// This is roughly an async generator (not supported in the browser yet),\n",
              "// where there are multiple asynchronous steps and the Python side is going\n",
              "// to poll for completion of each step.\n",
              "// This uses a Promise to block the python side on completion of each step,\n",
              "// then passes the result of the previous step as the input to the next step.\n",
              "function _uploadFilesContinue(outputId) {\n",
              "  const outputElement = document.getElementById(outputId);\n",
              "  const steps = outputElement.steps;\n",
              "\n",
              "  const next = steps.next(outputElement.lastPromiseValue);\n",
              "  return Promise.resolve(next.value.promise).then((value) => {\n",
              "    // Cache the last promise value to make it available to the next\n",
              "    // step of the generator.\n",
              "    outputElement.lastPromiseValue = value;\n",
              "    return next.value.response;\n",
              "  });\n",
              "}\n",
              "\n",
              "/**\n",
              " * Generator function which is called between each async step of the upload\n",
              " * process.\n",
              " * @param {string} inputId Element ID of the input file picker element.\n",
              " * @param {string} outputId Element ID of the output display.\n",
              " * @return {!Iterable<!Object>} Iterable of next steps.\n",
              " */\n",
              "function* uploadFilesStep(inputId, outputId) {\n",
              "  const inputElement = document.getElementById(inputId);\n",
              "  inputElement.disabled = false;\n",
              "\n",
              "  const outputElement = document.getElementById(outputId);\n",
              "  outputElement.innerHTML = '';\n",
              "\n",
              "  const pickedPromise = new Promise((resolve) => {\n",
              "    inputElement.addEventListener('change', (e) => {\n",
              "      resolve(e.target.files);\n",
              "    });\n",
              "  });\n",
              "\n",
              "  const cancel = document.createElement('button');\n",
              "  inputElement.parentElement.appendChild(cancel);\n",
              "  cancel.textContent = 'Cancel upload';\n",
              "  const cancelPromise = new Promise((resolve) => {\n",
              "    cancel.onclick = () => {\n",
              "      resolve(null);\n",
              "    };\n",
              "  });\n",
              "\n",
              "  // Wait for the user to pick the files.\n",
              "  const files = yield {\n",
              "    promise: Promise.race([pickedPromise, cancelPromise]),\n",
              "    response: {\n",
              "      action: 'starting',\n",
              "    }\n",
              "  };\n",
              "\n",
              "  cancel.remove();\n",
              "\n",
              "  // Disable the input element since further picks are not allowed.\n",
              "  inputElement.disabled = true;\n",
              "\n",
              "  if (!files) {\n",
              "    return {\n",
              "      response: {\n",
              "        action: 'complete',\n",
              "      }\n",
              "    };\n",
              "  }\n",
              "\n",
              "  for (const file of files) {\n",
              "    const li = document.createElement('li');\n",
              "    li.append(span(file.name, {fontWeight: 'bold'}));\n",
              "    li.append(span(\n",
              "        `(${file.type || 'n/a'}) - ${file.size} bytes, ` +\n",
              "        `last modified: ${\n",
              "            file.lastModifiedDate ? file.lastModifiedDate.toLocaleDateString() :\n",
              "                                    'n/a'} - `));\n",
              "    const percent = span('0% done');\n",
              "    li.appendChild(percent);\n",
              "\n",
              "    outputElement.appendChild(li);\n",
              "\n",
              "    const fileDataPromise = new Promise((resolve) => {\n",
              "      const reader = new FileReader();\n",
              "      reader.onload = (e) => {\n",
              "        resolve(e.target.result);\n",
              "      };\n",
              "      reader.readAsArrayBuffer(file);\n",
              "    });\n",
              "    // Wait for the data to be ready.\n",
              "    let fileData = yield {\n",
              "      promise: fileDataPromise,\n",
              "      response: {\n",
              "        action: 'continue',\n",
              "      }\n",
              "    };\n",
              "\n",
              "    // Use a chunked sending to avoid message size limits. See b/62115660.\n",
              "    let position = 0;\n",
              "    do {\n",
              "      const length = Math.min(fileData.byteLength - position, MAX_PAYLOAD_SIZE);\n",
              "      const chunk = new Uint8Array(fileData, position, length);\n",
              "      position += length;\n",
              "\n",
              "      const base64 = btoa(String.fromCharCode.apply(null, chunk));\n",
              "      yield {\n",
              "        response: {\n",
              "          action: 'append',\n",
              "          file: file.name,\n",
              "          data: base64,\n",
              "        },\n",
              "      };\n",
              "\n",
              "      let percentDone = fileData.byteLength === 0 ?\n",
              "          100 :\n",
              "          Math.round((position / fileData.byteLength) * 100);\n",
              "      percent.textContent = `${percentDone}% done`;\n",
              "\n",
              "    } while (position < fileData.byteLength);\n",
              "  }\n",
              "\n",
              "  // All done.\n",
              "  yield {\n",
              "    response: {\n",
              "      action: 'complete',\n",
              "    }\n",
              "  };\n",
              "}\n",
              "\n",
              "scope.google = scope.google || {};\n",
              "scope.google.colab = scope.google.colab || {};\n",
              "scope.google.colab._files = {\n",
              "  _uploadFiles,\n",
              "  _uploadFilesContinue,\n",
              "};\n",
              "})(self);\n",
              "</script> "
            ]
          },
          "metadata": {}
        },
        {
          "output_type": "stream",
          "name": "stdout",
          "text": [
            "Saving Orders.csv to Orders.csv\n"
          ]
        }
      ]
    },
    {
      "cell_type": "code",
      "source": [
        "import pandas as pd\n",
        "data = pd.read_csv(\"/content/Orders.csv\")"
      ],
      "metadata": {
        "id": "8opkhNsksdnc"
      },
      "execution_count": null,
      "outputs": []
    },
    {
      "cell_type": "code",
      "source": [
        "print(data.head())"
      ],
      "metadata": {
        "id": "AGq9iCd2tdbV",
        "outputId": "3d5dc639-6bea-4b47-95cd-67958dba1992",
        "colab": {
          "base_uri": "https://localhost:8080/"
        }
      },
      "execution_count": null,
      "outputs": [
        {
          "output_type": "stream",
          "name": "stdout",
          "text": [
            "  Order ID  Order Date CustomerName           State     City\n",
            "0  B-26055  10-03-2018    Harivansh   Uttar Pradesh  Mathura\n",
            "1  B-25993  03-02-2018       Madhav           Delhi    Delhi\n",
            "2  B-25973  24-01-2018  Madan Mohan   Uttar Pradesh  Mathura\n",
            "3  B-25923  27-12-2018        Gopal     Maharashtra   Mumbai\n",
            "4  B-25757  21-08-2018     Vishakha  Madhya Pradesh   Indore\n"
          ]
        }
      ]
    },
    {
      "cell_type": "code",
      "source": [
        "data = pd.read_csv('/content/Orders.csv', header=1)  # Use the second row as header\n",
        "print(data.head())"
      ],
      "metadata": {
        "id": "6L8HLfWqtgLG",
        "outputId": "385989f1-bbe4-41c1-a6b8-d6665b48cf44",
        "colab": {
          "base_uri": "https://localhost:8080/"
        }
      },
      "execution_count": null,
      "outputs": [
        {
          "output_type": "stream",
          "name": "stdout",
          "text": [
            "   B-26055  10-03-2018    Harivansh   Uttar Pradesh    Mathura\n",
            "0  B-25993  03-02-2018       Madhav           Delhi      Delhi\n",
            "1  B-25973  24-01-2018  Madan Mohan   Uttar Pradesh    Mathura\n",
            "2  B-25923  27-12-2018        Gopal     Maharashtra     Mumbai\n",
            "3  B-25757  21-08-2018     Vishakha  Madhya Pradesh     Indore\n",
            "4  B-25967  21-01-2018       Sudevi   Uttar Pradesh  Prayagraj\n"
          ]
        }
      ]
    },
    {
      "cell_type": "code",
      "source": [
        "data = pd.read_csv('/content/Orders.csv', index_col=3)  # First column as index\n",
        "print(data.head())"
      ],
      "metadata": {
        "id": "TIsF1McJuDI-",
        "outputId": "3a666e60-ae30-4f2b-ba01-e180de05a3e2",
        "colab": {
          "base_uri": "https://localhost:8080/"
        }
      },
      "execution_count": null,
      "outputs": [
        {
          "output_type": "stream",
          "name": "stdout",
          "text": [
            "               Order ID  Order Date CustomerName     City\n",
            "State                                                    \n",
            "Uttar Pradesh   B-26055  10-03-2018    Harivansh  Mathura\n",
            "Delhi           B-25993  03-02-2018       Madhav    Delhi\n",
            "Uttar Pradesh   B-25973  24-01-2018  Madan Mohan  Mathura\n",
            "Maharashtra     B-25923  27-12-2018        Gopal   Mumbai\n",
            "Madhya Pradesh  B-25757  21-08-2018     Vishakha   Indore\n"
          ]
        }
      ]
    },
    {
      "cell_type": "code",
      "source": [
        "# Reading two CSV files\n",
        "data1 = pd.read_csv('/content/sample_data/california_housing_train.csv')\n",
        "data2 = pd.read_csv('/content/sample_data/california_housing_test.csv')\n",
        "\n",
        "# Merging data from both files by columns (axis=1)\n",
        "merged_data = pd.concat([data1, data2], axis=1)\n",
        "print(merged_data)\n"
      ],
      "metadata": {
        "id": "Ey0nqHhWufFs",
        "outputId": "8fd5be0d-bcc4-4d0a-97bd-fdfff358d6e1",
        "colab": {
          "base_uri": "https://localhost:8080/"
        }
      },
      "execution_count": null,
      "outputs": [
        {
          "output_type": "stream",
          "name": "stdout",
          "text": [
            "       longitude  latitude  housing_median_age  total_rooms  total_bedrooms  \\\n",
            "0        -114.31     34.19                15.0       5612.0          1283.0   \n",
            "1        -114.47     34.40                19.0       7650.0          1901.0   \n",
            "2        -114.56     33.69                17.0        720.0           174.0   \n",
            "3        -114.57     33.64                14.0       1501.0           337.0   \n",
            "4        -114.57     33.57                20.0       1454.0           326.0   \n",
            "...          ...       ...                 ...          ...             ...   \n",
            "16995    -124.26     40.58                52.0       2217.0           394.0   \n",
            "16996    -124.27     40.69                36.0       2349.0           528.0   \n",
            "16997    -124.30     41.84                17.0       2677.0           531.0   \n",
            "16998    -124.30     41.80                19.0       2672.0           552.0   \n",
            "16999    -124.35     40.54                52.0       1820.0           300.0   \n",
            "\n",
            "       population  households  median_income  median_house_value  longitude  \\\n",
            "0          1015.0       472.0         1.4936             66900.0    -122.05   \n",
            "1          1129.0       463.0         1.8200             80100.0    -118.30   \n",
            "2           333.0       117.0         1.6509             85700.0    -117.81   \n",
            "3           515.0       226.0         3.1917             73400.0    -118.36   \n",
            "4           624.0       262.0         1.9250             65500.0    -119.67   \n",
            "...           ...         ...            ...                 ...        ...   \n",
            "16995       907.0       369.0         2.3571            111400.0        NaN   \n",
            "16996      1194.0       465.0         2.5179             79000.0        NaN   \n",
            "16997      1244.0       456.0         3.0313            103600.0        NaN   \n",
            "16998      1298.0       478.0         1.9797             85800.0        NaN   \n",
            "16999       806.0       270.0         3.0147             94600.0        NaN   \n",
            "\n",
            "       latitude  housing_median_age  total_rooms  total_bedrooms  population  \\\n",
            "0         37.37                27.0       3885.0           661.0      1537.0   \n",
            "1         34.26                43.0       1510.0           310.0       809.0   \n",
            "2         33.78                27.0       3589.0           507.0      1484.0   \n",
            "3         33.82                28.0         67.0            15.0        49.0   \n",
            "4         36.33                19.0       1241.0           244.0       850.0   \n",
            "...         ...                 ...          ...             ...         ...   \n",
            "16995       NaN                 NaN          NaN             NaN         NaN   \n",
            "16996       NaN                 NaN          NaN             NaN         NaN   \n",
            "16997       NaN                 NaN          NaN             NaN         NaN   \n",
            "16998       NaN                 NaN          NaN             NaN         NaN   \n",
            "16999       NaN                 NaN          NaN             NaN         NaN   \n",
            "\n",
            "       households  median_income  median_house_value  \n",
            "0           606.0         6.6085            344700.0  \n",
            "1           277.0         3.5990            176500.0  \n",
            "2           495.0         5.7934            270500.0  \n",
            "3            11.0         6.1359            330000.0  \n",
            "4           237.0         2.9375             81700.0  \n",
            "...           ...            ...                 ...  \n",
            "16995         NaN            NaN                 NaN  \n",
            "16996         NaN            NaN                 NaN  \n",
            "16997         NaN            NaN                 NaN  \n",
            "16998         NaN            NaN                 NaN  \n",
            "16999         NaN            NaN                 NaN  \n",
            "\n",
            "[17000 rows x 18 columns]\n"
          ]
        }
      ]
    },
    {
      "cell_type": "code",
      "source": [
        "missing_data = data.isnull().sum()\n",
        "print(missing_data)"
      ],
      "metadata": {
        "id": "BwxmLhPXvldd",
        "outputId": "d161ffeb-8fd8-4869-cad1-e587c78b5bc4",
        "colab": {
          "base_uri": "https://localhost:8080/"
        }
      },
      "execution_count": null,
      "outputs": [
        {
          "output_type": "stream",
          "name": "stdout",
          "text": [
            "Order ID        0\n",
            "Order Date      0\n",
            "CustomerName    0\n",
            "State           0\n",
            "City            0\n",
            "dtype: int64\n"
          ]
        }
      ]
    },
    {
      "cell_type": "markdown",
      "source": [
        "## **Working with excel sheets**"
      ],
      "metadata": {
        "id": "fVi8bcZBDabi"
      }
    },
    {
      "cell_type": "code",
      "source": [
        "upload=files.upload()"
      ],
      "metadata": {
        "id": "qeVxcylgwKcp",
        "outputId": "0c599b25-e3be-46bb-b847-3f5c1733f77f",
        "colab": {
          "base_uri": "https://localhost:8080/",
          "height": 73
        }
      },
      "execution_count": null,
      "outputs": [
        {
          "output_type": "display_data",
          "data": {
            "text/plain": [
              "<IPython.core.display.HTML object>"
            ],
            "text/html": [
              "\n",
              "     <input type=\"file\" id=\"files-6f709d69-f953-42c1-8579-f90968af6b4e\" name=\"files[]\" multiple disabled\n",
              "        style=\"border:none\" />\n",
              "     <output id=\"result-6f709d69-f953-42c1-8579-f90968af6b4e\">\n",
              "      Upload widget is only available when the cell has been executed in the\n",
              "      current browser session. Please rerun this cell to enable.\n",
              "      </output>\n",
              "      <script>// Copyright 2017 Google LLC\n",
              "//\n",
              "// Licensed under the Apache License, Version 2.0 (the \"License\");\n",
              "// you may not use this file except in compliance with the License.\n",
              "// You may obtain a copy of the License at\n",
              "//\n",
              "//      http://www.apache.org/licenses/LICENSE-2.0\n",
              "//\n",
              "// Unless required by applicable law or agreed to in writing, software\n",
              "// distributed under the License is distributed on an \"AS IS\" BASIS,\n",
              "// WITHOUT WARRANTIES OR CONDITIONS OF ANY KIND, either express or implied.\n",
              "// See the License for the specific language governing permissions and\n",
              "// limitations under the License.\n",
              "\n",
              "/**\n",
              " * @fileoverview Helpers for google.colab Python module.\n",
              " */\n",
              "(function(scope) {\n",
              "function span(text, styleAttributes = {}) {\n",
              "  const element = document.createElement('span');\n",
              "  element.textContent = text;\n",
              "  for (const key of Object.keys(styleAttributes)) {\n",
              "    element.style[key] = styleAttributes[key];\n",
              "  }\n",
              "  return element;\n",
              "}\n",
              "\n",
              "// Max number of bytes which will be uploaded at a time.\n",
              "const MAX_PAYLOAD_SIZE = 100 * 1024;\n",
              "\n",
              "function _uploadFiles(inputId, outputId) {\n",
              "  const steps = uploadFilesStep(inputId, outputId);\n",
              "  const outputElement = document.getElementById(outputId);\n",
              "  // Cache steps on the outputElement to make it available for the next call\n",
              "  // to uploadFilesContinue from Python.\n",
              "  outputElement.steps = steps;\n",
              "\n",
              "  return _uploadFilesContinue(outputId);\n",
              "}\n",
              "\n",
              "// This is roughly an async generator (not supported in the browser yet),\n",
              "// where there are multiple asynchronous steps and the Python side is going\n",
              "// to poll for completion of each step.\n",
              "// This uses a Promise to block the python side on completion of each step,\n",
              "// then passes the result of the previous step as the input to the next step.\n",
              "function _uploadFilesContinue(outputId) {\n",
              "  const outputElement = document.getElementById(outputId);\n",
              "  const steps = outputElement.steps;\n",
              "\n",
              "  const next = steps.next(outputElement.lastPromiseValue);\n",
              "  return Promise.resolve(next.value.promise).then((value) => {\n",
              "    // Cache the last promise value to make it available to the next\n",
              "    // step of the generator.\n",
              "    outputElement.lastPromiseValue = value;\n",
              "    return next.value.response;\n",
              "  });\n",
              "}\n",
              "\n",
              "/**\n",
              " * Generator function which is called between each async step of the upload\n",
              " * process.\n",
              " * @param {string} inputId Element ID of the input file picker element.\n",
              " * @param {string} outputId Element ID of the output display.\n",
              " * @return {!Iterable<!Object>} Iterable of next steps.\n",
              " */\n",
              "function* uploadFilesStep(inputId, outputId) {\n",
              "  const inputElement = document.getElementById(inputId);\n",
              "  inputElement.disabled = false;\n",
              "\n",
              "  const outputElement = document.getElementById(outputId);\n",
              "  outputElement.innerHTML = '';\n",
              "\n",
              "  const pickedPromise = new Promise((resolve) => {\n",
              "    inputElement.addEventListener('change', (e) => {\n",
              "      resolve(e.target.files);\n",
              "    });\n",
              "  });\n",
              "\n",
              "  const cancel = document.createElement('button');\n",
              "  inputElement.parentElement.appendChild(cancel);\n",
              "  cancel.textContent = 'Cancel upload';\n",
              "  const cancelPromise = new Promise((resolve) => {\n",
              "    cancel.onclick = () => {\n",
              "      resolve(null);\n",
              "    };\n",
              "  });\n",
              "\n",
              "  // Wait for the user to pick the files.\n",
              "  const files = yield {\n",
              "    promise: Promise.race([pickedPromise, cancelPromise]),\n",
              "    response: {\n",
              "      action: 'starting',\n",
              "    }\n",
              "  };\n",
              "\n",
              "  cancel.remove();\n",
              "\n",
              "  // Disable the input element since further picks are not allowed.\n",
              "  inputElement.disabled = true;\n",
              "\n",
              "  if (!files) {\n",
              "    return {\n",
              "      response: {\n",
              "        action: 'complete',\n",
              "      }\n",
              "    };\n",
              "  }\n",
              "\n",
              "  for (const file of files) {\n",
              "    const li = document.createElement('li');\n",
              "    li.append(span(file.name, {fontWeight: 'bold'}));\n",
              "    li.append(span(\n",
              "        `(${file.type || 'n/a'}) - ${file.size} bytes, ` +\n",
              "        `last modified: ${\n",
              "            file.lastModifiedDate ? file.lastModifiedDate.toLocaleDateString() :\n",
              "                                    'n/a'} - `));\n",
              "    const percent = span('0% done');\n",
              "    li.appendChild(percent);\n",
              "\n",
              "    outputElement.appendChild(li);\n",
              "\n",
              "    const fileDataPromise = new Promise((resolve) => {\n",
              "      const reader = new FileReader();\n",
              "      reader.onload = (e) => {\n",
              "        resolve(e.target.result);\n",
              "      };\n",
              "      reader.readAsArrayBuffer(file);\n",
              "    });\n",
              "    // Wait for the data to be ready.\n",
              "    let fileData = yield {\n",
              "      promise: fileDataPromise,\n",
              "      response: {\n",
              "        action: 'continue',\n",
              "      }\n",
              "    };\n",
              "\n",
              "    // Use a chunked sending to avoid message size limits. See b/62115660.\n",
              "    let position = 0;\n",
              "    do {\n",
              "      const length = Math.min(fileData.byteLength - position, MAX_PAYLOAD_SIZE);\n",
              "      const chunk = new Uint8Array(fileData, position, length);\n",
              "      position += length;\n",
              "\n",
              "      const base64 = btoa(String.fromCharCode.apply(null, chunk));\n",
              "      yield {\n",
              "        response: {\n",
              "          action: 'append',\n",
              "          file: file.name,\n",
              "          data: base64,\n",
              "        },\n",
              "      };\n",
              "\n",
              "      let percentDone = fileData.byteLength === 0 ?\n",
              "          100 :\n",
              "          Math.round((position / fileData.byteLength) * 100);\n",
              "      percent.textContent = `${percentDone}% done`;\n",
              "\n",
              "    } while (position < fileData.byteLength);\n",
              "  }\n",
              "\n",
              "  // All done.\n",
              "  yield {\n",
              "    response: {\n",
              "      action: 'complete',\n",
              "    }\n",
              "  };\n",
              "}\n",
              "\n",
              "scope.google = scope.google || {};\n",
              "scope.google.colab = scope.google.colab || {};\n",
              "scope.google.colab._files = {\n",
              "  _uploadFiles,\n",
              "  _uploadFilesContinue,\n",
              "};\n",
              "})(self);\n",
              "</script> "
            ]
          },
          "metadata": {}
        },
        {
          "output_type": "stream",
          "name": "stdout",
          "text": [
            "Saving CLASS 3 B INFO MANDATORY.xlsx to CLASS 3 B INFO MANDATORY.xlsx\n"
          ]
        }
      ]
    },
    {
      "cell_type": "code",
      "source": [
        "excel_data=pd.read_excel(\"/content/Details.xlsx\")"
      ],
      "metadata": {
        "id": "ml_3Mg8gC7Ij",
        "outputId": "5f6aae6e-1e17-41ee-f59c-c8c694f6dda6",
        "colab": {
          "base_uri": "https://localhost:8080/"
        }
      },
      "execution_count": null,
      "outputs": [
        {
          "output_type": "stream",
          "name": "stderr",
          "text": [
            "/usr/local/lib/python3.11/dist-packages/openpyxl/worksheet/_reader.py:329: UserWarning: Data Validation extension is not supported and will be removed\n",
            "  warn(msg)\n"
          ]
        }
      ]
    },
    {
      "cell_type": "code",
      "source": [
        "print(excel_data.head())"
      ],
      "metadata": {
        "id": "2Q4KU38uDi1d",
        "outputId": "6fdff43b-d9ce-4a31-f274-a3c6d1d180a8",
        "colab": {
          "base_uri": "https://localhost:8080/"
        }
      },
      "execution_count": null,
      "outputs": [
        {
          "output_type": "stream",
          "name": "stdout",
          "text": [
            "   UDISE CODE\\n(Mandatory) Name of the Student\\n(Mandatory)  \\\n",
            "0                      NaN                 MOHAMMAD HAARISH   \n",
            "1                      NaN                     ANAND  KUMAR   \n",
            "2                      NaN                      NITIN KUMAR   \n",
            "3                      NaN                            IKRAM   \n",
            "4                      NaN                            AMAN    \n",
            "\n",
            "  \\nAdmission Number\\n(Mandatory)\\n  \\\n",
            "0                             12173   \n",
            "1                             12150   \n",
            "2                             12146   \n",
            "3                             12200   \n",
            "4                             12220   \n",
            "\n",
            "  \\nDate Of Admission(DD-MM-YYYY)\\n(Mandatory)\\n \\nAcademicYear(Mandatory)\\n  \\\n",
            "0                                     2020-09-02                     2022-23   \n",
            "1                                     2020-08-31                     2022-23   \n",
            "2                                     2020-08-31                     2022-23   \n",
            "3                                     2020-09-07                     2022-23   \n",
            "4                                     2020-09-10                     2022-23   \n",
            "\n",
            "  Studying in Class\\n(Mandatory) Studying in Section(Mandatory)  \\\n",
            "0                            III                              B   \n",
            "1                            III                              B   \n",
            "2                            III                              B   \n",
            "3                            III                              B   \n",
            "4                            III                              B   \n",
            "\n",
            "   Stream(only for XI,XII Standard)  Student Achievements  \\\n",
            "0                               NaN                   NaN   \n",
            "1                               NaN                   NaN   \n",
            "2                               NaN                   NaN   \n",
            "3                               NaN                   NaN   \n",
            "4                               NaN                   NaN   \n",
            "\n",
            "  Date of Birth\\n(DD-MM-YYYY) (Mandatory)  ... \\nHouseNo.\\n     \\n\\tArea\\n  \\\n",
            "0                              2013-10-05  ...        333.0  SHASTRI NAGAR   \n",
            "1                              2014-10-20  ...        258.0  SHASTRI NAGAR   \n",
            "2                              2014-10-15  ...        558.0  SHASTRI NAGAR   \n",
            "3                              2013-01-01  ...        148.0  SHASTRI NAGAR   \n",
            "4                              2013-07-16  ...        504.0  SHASTRI NAGAR   \n",
            "\n",
            "    \\nState\\n  \\n\\tCity\\n \\n\\tPincode\\n        \\n\\tBank Name \\n  \\\n",
            "0  Chandigarh  CHANDIGARH        160101        CANARA BANK M.M.   \n",
            "1  Chandigarh  CHANDIGARH        160101                UCO BANK   \n",
            "2  Chandigarh  CHANDIGARH        160101          BANK OF BARODA   \n",
            "3  Chandigarh  CHANDIGARH        160101                UCO BANK   \n",
            "4  Chandigarh  CHANDIGARH        160101  ANDHRA BANK KISHANGARH   \n",
            "\n",
            "  \\n\\t\\tBranch Name\\n \\nAccount Number\\n \\n\\t\\tIFSC Code\\n  \\\n",
            "0           MANIMAJRA       2.406101e+12       CNRB0002406   \n",
            "1           MANIMAJRA       3.306321e+13       UCBA0003306   \n",
            "2           MANIMAJRA       7.685010e+13       BARB0VJMMAJ   \n",
            "3           MANIMAJRA       3.306321e+13       UCBA0003306   \n",
            "4          KISHANGARH       2.824101e+14       UBIN0828246   \n",
            "\n",
            "  \\n\\tAccount Holder Name\\n  \n",
            "0          MOHAMMAD HAARISH  \n",
            "1              ANAND  KUMAR  \n",
            "2               NITIN KUMAR  \n",
            "3                     IKRAM  \n",
            "4                     AMAN   \n",
            "\n",
            "[5 rows x 52 columns]\n"
          ]
        }
      ]
    },
    {
      "cell_type": "code",
      "source": [
        "data = pd.read_excel('Details.xlsx', sheet_name='StudentsData')  # Read a specific sheet by name\n"
      ],
      "metadata": {
        "id": "GNOcfTIRDx1n",
        "outputId": "97cf7cff-358c-471c-8222-1bad73dd82f6",
        "colab": {
          "base_uri": "https://localhost:8080/"
        }
      },
      "execution_count": null,
      "outputs": [
        {
          "output_type": "stream",
          "name": "stderr",
          "text": [
            "/usr/local/lib/python3.11/dist-packages/openpyxl/worksheet/_reader.py:329: UserWarning: Data Validation extension is not supported and will be removed\n",
            "  warn(msg)\n"
          ]
        }
      ]
    },
    {
      "cell_type": "code",
      "source": [
        "# Clean the column names by removing newline characters and extra spaces\n",
        "data.columns = data.columns.str.replace('\\n', ' ').str.strip()\n",
        "\n",
        "# Display the first few rows to check\n",
        "print(data.head())"
      ],
      "metadata": {
        "id": "J4byGssdErWv",
        "outputId": "484b3f3e-e890-40ad-b63e-3accdcc67172",
        "colab": {
          "base_uri": "https://localhost:8080/"
        }
      },
      "execution_count": null,
      "outputs": [
        {
          "output_type": "stream",
          "name": "stdout",
          "text": [
            "   UDISE CODE (Mandatory) Name of the Student (Mandatory)  \\\n",
            "0                     NaN                MOHAMMAD HAARISH   \n",
            "1                     NaN                    ANAND  KUMAR   \n",
            "2                     NaN                     NITIN KUMAR   \n",
            "3                     NaN                           IKRAM   \n",
            "4                     NaN                           AMAN    \n",
            "\n",
            "  Admission Number (Mandatory) Date Of Admission(DD-MM-YYYY) (Mandatory)  \\\n",
            "0                        12173                                2020-09-02   \n",
            "1                        12150                                2020-08-31   \n",
            "2                        12146                                2020-08-31   \n",
            "3                        12200                                2020-09-07   \n",
            "4                        12220                                2020-09-10   \n",
            "\n",
            "  AcademicYear(Mandatory) Studying in Class (Mandatory)  \\\n",
            "0                 2022-23                           III   \n",
            "1                 2022-23                           III   \n",
            "2                 2022-23                           III   \n",
            "3                 2022-23                           III   \n",
            "4                 2022-23                           III   \n",
            "\n",
            "  Studying in Section(Mandatory)  Stream(only for XI,XII Standard)  \\\n",
            "0                              B                               NaN   \n",
            "1                              B                               NaN   \n",
            "2                              B                               NaN   \n",
            "3                              B                               NaN   \n",
            "4                              B                               NaN   \n",
            "\n",
            "   Student Achievements Date of Birth (DD-MM-YYYY) (Mandatory)  ... HouseNo.  \\\n",
            "0                   NaN                             2013-10-05  ...    333.0   \n",
            "1                   NaN                             2014-10-20  ...    258.0   \n",
            "2                   NaN                             2014-10-15  ...    558.0   \n",
            "3                   NaN                             2013-01-01  ...    148.0   \n",
            "4                   NaN                             2013-07-16  ...    504.0   \n",
            "\n",
            "            Area       State        City Pincode               Bank Name  \\\n",
            "0  SHASTRI NAGAR  Chandigarh  CHANDIGARH  160101        CANARA BANK M.M.   \n",
            "1  SHASTRI NAGAR  Chandigarh  CHANDIGARH  160101                UCO BANK   \n",
            "2  SHASTRI NAGAR  Chandigarh  CHANDIGARH  160101          BANK OF BARODA   \n",
            "3  SHASTRI NAGAR  Chandigarh  CHANDIGARH  160101                UCO BANK   \n",
            "4  SHASTRI NAGAR  Chandigarh  CHANDIGARH  160101  ANDHRA BANK KISHANGARH   \n",
            "\n",
            "  Branch Name Account Number    IFSC Code Account Holder Name  \n",
            "0   MANIMAJRA   2.406101e+12  CNRB0002406    MOHAMMAD HAARISH  \n",
            "1   MANIMAJRA   3.306321e+13  UCBA0003306        ANAND  KUMAR  \n",
            "2   MANIMAJRA   7.685010e+13  BARB0VJMMAJ         NITIN KUMAR  \n",
            "3   MANIMAJRA   3.306321e+13  UCBA0003306               IKRAM  \n",
            "4  KISHANGARH   2.824101e+14  UBIN0828246               AMAN   \n",
            "\n",
            "[5 rows x 52 columns]\n"
          ]
        }
      ]
    },
    {
      "cell_type": "code",
      "source": [
        "import pandas as pd\n",
        "\n",
        "# Read the Excel file (just the first few rows to inspect the structure)\n",
        "data = pd.read_excel('Details.xlsx', engine='openpyxl')\n",
        "\n",
        "data.columns = data.columns.str.replace('\\n', ' ').str.strip()\n",
        "\n",
        "# Display the columns in the sheet\n",
        "print(data.columns)\n"
      ],
      "metadata": {
        "id": "Sx6FslMhEzv5",
        "outputId": "d7edc32f-3497-4247-a1e2-9d5628554879",
        "colab": {
          "base_uri": "https://localhost:8080/"
        }
      },
      "execution_count": null,
      "outputs": [
        {
          "output_type": "stream",
          "name": "stdout",
          "text": [
            "Index(['UDISE CODE (Mandatory)', 'Name of the Student (Mandatory)',\n",
            "       'Admission Number (Mandatory)',\n",
            "       'Date Of Admission(DD-MM-YYYY) (Mandatory)', 'AcademicYear(Mandatory)',\n",
            "       'Studying in Class (Mandatory)', 'Studying in Section(Mandatory)',\n",
            "       'Stream(only for XI,XII Standard)', 'Student Achievements',\n",
            "       'Date of Birth (DD-MM-YYYY) (Mandatory)', 'Gender (Mandatory)',\n",
            "       'Aadharcard Number (Mandatory)', 'EID Number (If Aadhar not exists)',\n",
            "       'Whether Biometric at 5 or 15 years(Y/N) (Mandatory)',\n",
            "       'Mother tongue (Mandatory)', 'Religion (Mandatory)',\n",
            "       'Social Category (Mandatory)', 'Disability(Y/N)(Mandatory)',\n",
            "       'Disability Description', 'Disability ID Number', 'Native State',\n",
            "       'Covid Vaccination Status', 'Shifts', 'Whether Enrolled In STC (Y/N)',\n",
            "       'Whether Opted for NCC/NSS', 'Medium of Instruction',\n",
            "       'Height (In Cm's)', 'Weight (In Kg's)', 'Blood Group',\n",
            "       'Identification Mark (If Any)', 'Father Name', 'Mother Name',\n",
            "       'Father's Occupation', 'Mother's Occupation',\n",
            "       'Father Mobile Number(Mandatory)', 'Mother Mobile Number',\n",
            "       'Parent/Guardian Email Id(If Any)', 'Whether BPL (Y/N)',\n",
            "       'Average Annual Income (In Lacs)', 'Guardian Name',\n",
            "       'Guardian Occupation', 'Guardian Mobile Number', 'HouseNo.', 'Area',\n",
            "       'State', 'City', 'Pincode', 'Bank Name', 'Branch Name',\n",
            "       'Account Number', 'IFSC Code', 'Account Holder Name'],\n",
            "      dtype='object')\n"
          ]
        },
        {
          "output_type": "stream",
          "name": "stderr",
          "text": [
            "/usr/local/lib/python3.11/dist-packages/openpyxl/worksheet/_reader.py:329: UserWarning: Data Validation extension is not supported and will be removed\n",
            "  warn(msg)\n"
          ]
        }
      ]
    },
    {
      "cell_type": "code",
      "source": [
        "data = pd.read_excel('Details.xlsx', engine='openpyxl', usecols=['Name of the Student\\n(Mandatory)'])\n",
        "print(data.head())"
      ],
      "metadata": {
        "id": "dipgzortFI31",
        "outputId": "d8591dba-cb9b-47f6-d980-f92f6c07b284",
        "colab": {
          "base_uri": "https://localhost:8080/"
        }
      },
      "execution_count": null,
      "outputs": [
        {
          "output_type": "stream",
          "name": "stdout",
          "text": [
            "  Name of the Student\\n(Mandatory)\n",
            "0                 MOHAMMAD HAARISH\n",
            "1                     ANAND  KUMAR\n",
            "2                      NITIN KUMAR\n",
            "3                            IKRAM\n",
            "4                            AMAN \n"
          ]
        }
      ]
    },
    {
      "cell_type": "code",
      "source": [
        "data = pd.read_excel('Details.xlsx', engine='openpyxl', skiprows=[1,2])  # Skip the first 2nd and 3rd row rows"
      ],
      "metadata": {
        "id": "yYv8arK_FM-k",
        "outputId": "940588e2-ecd4-4930-af37-d32dfe9f016c",
        "colab": {
          "base_uri": "https://localhost:8080/"
        }
      },
      "execution_count": null,
      "outputs": [
        {
          "output_type": "stream",
          "name": "stderr",
          "text": [
            "/usr/local/lib/python3.11/dist-packages/openpyxl/worksheet/_reader.py:329: UserWarning: Data Validation extension is not supported and will be removed\n",
            "  warn(msg)\n"
          ]
        }
      ]
    },
    {
      "cell_type": "code",
      "source": [
        "print(data.head())\n",
        "data.columns = data.columns.str.replace('\\n', ' ').str.strip()"
      ],
      "metadata": {
        "id": "7tbFa3m5Fw-j",
        "outputId": "10f2d2d0-9f28-4e4b-9e73-6c4ba3505cfd",
        "colab": {
          "base_uri": "https://localhost:8080/"
        }
      },
      "execution_count": null,
      "outputs": [
        {
          "output_type": "stream",
          "name": "stdout",
          "text": [
            "   UDISE CODE (Mandatory) Name of the Student (Mandatory)  \\\n",
            "0                     NaN                MOHAMMAD HAARISH   \n",
            "1                     NaN                    ANAND  KUMAR   \n",
            "2                     NaN                     NITIN KUMAR   \n",
            "3                     NaN                           IKRAM   \n",
            "4                     NaN                           AMAN    \n",
            "\n",
            "  Admission Number (Mandatory) Date Of Admission(DD-MM-YYYY) (Mandatory)  \\\n",
            "0                        12173                                2020-09-02   \n",
            "1                        12150                                2020-08-31   \n",
            "2                        12146                                2020-08-31   \n",
            "3                        12200                                2020-09-07   \n",
            "4                        12220                                2020-09-10   \n",
            "\n",
            "  AcademicYear(Mandatory) Studying in Class (Mandatory)  \\\n",
            "0                 2022-23                           III   \n",
            "1                 2022-23                           III   \n",
            "2                 2022-23                           III   \n",
            "3                 2022-23                           III   \n",
            "4                 2022-23                           III   \n",
            "\n",
            "  Studying in Section(Mandatory)  Stream(only for XI,XII Standard)  \\\n",
            "0                              B                               NaN   \n",
            "1                              B                               NaN   \n",
            "2                              B                               NaN   \n",
            "3                              B                               NaN   \n",
            "4                              B                               NaN   \n",
            "\n",
            "   Student Achievements Date of Birth (DD-MM-YYYY) (Mandatory)  ... HouseNo.  \\\n",
            "0                   NaN                             2013-10-05  ...    333.0   \n",
            "1                   NaN                             2014-10-20  ...    258.0   \n",
            "2                   NaN                             2014-10-15  ...    558.0   \n",
            "3                   NaN                             2013-01-01  ...    148.0   \n",
            "4                   NaN                             2013-07-16  ...    504.0   \n",
            "\n",
            "            Area       State        City Pincode               Bank Name  \\\n",
            "0  SHASTRI NAGAR  Chandigarh  CHANDIGARH  160101        CANARA BANK M.M.   \n",
            "1  SHASTRI NAGAR  Chandigarh  CHANDIGARH  160101                UCO BANK   \n",
            "2  SHASTRI NAGAR  Chandigarh  CHANDIGARH  160101          BANK OF BARODA   \n",
            "3  SHASTRI NAGAR  Chandigarh  CHANDIGARH  160101                UCO BANK   \n",
            "4  SHASTRI NAGAR  Chandigarh  CHANDIGARH  160101  ANDHRA BANK KISHANGARH   \n",
            "\n",
            "  Branch Name Account Number    IFSC Code Account Holder Name  \n",
            "0   MANIMAJRA   2.406101e+12  CNRB0002406    MOHAMMAD HAARISH  \n",
            "1   MANIMAJRA   3.306321e+13  UCBA0003306        ANAND  KUMAR  \n",
            "2   MANIMAJRA   7.685010e+13  BARB0VJMMAJ         NITIN KUMAR  \n",
            "3   MANIMAJRA   3.306321e+13  UCBA0003306               IKRAM  \n",
            "4  KISHANGARH   2.824101e+14  UBIN0828246               AMAN   \n",
            "\n",
            "[5 rows x 52 columns]\n"
          ]
        }
      ]
    },
    {
      "cell_type": "markdown",
      "source": [
        "## Reading Web-sites (use urllib3 or any other library)"
      ],
      "metadata": {
        "id": "bFqIU395pNgS"
      }
    },
    {
      "cell_type": "code",
      "source": [
        "pip install beautifulsoup4"
      ],
      "metadata": {
        "id": "hmWYdgUcF0Pe",
        "outputId": "39c7b6e1-4713-4561-d41b-df96b333411a",
        "colab": {
          "base_uri": "https://localhost:8080/"
        }
      },
      "execution_count": 1,
      "outputs": [
        {
          "output_type": "stream",
          "name": "stdout",
          "text": [
            "Requirement already satisfied: beautifulsoup4 in /usr/local/lib/python3.11/dist-packages (4.13.3)\n",
            "Requirement already satisfied: soupsieve>1.2 in /usr/local/lib/python3.11/dist-packages (from beautifulsoup4) (2.6)\n",
            "Requirement already satisfied: typing-extensions>=4.0.0 in /usr/local/lib/python3.11/dist-packages (from beautifulsoup4) (4.12.2)\n"
          ]
        }
      ]
    },
    {
      "cell_type": "code",
      "source": [
        "pip install requests"
      ],
      "metadata": {
        "id": "-jbVK-YwptlO",
        "outputId": "70ccf292-3e8c-4b25-f761-9d04906e96e5",
        "colab": {
          "base_uri": "https://localhost:8080/"
        }
      },
      "execution_count": 2,
      "outputs": [
        {
          "output_type": "stream",
          "name": "stdout",
          "text": [
            "Requirement already satisfied: requests in /usr/local/lib/python3.11/dist-packages (2.32.3)\n",
            "Requirement already satisfied: charset-normalizer<4,>=2 in /usr/local/lib/python3.11/dist-packages (from requests) (3.4.1)\n",
            "Requirement already satisfied: idna<4,>=2.5 in /usr/local/lib/python3.11/dist-packages (from requests) (3.10)\n",
            "Requirement already satisfied: urllib3<3,>=1.21.1 in /usr/local/lib/python3.11/dist-packages (from requests) (2.3.0)\n",
            "Requirement already satisfied: certifi>=2017.4.17 in /usr/local/lib/python3.11/dist-packages (from requests) (2025.1.31)\n"
          ]
        }
      ]
    },
    {
      "cell_type": "code",
      "source": [
        "import requests\n",
        "from bs4 import BeautifulSoup\n",
        "\n",
        "def news():\n",
        "    url = 'https://www.hindustantimes.com/top-news'\n",
        "\n",
        "    # Adding headers to mimic a real browser request\n",
        "    headers = {\n",
        "        \"User-Agent\": \"Mozilla/5.0 (Windows NT 10.0; Win64; x64) AppleWebKit/537.36 (KHTML, like Gecko) Chrome/91.0.4472.124 Safari/537.36\"\n",
        "    }\n",
        "\n",
        "    resp = requests.get(url, headers=headers)\n",
        "\n",
        "    if resp.status_code == 200:\n",
        "        print(\"Successfully opened the web page.\")\n",
        "        print(\"The news are as follows:-\\n\")\n",
        "\n",
        "        soup = BeautifulSoup(resp.text, 'html.parser')\n",
        "\n",
        "        # Update the selector based on the website's structure\n",
        "        articles = soup.find_all(\"h3\", class_=\"hdg3\")\n",
        "\n",
        "        count=1;\n",
        "        for article in articles:\n",
        "            print(count,\" : \",article.text.strip())\n",
        "            count+=1\n",
        "\n",
        "    else:\n",
        "        print(\"Error fetching the webpage.\")\n",
        "\n",
        "news()\n"
      ],
      "metadata": {
        "id": "Oi2o9sBRpv2_",
        "outputId": "7901dd12-885b-4d3a-f31a-a62b32879e08",
        "colab": {
          "base_uri": "https://localhost:8080/"
        }
      },
      "execution_count": 11,
      "outputs": [
        {
          "output_type": "stream",
          "name": "stdout",
          "text": [
            "Successfully opened the web page.\n",
            "The news are as follows:-\n",
            "\n",
            "1  :  How Squeaky Shoes That Chase Lost Souls explores teenage turmoil\n",
            "2  :  Protests over Kolkata doctor's murder cast a shadow on the Durga puja festival\n",
            "3  :  DAG exhibition maps the advent and impact of photography in colonial India\n",
            "4  :  NSA Doval briefs Putin on Modi-Zelensky talks, meets Chinese FM Wang Yi\n",
            "5  :  NSA Doval set to meet Chinese counterpart Wang Yi on Thursday\n",
            "6  :  Cabinet approves Mission Mausam with an outlay of ₹2K Cr for weather forecasts\n",
            "7  :  Meet the council of elders that decided Mizoram’s next chief minister\n",
            "8  :  ‘India loses more than 1% GDP through the exclusion of LGBT persons’\n",
            "9  :  In Tamil Nadu, a special wing of police aims to fight caste violence\n",
            "10  :  Cause and Effect | At COP28, world leaders are at a crossroads\n",
            "11  :  Explainer: The Mahadev App online betting scam in Chhattisgarh\n",
            "12  :  LCA set to emerge as cornerstone of IAF’s combat power\n",
            "13  :  Jailed FTX founder Bankman-Fried to return to court for new plea\n",
            "14  :  To reach its economic potential, India must abandon protectionism\n",
            "15  :  Ukraine calls on Putin to meet, seeks security guarantee from west - 10 points\n"
          ]
        }
      ]
    },
    {
      "cell_type": "code",
      "source": [
        "def news():\n",
        "    url = 'https://www.geeksforgeeks.org/reading-selected-webpage-content-using-python-web-scraping/'\n",
        "\n",
        "    # Adding headers to mimic a real browser request\n",
        "    headers = {\n",
        "        \"User-Agent\": \"Mozilla/5.0 (Windows NT 10.0; Win64; x64) AppleWebKit/537.36 (KHTML, like Gecko) Chrome/91.0.4472.124 Safari/537.36\"\n",
        "    }\n",
        "\n",
        "    resp = requests.get(url, headers=headers)\n",
        "\n",
        "    if resp.status_code == 200:\n",
        "        print(\"Successfully opened the web page.\")\n",
        "\n",
        "        soup = BeautifulSoup(resp.text, 'html.parser')\n",
        "\n",
        "        articles = soup.find_all(\"p\")\n",
        "\n",
        "        for article in articles:\n",
        "            print(article.text.strip())\n",
        "\n",
        "    else:\n",
        "        print(\"Error fetching the webpage.\")\n",
        "\n",
        "news()\n"
      ],
      "metadata": {
        "id": "s4pg8vmdsYmY",
        "outputId": "171fa64a-ff2e-41a0-ee78-027b251aface",
        "colab": {
          "base_uri": "https://localhost:8080/"
        }
      },
      "execution_count": 15,
      "outputs": [
        {
          "output_type": "stream",
          "name": "stdout",
          "text": [
            "Successfully opened the web page.\n",
            "Prerequisite: Downloading files in Python, Web Scraping with BeautifulSoup\n",
            "We all know that Python is a very easy programming language but what makes it cool are the great number of open source library written for it. Requests is one of the most widely used library. It allows us to open any HTTP/HTTPS website and let us do any kind of stuff we normally do on web and can also save sessions i.e cookie.\n",
            "As we all know that a webpage is just a piece of HTML code which is sent by the Web Server to our Browser, which in turn converts into the beautiful page. Now we need a mechanism to get hold of the HTML source code i.e finding some particular tags with a package called BeautifulSoup.\n",
            "Installation:\n",
            "We take an example by reading a news site Hindustan Times\n",
            "The code can be divided into three parts.\n",
            "\n",
            "Requesting a webpage\n",
            "Inspecting the tags\n",
            "Print the appropriate contents\n",
            "\n",
            "Steps:\n",
            "\n",
            "Requesting a webpage: First we see right click on the news text to see the source code \n",
            "Inspecting the tags: We need to figure in which body of the source code contains the news section we want to scrap. It is the under ul,i.e unordered list, “searchNews” which contains the news section.\n",
            "\n",
            "Note The news text is present in the anchor tag text part. A close observation gives us the idea that all the news are in li, list, tags of the unordered tag.\n",
            "\n",
            "Print the appropriate contents: The content is printed with the help of code given below.\n",
            "Steps:\n",
            "\n",
            "Note The news text is present in the anchor tag text part. A close observation gives us the idea that all the news are in li, list, tags of the unordered tag.\n",
            "\n",
            "\n",
            "\n",
            "\n",
            "Output\n",
            "References\n",
            "\n",
            "Requests\n",
            "BeautifulSoup\n",
            "Http_status_codes\n",
            "\n",
            "\n",
            "\n",
            "\n",
            "\n",
            "\n",
            "\n",
            "\n",
            "\n",
            "\n",
            "\n",
            "\r\n",
            "        Comment\r\n",
            "    More info\n",
            "Advertise with us\n",
            "\n",
            "\n",
            "\n",
            "Next Article\n",
            "\n",
            "\n",
            "\n",
            "\n",
            "Scraping Television Rating Point using Python\n",
            "\n",
            "\n",
            "\n",
            "\n",
            "\n",
            "\n",
            "\n",
            "\n",
            "\n",
            "S \n",
            "\n",
            "\n",
            "\n",
            "Shubham Choudhary\n",
            "\n",
            " \n",
            "\n",
            "\n",
            "\n",
            "\n",
            "\n",
            "\n",
            "\n",
            "\n",
            "\n",
            "\n",
            "\n",
            "\n",
            "\n",
            "\n",
            "\n",
            "\n",
            "\n",
            "Improve\n",
            "\n",
            "\n",
            "\n",
            "\n",
            "\n",
            "\n",
            "Article Tags : \n",
            "\n",
            "\n",
            "Misc\n",
            "\n",
            "\n",
            "Project\n",
            "\n",
            "\n",
            "Python\n",
            "\n",
            "\n",
            "Technical Scripter\n",
            "\n",
            "\n",
            "TechTips\n",
            " \n",
            "+1 More\n",
            "\n",
            "\n",
            "Practice Tags : \n",
            "\n",
            "Miscpython \n",
            "\n",
            "\n",
            "\n",
            "\n",
            "\n",
            "Similar Reads\n",
            "\n",
            "\n",
            "Reading selected webpage content using Python Web Scraping\r\n",
            "                    \n",
            "Prerequisite: Downloading files in Python, Web Scraping with BeautifulSoup We all know that Python is a very easy programming language but what makes it cool are the great number of open source library written for it. Requests is one of the most widely used library. It allows us to open any HTTP/HTT\n",
            "\n",
            "\n",
            "\n",
            "3 min read\n",
            "\n",
            "\n",
            "Scraping Television Rating Point using Python\r\n",
            "                    \n",
            "In this article, We are going to write python scripts to scrape TRP(Television Rating Point) from BARC. TRP stands for Television Rating Point, It represents how many people watched which channels for how much time during a particular period. It is used to judge which television program is viewed mo\n",
            "\n",
            "\n",
            "\n",
            "2 min read\n",
            "\n",
            "\n",
            "Pagination using Scrapy - Web Scraping with Python\r\n",
            "                    \n",
            "Pagination using Scrapy. Web scraping is a technique to fetch information from websites. Scrapy is used as a Python framework for web scraping. Getting data from a normal website is easier, and can be just achieved by just pulling the HTML of the website and fetching data by filtering tags. But what\n",
            "\n",
            "\n",
            "\n",
            "3 min read\n",
            "\n",
            "\n",
            "Clean Web Scraping Data Using clean-text in Python\r\n",
            "                    \n",
            "If you like to play with API's or like to scrape data from various websites, you must've come around random annoying text, numbers, keywords that come around with data. Sometimes it can be really complicating and frustrating to clean scraped data to obtain the actual data that we want. In this artic\n",
            "\n",
            "\n",
            "\n",
            "2 min read\n",
            "\n",
            "\n",
            "How to Clone webpage Using pywebcopy in Python?\r\n",
            "                    \n",
            "Sometimes we need a handy web page on your local hard drive. So, here we are going to write a simple Python script to Scrap a web page. Web scraping is used for extracting data from websites for offline reading, storage, or whatever reason. Before writing the script we need to know pywebcopy. pywebc\n",
            "\n",
            "\n",
            "\n",
            "1 min read\n",
            "\n",
            "\n",
            "Web Scraping Tables with Selenium and Python\r\n",
            "                    \n",
            "Selenium is the automation software testing tool that obtains the website, performs various actions, or obtains the data from the website. It was chiefly developed for easing the testing work by automating web applications. Nowadays, apart from being used for testing, it can also be used for making\n",
            "\n",
            "\n",
            "\n",
            "4 min read\n",
            "\n",
            "\n",
            "Spoofing IP address when web scraping using Python\r\n",
            "                    \n",
            "In this article, we are going to scrap a website using Requests by rotating proxies in Python. Modules RequiredRequests module allows you to send HTTP requests and returns a response with all the data such as status, page content, etc. Syntax: requests.get(url, parameter) JSON JavaScript Object Nota\n",
            "\n",
            "\n",
            "\n",
            "3 min read\n",
            "\n",
            "\n",
            "Scraping Reddit using Python\r\n",
            "                    \n",
            "In this article, we are going to see how to scrape Reddit using Python, here we will be using python's PRAW (Python Reddit API Wrapper) module to scrape the data. Praw is an acronym Python Reddit API wrapper, it allows Reddit API through Python scripts. Installation To install PRAW, run the followin\n",
            "\n",
            "\n",
            "\n",
            "4 min read\n",
            "\n",
            "\n",
            "Web scraping from Wikipedia using Python - A Complete Guide\r\n",
            "                    \n",
            "In this article, you will learn various concepts of web scraping and get comfortable with scraping various types of websites and their data. The goal is to scrape data from the Wikipedia Home page and parse it through various web scraping techniques. You will be getting familiar with various web scr\n",
            "\n",
            "\n",
            "\n",
            "9 min read\n",
            "\n",
            "\n",
            "Web Scraping Financial News Using Python\r\n",
            "                    \n",
            "In this article, we will cover how to extract financial news seamlessly using Python. This financial news helps many traders in placing the trade in cryptocurrency, bitcoins, the stock markets, and many other global stock markets setting up of trading bot will help us to analyze the data. Thus all t\n",
            "\n",
            "\n",
            "\n",
            "3 min read\n",
            "\n",
            "\n",
            "\n",
            "\n",
            "\n",
            "\n",
            "\n",
            "\n",
            "Like\n",
            "References\n",
            "S\n",
            "\n"
          ]
        }
      ]
    },
    {
      "cell_type": "markdown",
      "source": [
        "## Reading PDF Files (Use PyPDF2 or any other library)"
      ],
      "metadata": {
        "id": "oI1S4U1t4K7D"
      }
    },
    {
      "cell_type": "code",
      "source": [
        "pip install pdfplumber"
      ],
      "metadata": {
        "id": "HEy2qYWqvhpn",
        "outputId": "2db4b74c-003f-413d-a6fe-1067e0c0b697",
        "colab": {
          "base_uri": "https://localhost:8080/"
        }
      },
      "execution_count": 26,
      "outputs": [
        {
          "output_type": "stream",
          "name": "stdout",
          "text": [
            "Collecting pdfplumber\n",
            "  Downloading pdfplumber-0.11.5-py3-none-any.whl.metadata (42 kB)\n",
            "\u001b[?25l     \u001b[90m━━━━━━━━━━━━━━━━━━━━━━━━━━━━━━━━━━━━━━━━\u001b[0m \u001b[32m0.0/42.5 kB\u001b[0m \u001b[31m?\u001b[0m eta \u001b[36m-:--:--\u001b[0m\r\u001b[2K     \u001b[90m━━━━━━━━━━━━━━━━━━━━━━━━━━━━━━━━━━━━━━━━\u001b[0m \u001b[32m42.5/42.5 kB\u001b[0m \u001b[31m1.5 MB/s\u001b[0m eta \u001b[36m0:00:00\u001b[0m\n",
            "\u001b[?25hCollecting pdfminer.six==20231228 (from pdfplumber)\n",
            "  Downloading pdfminer.six-20231228-py3-none-any.whl.metadata (4.2 kB)\n",
            "Requirement already satisfied: Pillow>=9.1 in /usr/local/lib/python3.11/dist-packages (from pdfplumber) (11.1.0)\n",
            "Collecting pypdfium2>=4.18.0 (from pdfplumber)\n",
            "  Downloading pypdfium2-4.30.1-py3-none-manylinux_2_17_x86_64.manylinux2014_x86_64.whl.metadata (48 kB)\n",
            "\u001b[2K     \u001b[90m━━━━━━━━━━━━━━━━━━━━━━━━━━━━━━━━━━━━━━━━\u001b[0m \u001b[32m48.2/48.2 kB\u001b[0m \u001b[31m2.9 MB/s\u001b[0m eta \u001b[36m0:00:00\u001b[0m\n",
            "\u001b[?25hRequirement already satisfied: charset-normalizer>=2.0.0 in /usr/local/lib/python3.11/dist-packages (from pdfminer.six==20231228->pdfplumber) (3.4.1)\n",
            "Requirement already satisfied: cryptography>=36.0.0 in /usr/local/lib/python3.11/dist-packages (from pdfminer.six==20231228->pdfplumber) (43.0.3)\n",
            "Requirement already satisfied: cffi>=1.12 in /usr/local/lib/python3.11/dist-packages (from cryptography>=36.0.0->pdfminer.six==20231228->pdfplumber) (1.17.1)\n",
            "Requirement already satisfied: pycparser in /usr/local/lib/python3.11/dist-packages (from cffi>=1.12->cryptography>=36.0.0->pdfminer.six==20231228->pdfplumber) (2.22)\n",
            "Downloading pdfplumber-0.11.5-py3-none-any.whl (59 kB)\n",
            "\u001b[2K   \u001b[90m━━━━━━━━━━━━━━━━━━━━━━━━━━━━━━━━━━━━━━━━\u001b[0m \u001b[32m59.5/59.5 kB\u001b[0m \u001b[31m3.3 MB/s\u001b[0m eta \u001b[36m0:00:00\u001b[0m\n",
            "\u001b[?25hDownloading pdfminer.six-20231228-py3-none-any.whl (5.6 MB)\n",
            "\u001b[2K   \u001b[90m━━━━━━━━━━━━━━━━━━━━━━━━━━━━━━━━━━━━━━━━\u001b[0m \u001b[32m5.6/5.6 MB\u001b[0m \u001b[31m44.6 MB/s\u001b[0m eta \u001b[36m0:00:00\u001b[0m\n",
            "\u001b[?25hDownloading pypdfium2-4.30.1-py3-none-manylinux_2_17_x86_64.manylinux2014_x86_64.whl (2.9 MB)\n",
            "\u001b[2K   \u001b[90m━━━━━━━━━━━━━━━━━━━━━━━━━━━━━━━━━━━━━━━━\u001b[0m \u001b[32m2.9/2.9 MB\u001b[0m \u001b[31m50.3 MB/s\u001b[0m eta \u001b[36m0:00:00\u001b[0m\n",
            "\u001b[?25hInstalling collected packages: pypdfium2, pdfminer.six, pdfplumber\n",
            "Successfully installed pdfminer.six-20231228 pdfplumber-0.11.5 pypdfium2-4.30.1\n"
          ]
        }
      ]
    },
    {
      "cell_type": "code",
      "source": [
        "from google.colab import files\n",
        "uploaded = files.upload()"
      ],
      "metadata": {
        "id": "YJST2fiP4snB",
        "outputId": "1e8f6b2e-0036-4741-d994-e76708392823",
        "colab": {
          "base_uri": "https://localhost:8080/",
          "height": 269
        }
      },
      "execution_count": 18,
      "outputs": [
        {
          "output_type": "display_data",
          "data": {
            "text/plain": [
              "<IPython.core.display.HTML object>"
            ],
            "text/html": [
              "\n",
              "     <input type=\"file\" id=\"files-6620c408-a695-421b-8761-906ea8bac67b\" name=\"files[]\" multiple disabled\n",
              "        style=\"border:none\" />\n",
              "     <output id=\"result-6620c408-a695-421b-8761-906ea8bac67b\">\n",
              "      Upload widget is only available when the cell has been executed in the\n",
              "      current browser session. Please rerun this cell to enable.\n",
              "      </output>\n",
              "      <script>// Copyright 2017 Google LLC\n",
              "//\n",
              "// Licensed under the Apache License, Version 2.0 (the \"License\");\n",
              "// you may not use this file except in compliance with the License.\n",
              "// You may obtain a copy of the License at\n",
              "//\n",
              "//      http://www.apache.org/licenses/LICENSE-2.0\n",
              "//\n",
              "// Unless required by applicable law or agreed to in writing, software\n",
              "// distributed under the License is distributed on an \"AS IS\" BASIS,\n",
              "// WITHOUT WARRANTIES OR CONDITIONS OF ANY KIND, either express or implied.\n",
              "// See the License for the specific language governing permissions and\n",
              "// limitations under the License.\n",
              "\n",
              "/**\n",
              " * @fileoverview Helpers for google.colab Python module.\n",
              " */\n",
              "(function(scope) {\n",
              "function span(text, styleAttributes = {}) {\n",
              "  const element = document.createElement('span');\n",
              "  element.textContent = text;\n",
              "  for (const key of Object.keys(styleAttributes)) {\n",
              "    element.style[key] = styleAttributes[key];\n",
              "  }\n",
              "  return element;\n",
              "}\n",
              "\n",
              "// Max number of bytes which will be uploaded at a time.\n",
              "const MAX_PAYLOAD_SIZE = 100 * 1024;\n",
              "\n",
              "function _uploadFiles(inputId, outputId) {\n",
              "  const steps = uploadFilesStep(inputId, outputId);\n",
              "  const outputElement = document.getElementById(outputId);\n",
              "  // Cache steps on the outputElement to make it available for the next call\n",
              "  // to uploadFilesContinue from Python.\n",
              "  outputElement.steps = steps;\n",
              "\n",
              "  return _uploadFilesContinue(outputId);\n",
              "}\n",
              "\n",
              "// This is roughly an async generator (not supported in the browser yet),\n",
              "// where there are multiple asynchronous steps and the Python side is going\n",
              "// to poll for completion of each step.\n",
              "// This uses a Promise to block the python side on completion of each step,\n",
              "// then passes the result of the previous step as the input to the next step.\n",
              "function _uploadFilesContinue(outputId) {\n",
              "  const outputElement = document.getElementById(outputId);\n",
              "  const steps = outputElement.steps;\n",
              "\n",
              "  const next = steps.next(outputElement.lastPromiseValue);\n",
              "  return Promise.resolve(next.value.promise).then((value) => {\n",
              "    // Cache the last promise value to make it available to the next\n",
              "    // step of the generator.\n",
              "    outputElement.lastPromiseValue = value;\n",
              "    return next.value.response;\n",
              "  });\n",
              "}\n",
              "\n",
              "/**\n",
              " * Generator function which is called between each async step of the upload\n",
              " * process.\n",
              " * @param {string} inputId Element ID of the input file picker element.\n",
              " * @param {string} outputId Element ID of the output display.\n",
              " * @return {!Iterable<!Object>} Iterable of next steps.\n",
              " */\n",
              "function* uploadFilesStep(inputId, outputId) {\n",
              "  const inputElement = document.getElementById(inputId);\n",
              "  inputElement.disabled = false;\n",
              "\n",
              "  const outputElement = document.getElementById(outputId);\n",
              "  outputElement.innerHTML = '';\n",
              "\n",
              "  const pickedPromise = new Promise((resolve) => {\n",
              "    inputElement.addEventListener('change', (e) => {\n",
              "      resolve(e.target.files);\n",
              "    });\n",
              "  });\n",
              "\n",
              "  const cancel = document.createElement('button');\n",
              "  inputElement.parentElement.appendChild(cancel);\n",
              "  cancel.textContent = 'Cancel upload';\n",
              "  const cancelPromise = new Promise((resolve) => {\n",
              "    cancel.onclick = () => {\n",
              "      resolve(null);\n",
              "    };\n",
              "  });\n",
              "\n",
              "  // Wait for the user to pick the files.\n",
              "  const files = yield {\n",
              "    promise: Promise.race([pickedPromise, cancelPromise]),\n",
              "    response: {\n",
              "      action: 'starting',\n",
              "    }\n",
              "  };\n",
              "\n",
              "  cancel.remove();\n",
              "\n",
              "  // Disable the input element since further picks are not allowed.\n",
              "  inputElement.disabled = true;\n",
              "\n",
              "  if (!files) {\n",
              "    return {\n",
              "      response: {\n",
              "        action: 'complete',\n",
              "      }\n",
              "    };\n",
              "  }\n",
              "\n",
              "  for (const file of files) {\n",
              "    const li = document.createElement('li');\n",
              "    li.append(span(file.name, {fontWeight: 'bold'}));\n",
              "    li.append(span(\n",
              "        `(${file.type || 'n/a'}) - ${file.size} bytes, ` +\n",
              "        `last modified: ${\n",
              "            file.lastModifiedDate ? file.lastModifiedDate.toLocaleDateString() :\n",
              "                                    'n/a'} - `));\n",
              "    const percent = span('0% done');\n",
              "    li.appendChild(percent);\n",
              "\n",
              "    outputElement.appendChild(li);\n",
              "\n",
              "    const fileDataPromise = new Promise((resolve) => {\n",
              "      const reader = new FileReader();\n",
              "      reader.onload = (e) => {\n",
              "        resolve(e.target.result);\n",
              "      };\n",
              "      reader.readAsArrayBuffer(file);\n",
              "    });\n",
              "    // Wait for the data to be ready.\n",
              "    let fileData = yield {\n",
              "      promise: fileDataPromise,\n",
              "      response: {\n",
              "        action: 'continue',\n",
              "      }\n",
              "    };\n",
              "\n",
              "    // Use a chunked sending to avoid message size limits. See b/62115660.\n",
              "    let position = 0;\n",
              "    do {\n",
              "      const length = Math.min(fileData.byteLength - position, MAX_PAYLOAD_SIZE);\n",
              "      const chunk = new Uint8Array(fileData, position, length);\n",
              "      position += length;\n",
              "\n",
              "      const base64 = btoa(String.fromCharCode.apply(null, chunk));\n",
              "      yield {\n",
              "        response: {\n",
              "          action: 'append',\n",
              "          file: file.name,\n",
              "          data: base64,\n",
              "        },\n",
              "      };\n",
              "\n",
              "      let percentDone = fileData.byteLength === 0 ?\n",
              "          100 :\n",
              "          Math.round((position / fileData.byteLength) * 100);\n",
              "      percent.textContent = `${percentDone}% done`;\n",
              "\n",
              "    } while (position < fileData.byteLength);\n",
              "  }\n",
              "\n",
              "  // All done.\n",
              "  yield {\n",
              "    response: {\n",
              "      action: 'complete',\n",
              "    }\n",
              "  };\n",
              "}\n",
              "\n",
              "scope.google = scope.google || {};\n",
              "scope.google.colab = scope.google.colab || {};\n",
              "scope.google.colab._files = {\n",
              "  _uploadFiles,\n",
              "  _uploadFilesContinue,\n",
              "};\n",
              "})(self);\n",
              "</script> "
            ]
          },
          "metadata": {}
        },
        {
          "output_type": "stream",
          "name": "stdout",
          "text": [
            "Saving verbs.pdf to verbs.pdf\n",
            "Saving Reported speech solutions.pdf to Reported speech solutions.pdf\n",
            "Saving R_Speech.pdf to R_Speech.pdf\n",
            "Saving Prepositions.pdf to Prepositions.pdf\n",
            "Saving Adverbs.pdf to Adverbs.pdf\n",
            "Saving Adjectives.pdf to Adjectives.pdf\n"
          ]
        }
      ]
    },
    {
      "cell_type": "code",
      "source": [
        "# importing required classes\n",
        "from pypdf import PdfReader\n",
        "\n",
        "# creating a pdf reader object\n",
        "reader = PdfReader('/content/verbs.pdf')\n",
        "\n",
        "# printing number of pages in pdf file\n",
        "print(len(reader.pages))\n",
        "\n",
        "# creating a page object\n",
        "page = reader.pages[0]\n",
        "\n",
        "# extracting text from page\n",
        "print(page.extract_text())"
      ],
      "metadata": {
        "id": "8gSbcu554zz8",
        "outputId": "a7f2dbd8-2b61-453e-c441-e6630f84ee7d",
        "colab": {
          "base_uri": "https://localhost:8080/"
        }
      },
      "execution_count": 32,
      "outputs": [
        {
          "output_type": "stream",
          "name": "stdout",
          "text": [
            "3\n",
            "Verbs: \n",
            "A. Fill in the blanks with the correct form of the verb in brackets: \n",
            "1. She ___ (play) in the park every evening. \n",
            "2. He ___ (write) a letter right now. \n",
            "3. They ___ (visit) their grandparents last weekend. \n",
            "4. I ___ (eat) my lunch before you arrived. \n",
            "5. The sun ___ (rise) in the east. \n",
            "6. We ___ (go) to the zoo next Sunday. \n",
            "7. She ___ (help) me yesterday. \n",
            "8. The baby ___ (cry) loudly. \n",
            "9. He ___ (run) very fast in the race. \n",
            "10. I ___ (finish) my homework already. \n",
            " \n",
            "B. Choose the correct verb from the options given: \n",
            "11. The birds ___ (is/are) flying in the sky. \n",
            "12. My mother ___ (cook/cooks) delicious food every day. \n",
            "13. The boy ___ (was/were) playing football. \n",
            "14. They ___ (has/have) completed their project. \n",
            "15. She ___ (do/does) not like cold drinks. \n",
            " \n",
            "C. Change the sentences to past tense: \n",
            "16. I go to school every day. \n",
            "17. She eats an apple in the morning. \n",
            "18. They play cricket on Sundays. \n",
            "19. He writes a story in his notebook. \n",
            "20. We watch cartoons on TV. \n",
            "D. Fill in the blanks with the correct form of the verb in brackets: \n",
            "1) She ___ (write) a letter every day. (Simple Present) \n",
            "2) Look! The children ___ (play) in the park. (Present Continuous) \n",
            "3) They ___ (go) to the zoo last Sunday. (Simple Past) \n",
            "4) He ___ (watch) TV when I called him. (Past Continuous) \n",
            "5) We ___ (finish) our homework already. (Present Perfect) \n",
            "6) She ___ (leave) before we reached. (Past Perfect) \n",
            "7) He ___ (buy) a new car next month. (Simple Future) \n",
            "8) The baby ___ (cry) because he is hungry. (Present Continuous) \n",
            "9) I ___ (read) this book last week. (Simple Past) \n",
            "10) The train ___ (arrive) before we got to the station. (Past Perfect) \n",
            " \n"
          ]
        }
      ]
    },
    {
      "cell_type": "markdown",
      "source": [
        "## Exception Handling Features"
      ],
      "metadata": {
        "id": "Us4Mxk8k8nxT"
      }
    },
    {
      "cell_type": "code",
      "source": [
        "import logging\n",
        "\n",
        "# Set up logging to output to a file\n",
        "logging.basicConfig(filename='app.log', level=logging.DEBUG)\n",
        "\n",
        "def read_file(file_path):\n",
        "    try:\n",
        "        with open(file_path, 'r') as file:\n",
        "            content = file.read()\n",
        "        return content\n",
        "    except FileNotFoundError as e:\n",
        "        logging.error(f\"FileNotFoundError: The file at {file_path} was not found.\")\n",
        "        print(f\"Error: The file at {file_path} was not found.\")\n",
        "\n",
        "    except PermissionError as e:\n",
        "        logging.error(f\"PermissionError: No permission to access the file at {file_path}.\")\n",
        "        print(f\"Error: No permission to access the file at {file_path}.\")\n",
        "\n",
        "    except Exception as e:\n",
        "        logging.error(f\"An unexpected error occurred: {e}\")\n",
        "        print(\"An unexpected error occurred.\")\n",
        "    return None\n",
        "\n",
        "def convert_to_integer(value):\n",
        "    try:\n",
        "        return int(value)\n",
        "    except ValueError as e:\n",
        "        logging.error(f\"ValueError: Unable to convert '{value}' to an integer.\")\n",
        "        print(f\"Error: '{value}' is not a valid integer.\")\n",
        "\n",
        "    except Exception as e:\n",
        "        logging.error(f\"An unexpected error occurred: {e}\")\n",
        "        print(\"An unexpected error occurred.\")\n",
        "    return None\n",
        "\n",
        "file_content = read_file('nonexistent_file.txt')\n",
        "if file_content:\n",
        "    print(file_content)\n",
        "\n",
        "user_input = 'abc'\n",
        "number = convert_to_integer(user_input)\n",
        "if number is not None:\n",
        "    print(f\"Converted number: {number}\")"
      ],
      "metadata": {
        "id": "HrRFIiDw6LFe",
        "outputId": "ec11cd76-a94d-42a8-ed1c-d0dfbac79798",
        "colab": {
          "base_uri": "https://localhost:8080/"
        }
      },
      "execution_count": 33,
      "outputs": [
        {
          "output_type": "stream",
          "name": "stderr",
          "text": [
            "ERROR:root:FileNotFoundError: The file at nonexistent_file.txt was not found.\n",
            "ERROR:root:ValueError: Unable to convert 'abc' to an integer.\n"
          ]
        },
        {
          "output_type": "stream",
          "name": "stdout",
          "text": [
            "Error: The file at nonexistent_file.txt was not found.\n",
            "Error: 'abc' is not a valid integer.\n"
          ]
        }
      ]
    },
    {
      "cell_type": "code",
      "source": [],
      "metadata": {
        "id": "qe2aX4CF8d8k"
      },
      "execution_count": null,
      "outputs": []
    }
  ]
}