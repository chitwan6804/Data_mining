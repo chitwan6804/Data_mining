{
  "nbformat": 4,
  "nbformat_minor": 0,
  "metadata": {
    "colab": {
      "provenance": [],
      "authorship_tag": "ABX9TyPqzDgiaeGKtQdAknt/Wicy",
      "include_colab_link": true
    },
    "kernelspec": {
      "name": "python3",
      "display_name": "Python 3"
    },
    "language_info": {
      "name": "python"
    }
  },
  "cells": [
    {
      "cell_type": "markdown",
      "metadata": {
        "id": "view-in-github",
        "colab_type": "text"
      },
      "source": [
        "<a href=\"https://colab.research.google.com/github/chitwan6804/Data_mining/blob/main/file_I_O.ipynb\" target=\"_parent\"><img src=\"https://colab.research.google.com/assets/colab-badge.svg\" alt=\"Open In Colab\"/></a>"
      ]
    },
    {
      "cell_type": "markdown",
      "source": [
        "## Reading and writing text files in Python"
      ],
      "metadata": {
        "id": "z8FD2Hwyn_4b"
      }
    },
    {
      "cell_type": "markdown",
      "source": [
        "Writing to files and Reading the files.\n",
        "data can be written in 2 modes:\n",
        "\n",
        "\"w\" mode : Write mode\n",
        "\n",
        "\"a\" mode : Append mode"
      ],
      "metadata": {
        "id": "_Tc_Uc6noIMq"
      }
    },
    {
      "cell_type": "code",
      "execution_count": null,
      "metadata": {
        "id": "Db2SpTDGj9zX"
      },
      "outputs": [],
      "source": [
        "with open('example.txt', 'w') as f:\n",
        "    f.write(\"Hello, this is a text file.\\nThis is the second line.\")"
      ]
    },
    {
      "cell_type": "code",
      "source": [
        "with open('example.txt','r') as f:\n",
        "  content=f.read()\n",
        "  print(content)"
      ],
      "metadata": {
        "colab": {
          "base_uri": "https://localhost:8080/"
        },
        "id": "0x_X0Xq4kD5H",
        "outputId": "999090db-e93b-4945-e4a9-d1bc4b915b57"
      },
      "execution_count": null,
      "outputs": [
        {
          "output_type": "stream",
          "name": "stdout",
          "text": [
            "Hello, this is a text file.\n",
            "This is the second line.\n"
          ]
        }
      ]
    },
    {
      "cell_type": "code",
      "source": [
        "file = open(\"example.txt\", \"w\")\n",
        "file.write(\"Hello, World!\")\n",
        "file.close()\n",
        "print (\"File opened successfully!!\")"
      ],
      "metadata": {
        "colab": {
          "base_uri": "https://localhost:8080/"
        },
        "id": "NYZfEEWekWEw",
        "outputId": "c82fc5bc-f25b-41a6-b973-0733c5dc7222"
      },
      "execution_count": null,
      "outputs": [
        {
          "output_type": "stream",
          "name": "stdout",
          "text": [
            "File opened successfully!!\n"
          ]
        }
      ]
    },
    {
      "cell_type": "code",
      "source": [
        "file=open(\"example.txt\",\"r\")\n",
        "content=file.read()\n",
        "print(content)"
      ],
      "metadata": {
        "colab": {
          "base_uri": "https://localhost:8080/"
        },
        "id": "n5wKxytvlL-K",
        "outputId": "8c4e70ff-bdd4-49d2-9f37-0686754eddfb"
      },
      "execution_count": null,
      "outputs": [
        {
          "output_type": "stream",
          "name": "stdout",
          "text": [
            "Hello, World!\n"
          ]
        }
      ]
    },
    {
      "cell_type": "code",
      "source": [
        "file=open(\"example.txt\",\"a\")\n",
        "file.write(\"\\nHi I am Chitwan. Hope you are fine!\")\n",
        "file.close()\n",
        "print (\"File opened successfully!!\")"
      ],
      "metadata": {
        "colab": {
          "base_uri": "https://localhost:8080/"
        },
        "id": "0tY8BqI6lWrB",
        "outputId": "6e508021-c388-42a6-88fa-da2e1d4914de"
      },
      "execution_count": null,
      "outputs": [
        {
          "output_type": "stream",
          "name": "stdout",
          "text": [
            "File opened successfully!!\n"
          ]
        }
      ]
    },
    {
      "cell_type": "code",
      "source": [
        "file=open(\"example.txt\",\"r\")\n",
        "content=file.read()\n",
        "print(content)"
      ],
      "metadata": {
        "colab": {
          "base_uri": "https://localhost:8080/"
        },
        "id": "DdhI_FwDlh6d",
        "outputId": "ad56bade-5a40-4ea2-d0e7-e611ca5a648c"
      },
      "execution_count": null,
      "outputs": [
        {
          "output_type": "stream",
          "name": "stdout",
          "text": [
            "Hello, World!Hi I am Chitwan. Hope you are fine!\n",
            "Hi I am Chitwan. Hope you are fine!\n"
          ]
        }
      ]
    },
    {
      "cell_type": "markdown",
      "source": [
        "writelines() is used to write multiple lines at once and readlines() is used to read multiple lines."
      ],
      "metadata": {
        "id": "VP3ApSPZogMb"
      }
    },
    {
      "cell_type": "code",
      "source": [
        "lines=[\"First Line\\n\",\"Second Line\\n\",\"Third Line\\n\"]\n",
        "\n",
        "with open(\"example.txt\",\"w\") as file:\n",
        "  file.writelines(lines)\n",
        "  print(\"File opened successfully!!\")"
      ],
      "metadata": {
        "colab": {
          "base_uri": "https://localhost:8080/"
        },
        "id": "pVDqLueylj12",
        "outputId": "56e1ca8d-6b15-40da-be72-c5a5c9afe880"
      },
      "execution_count": null,
      "outputs": [
        {
          "output_type": "stream",
          "name": "stdout",
          "text": [
            "File opened successfully!!\n"
          ]
        }
      ]
    },
    {
      "cell_type": "code",
      "source": [
        "file=open(\"example.txt\",\"r\")\n",
        "content=file.read()\n",
        "print(content)"
      ],
      "metadata": {
        "colab": {
          "base_uri": "https://localhost:8080/"
        },
        "id": "ory_tn3WmAyT",
        "outputId": "a4a88cc5-2688-4bf8-91d7-6da4b90597c1"
      },
      "execution_count": null,
      "outputs": [
        {
          "output_type": "stream",
          "name": "stdout",
          "text": [
            "First Line\n",
            "Second Line\n",
            "Third Line\n",
            "\n"
          ]
        }
      ]
    },
    {
      "cell_type": "code",
      "source": [
        "# Open the file in read mode\n",
        "file = open('example.txt', 'r')\n",
        "\n",
        "# Read the first line of the file\n",
        "line = file.readline()\n",
        "\n",
        "# Print the line\n",
        "print(line)\n",
        "\n",
        "# Close the file\n",
        "file.close()"
      ],
      "metadata": {
        "colab": {
          "base_uri": "https://localhost:8080/"
        },
        "id": "mGnxhmqOmKih",
        "outputId": "a2e0bbdf-7bab-4f88-b44a-75fd3ffc724d"
      },
      "execution_count": null,
      "outputs": [
        {
          "output_type": "stream",
          "name": "stdout",
          "text": [
            "First Line\n",
            "\n"
          ]
        }
      ]
    },
    {
      "cell_type": "code",
      "source": [
        "with open(\"example.txt\",\"r\") as file:\n",
        "  lines=file.readlines()\n",
        "  for line in lines:\n",
        "    print(line,end='')"
      ],
      "metadata": {
        "colab": {
          "base_uri": "https://localhost:8080/"
        },
        "id": "69Nco6j6mhUR",
        "outputId": "4dbb15b3-e855-471d-a0ea-d35cd456e474"
      },
      "execution_count": null,
      "outputs": [
        {
          "output_type": "stream",
          "name": "stdout",
          "text": [
            "First Line\n",
            "Second Line\n",
            "Third Line\n"
          ]
        }
      ]
    },
    {
      "cell_type": "markdown",
      "source": [
        "Renaming and removing file"
      ],
      "metadata": {
        "id": "V9w3AzsqorIw"
      }
    },
    {
      "cell_type": "code",
      "source": [
        "import os\n",
        "current_name=\"example.txt\"\n",
        "new_name=\"myfile.txt\"\n",
        "os.rename(current_name,new_name)\n",
        "print(f\"File '{current_name}' renamed to '{new_name}' successfully.\")"
      ],
      "metadata": {
        "id": "I6TQgMoimvzU"
      },
      "execution_count": null,
      "outputs": []
    },
    {
      "cell_type": "code",
      "source": [
        "os.remove(\"myfile.txt\")\n",
        "print(\"File 'myfile.txt' deleted successfully.\")"
      ],
      "metadata": {
        "colab": {
          "base_uri": "https://localhost:8080/"
        },
        "id": "iFmALLCxnF8c",
        "outputId": "b081b550-ac79-4e7c-b065-962e1c868205"
      },
      "execution_count": null,
      "outputs": [
        {
          "output_type": "stream",
          "name": "stdout",
          "text": [
            "File 'myfile.txt' deleted successfully.\n"
          ]
        }
      ]
    },
    {
      "cell_type": "markdown",
      "source": [
        "## Reading Excel and CSV Files (use pandas)"
      ],
      "metadata": {
        "id": "jy0JHxOfpgNs"
      }
    },
    {
      "cell_type": "code",
      "source": [
        "pip install pandas"
      ],
      "metadata": {
        "id": "ZIqwRVmnn7oL",
        "outputId": "c3061dd6-e7f4-4a8e-b15e-c6a3b5d714fa",
        "colab": {
          "base_uri": "https://localhost:8080/"
        }
      },
      "execution_count": 1,
      "outputs": [
        {
          "output_type": "stream",
          "name": "stdout",
          "text": [
            "Requirement already satisfied: pandas in /usr/local/lib/python3.11/dist-packages (2.2.2)\n",
            "Requirement already satisfied: numpy>=1.23.2 in /usr/local/lib/python3.11/dist-packages (from pandas) (1.26.4)\n",
            "Requirement already satisfied: python-dateutil>=2.8.2 in /usr/local/lib/python3.11/dist-packages (from pandas) (2.8.2)\n",
            "Requirement already satisfied: pytz>=2020.1 in /usr/local/lib/python3.11/dist-packages (from pandas) (2025.1)\n",
            "Requirement already satisfied: tzdata>=2022.7 in /usr/local/lib/python3.11/dist-packages (from pandas) (2025.1)\n",
            "Requirement already satisfied: six>=1.5 in /usr/local/lib/python3.11/dist-packages (from python-dateutil>=2.8.2->pandas) (1.17.0)\n"
          ]
        }
      ]
    },
    {
      "cell_type": "code",
      "source": [
        "from google.colab import files\n",
        "uploaded = files.upload()\n"
      ],
      "metadata": {
        "id": "HNci9JwDsW0F",
        "outputId": "bfce04a0-25d4-416e-d110-3d87eacdd73b",
        "colab": {
          "base_uri": "https://localhost:8080/",
          "height": 73
        }
      },
      "execution_count": 3,
      "outputs": [
        {
          "output_type": "display_data",
          "data": {
            "text/plain": [
              "<IPython.core.display.HTML object>"
            ],
            "text/html": [
              "\n",
              "     <input type=\"file\" id=\"files-37605b94-13a6-4610-94bd-575fbf4e90cf\" name=\"files[]\" multiple disabled\n",
              "        style=\"border:none\" />\n",
              "     <output id=\"result-37605b94-13a6-4610-94bd-575fbf4e90cf\">\n",
              "      Upload widget is only available when the cell has been executed in the\n",
              "      current browser session. Please rerun this cell to enable.\n",
              "      </output>\n",
              "      <script>// Copyright 2017 Google LLC\n",
              "//\n",
              "// Licensed under the Apache License, Version 2.0 (the \"License\");\n",
              "// you may not use this file except in compliance with the License.\n",
              "// You may obtain a copy of the License at\n",
              "//\n",
              "//      http://www.apache.org/licenses/LICENSE-2.0\n",
              "//\n",
              "// Unless required by applicable law or agreed to in writing, software\n",
              "// distributed under the License is distributed on an \"AS IS\" BASIS,\n",
              "// WITHOUT WARRANTIES OR CONDITIONS OF ANY KIND, either express or implied.\n",
              "// See the License for the specific language governing permissions and\n",
              "// limitations under the License.\n",
              "\n",
              "/**\n",
              " * @fileoverview Helpers for google.colab Python module.\n",
              " */\n",
              "(function(scope) {\n",
              "function span(text, styleAttributes = {}) {\n",
              "  const element = document.createElement('span');\n",
              "  element.textContent = text;\n",
              "  for (const key of Object.keys(styleAttributes)) {\n",
              "    element.style[key] = styleAttributes[key];\n",
              "  }\n",
              "  return element;\n",
              "}\n",
              "\n",
              "// Max number of bytes which will be uploaded at a time.\n",
              "const MAX_PAYLOAD_SIZE = 100 * 1024;\n",
              "\n",
              "function _uploadFiles(inputId, outputId) {\n",
              "  const steps = uploadFilesStep(inputId, outputId);\n",
              "  const outputElement = document.getElementById(outputId);\n",
              "  // Cache steps on the outputElement to make it available for the next call\n",
              "  // to uploadFilesContinue from Python.\n",
              "  outputElement.steps = steps;\n",
              "\n",
              "  return _uploadFilesContinue(outputId);\n",
              "}\n",
              "\n",
              "// This is roughly an async generator (not supported in the browser yet),\n",
              "// where there are multiple asynchronous steps and the Python side is going\n",
              "// to poll for completion of each step.\n",
              "// This uses a Promise to block the python side on completion of each step,\n",
              "// then passes the result of the previous step as the input to the next step.\n",
              "function _uploadFilesContinue(outputId) {\n",
              "  const outputElement = document.getElementById(outputId);\n",
              "  const steps = outputElement.steps;\n",
              "\n",
              "  const next = steps.next(outputElement.lastPromiseValue);\n",
              "  return Promise.resolve(next.value.promise).then((value) => {\n",
              "    // Cache the last promise value to make it available to the next\n",
              "    // step of the generator.\n",
              "    outputElement.lastPromiseValue = value;\n",
              "    return next.value.response;\n",
              "  });\n",
              "}\n",
              "\n",
              "/**\n",
              " * Generator function which is called between each async step of the upload\n",
              " * process.\n",
              " * @param {string} inputId Element ID of the input file picker element.\n",
              " * @param {string} outputId Element ID of the output display.\n",
              " * @return {!Iterable<!Object>} Iterable of next steps.\n",
              " */\n",
              "function* uploadFilesStep(inputId, outputId) {\n",
              "  const inputElement = document.getElementById(inputId);\n",
              "  inputElement.disabled = false;\n",
              "\n",
              "  const outputElement = document.getElementById(outputId);\n",
              "  outputElement.innerHTML = '';\n",
              "\n",
              "  const pickedPromise = new Promise((resolve) => {\n",
              "    inputElement.addEventListener('change', (e) => {\n",
              "      resolve(e.target.files);\n",
              "    });\n",
              "  });\n",
              "\n",
              "  const cancel = document.createElement('button');\n",
              "  inputElement.parentElement.appendChild(cancel);\n",
              "  cancel.textContent = 'Cancel upload';\n",
              "  const cancelPromise = new Promise((resolve) => {\n",
              "    cancel.onclick = () => {\n",
              "      resolve(null);\n",
              "    };\n",
              "  });\n",
              "\n",
              "  // Wait for the user to pick the files.\n",
              "  const files = yield {\n",
              "    promise: Promise.race([pickedPromise, cancelPromise]),\n",
              "    response: {\n",
              "      action: 'starting',\n",
              "    }\n",
              "  };\n",
              "\n",
              "  cancel.remove();\n",
              "\n",
              "  // Disable the input element since further picks are not allowed.\n",
              "  inputElement.disabled = true;\n",
              "\n",
              "  if (!files) {\n",
              "    return {\n",
              "      response: {\n",
              "        action: 'complete',\n",
              "      }\n",
              "    };\n",
              "  }\n",
              "\n",
              "  for (const file of files) {\n",
              "    const li = document.createElement('li');\n",
              "    li.append(span(file.name, {fontWeight: 'bold'}));\n",
              "    li.append(span(\n",
              "        `(${file.type || 'n/a'}) - ${file.size} bytes, ` +\n",
              "        `last modified: ${\n",
              "            file.lastModifiedDate ? file.lastModifiedDate.toLocaleDateString() :\n",
              "                                    'n/a'} - `));\n",
              "    const percent = span('0% done');\n",
              "    li.appendChild(percent);\n",
              "\n",
              "    outputElement.appendChild(li);\n",
              "\n",
              "    const fileDataPromise = new Promise((resolve) => {\n",
              "      const reader = new FileReader();\n",
              "      reader.onload = (e) => {\n",
              "        resolve(e.target.result);\n",
              "      };\n",
              "      reader.readAsArrayBuffer(file);\n",
              "    });\n",
              "    // Wait for the data to be ready.\n",
              "    let fileData = yield {\n",
              "      promise: fileDataPromise,\n",
              "      response: {\n",
              "        action: 'continue',\n",
              "      }\n",
              "    };\n",
              "\n",
              "    // Use a chunked sending to avoid message size limits. See b/62115660.\n",
              "    let position = 0;\n",
              "    do {\n",
              "      const length = Math.min(fileData.byteLength - position, MAX_PAYLOAD_SIZE);\n",
              "      const chunk = new Uint8Array(fileData, position, length);\n",
              "      position += length;\n",
              "\n",
              "      const base64 = btoa(String.fromCharCode.apply(null, chunk));\n",
              "      yield {\n",
              "        response: {\n",
              "          action: 'append',\n",
              "          file: file.name,\n",
              "          data: base64,\n",
              "        },\n",
              "      };\n",
              "\n",
              "      let percentDone = fileData.byteLength === 0 ?\n",
              "          100 :\n",
              "          Math.round((position / fileData.byteLength) * 100);\n",
              "      percent.textContent = `${percentDone}% done`;\n",
              "\n",
              "    } while (position < fileData.byteLength);\n",
              "  }\n",
              "\n",
              "  // All done.\n",
              "  yield {\n",
              "    response: {\n",
              "      action: 'complete',\n",
              "    }\n",
              "  };\n",
              "}\n",
              "\n",
              "scope.google = scope.google || {};\n",
              "scope.google.colab = scope.google.colab || {};\n",
              "scope.google.colab._files = {\n",
              "  _uploadFiles,\n",
              "  _uploadFilesContinue,\n",
              "};\n",
              "})(self);\n",
              "</script> "
            ]
          },
          "metadata": {}
        },
        {
          "output_type": "stream",
          "name": "stdout",
          "text": [
            "Saving Orders.csv to Orders.csv\n"
          ]
        }
      ]
    },
    {
      "cell_type": "code",
      "source": [
        "import pandas as pd\n",
        "data = pd.read_csv(\"/content/Orders.csv\")"
      ],
      "metadata": {
        "id": "8opkhNsksdnc"
      },
      "execution_count": 4,
      "outputs": []
    },
    {
      "cell_type": "code",
      "source": [
        "print(data.head())"
      ],
      "metadata": {
        "id": "AGq9iCd2tdbV",
        "outputId": "3d5dc639-6bea-4b47-95cd-67958dba1992",
        "colab": {
          "base_uri": "https://localhost:8080/"
        }
      },
      "execution_count": 5,
      "outputs": [
        {
          "output_type": "stream",
          "name": "stdout",
          "text": [
            "  Order ID  Order Date CustomerName           State     City\n",
            "0  B-26055  10-03-2018    Harivansh   Uttar Pradesh  Mathura\n",
            "1  B-25993  03-02-2018       Madhav           Delhi    Delhi\n",
            "2  B-25973  24-01-2018  Madan Mohan   Uttar Pradesh  Mathura\n",
            "3  B-25923  27-12-2018        Gopal     Maharashtra   Mumbai\n",
            "4  B-25757  21-08-2018     Vishakha  Madhya Pradesh   Indore\n"
          ]
        }
      ]
    },
    {
      "cell_type": "code",
      "source": [
        "data = pd.read_csv('/content/Orders.csv', header=1)  # Use the second row as header\n",
        "print(data.head())"
      ],
      "metadata": {
        "id": "6L8HLfWqtgLG",
        "outputId": "385989f1-bbe4-41c1-a6b8-d6665b48cf44",
        "colab": {
          "base_uri": "https://localhost:8080/"
        }
      },
      "execution_count": 10,
      "outputs": [
        {
          "output_type": "stream",
          "name": "stdout",
          "text": [
            "   B-26055  10-03-2018    Harivansh   Uttar Pradesh    Mathura\n",
            "0  B-25993  03-02-2018       Madhav           Delhi      Delhi\n",
            "1  B-25973  24-01-2018  Madan Mohan   Uttar Pradesh    Mathura\n",
            "2  B-25923  27-12-2018        Gopal     Maharashtra     Mumbai\n",
            "3  B-25757  21-08-2018     Vishakha  Madhya Pradesh     Indore\n",
            "4  B-25967  21-01-2018       Sudevi   Uttar Pradesh  Prayagraj\n"
          ]
        }
      ]
    },
    {
      "cell_type": "code",
      "source": [
        "data = pd.read_csv('/content/Orders.csv', index_col=3)  # First column as index\n",
        "print(data.head())"
      ],
      "metadata": {
        "id": "TIsF1McJuDI-",
        "outputId": "3a666e60-ae30-4f2b-ba01-e180de05a3e2",
        "colab": {
          "base_uri": "https://localhost:8080/"
        }
      },
      "execution_count": 12,
      "outputs": [
        {
          "output_type": "stream",
          "name": "stdout",
          "text": [
            "               Order ID  Order Date CustomerName     City\n",
            "State                                                    \n",
            "Uttar Pradesh   B-26055  10-03-2018    Harivansh  Mathura\n",
            "Delhi           B-25993  03-02-2018       Madhav    Delhi\n",
            "Uttar Pradesh   B-25973  24-01-2018  Madan Mohan  Mathura\n",
            "Maharashtra     B-25923  27-12-2018        Gopal   Mumbai\n",
            "Madhya Pradesh  B-25757  21-08-2018     Vishakha   Indore\n"
          ]
        }
      ]
    },
    {
      "cell_type": "code",
      "source": [
        "# Reading two CSV files\n",
        "data1 = pd.read_csv('/content/sample_data/california_housing_train.csv')\n",
        "data2 = pd.read_csv('/content/sample_data/california_housing_test.csv')\n",
        "\n",
        "# Merging data from both files by columns (axis=1)\n",
        "merged_data = pd.concat([data1, data2], axis=1)\n",
        "print(merged_data)\n"
      ],
      "metadata": {
        "id": "Ey0nqHhWufFs",
        "outputId": "8fd5be0d-bcc4-4d0a-97bd-fdfff358d6e1",
        "colab": {
          "base_uri": "https://localhost:8080/"
        }
      },
      "execution_count": 20,
      "outputs": [
        {
          "output_type": "stream",
          "name": "stdout",
          "text": [
            "       longitude  latitude  housing_median_age  total_rooms  total_bedrooms  \\\n",
            "0        -114.31     34.19                15.0       5612.0          1283.0   \n",
            "1        -114.47     34.40                19.0       7650.0          1901.0   \n",
            "2        -114.56     33.69                17.0        720.0           174.0   \n",
            "3        -114.57     33.64                14.0       1501.0           337.0   \n",
            "4        -114.57     33.57                20.0       1454.0           326.0   \n",
            "...          ...       ...                 ...          ...             ...   \n",
            "16995    -124.26     40.58                52.0       2217.0           394.0   \n",
            "16996    -124.27     40.69                36.0       2349.0           528.0   \n",
            "16997    -124.30     41.84                17.0       2677.0           531.0   \n",
            "16998    -124.30     41.80                19.0       2672.0           552.0   \n",
            "16999    -124.35     40.54                52.0       1820.0           300.0   \n",
            "\n",
            "       population  households  median_income  median_house_value  longitude  \\\n",
            "0          1015.0       472.0         1.4936             66900.0    -122.05   \n",
            "1          1129.0       463.0         1.8200             80100.0    -118.30   \n",
            "2           333.0       117.0         1.6509             85700.0    -117.81   \n",
            "3           515.0       226.0         3.1917             73400.0    -118.36   \n",
            "4           624.0       262.0         1.9250             65500.0    -119.67   \n",
            "...           ...         ...            ...                 ...        ...   \n",
            "16995       907.0       369.0         2.3571            111400.0        NaN   \n",
            "16996      1194.0       465.0         2.5179             79000.0        NaN   \n",
            "16997      1244.0       456.0         3.0313            103600.0        NaN   \n",
            "16998      1298.0       478.0         1.9797             85800.0        NaN   \n",
            "16999       806.0       270.0         3.0147             94600.0        NaN   \n",
            "\n",
            "       latitude  housing_median_age  total_rooms  total_bedrooms  population  \\\n",
            "0         37.37                27.0       3885.0           661.0      1537.0   \n",
            "1         34.26                43.0       1510.0           310.0       809.0   \n",
            "2         33.78                27.0       3589.0           507.0      1484.0   \n",
            "3         33.82                28.0         67.0            15.0        49.0   \n",
            "4         36.33                19.0       1241.0           244.0       850.0   \n",
            "...         ...                 ...          ...             ...         ...   \n",
            "16995       NaN                 NaN          NaN             NaN         NaN   \n",
            "16996       NaN                 NaN          NaN             NaN         NaN   \n",
            "16997       NaN                 NaN          NaN             NaN         NaN   \n",
            "16998       NaN                 NaN          NaN             NaN         NaN   \n",
            "16999       NaN                 NaN          NaN             NaN         NaN   \n",
            "\n",
            "       households  median_income  median_house_value  \n",
            "0           606.0         6.6085            344700.0  \n",
            "1           277.0         3.5990            176500.0  \n",
            "2           495.0         5.7934            270500.0  \n",
            "3            11.0         6.1359            330000.0  \n",
            "4           237.0         2.9375             81700.0  \n",
            "...           ...            ...                 ...  \n",
            "16995         NaN            NaN                 NaN  \n",
            "16996         NaN            NaN                 NaN  \n",
            "16997         NaN            NaN                 NaN  \n",
            "16998         NaN            NaN                 NaN  \n",
            "16999         NaN            NaN                 NaN  \n",
            "\n",
            "[17000 rows x 18 columns]\n"
          ]
        }
      ]
    },
    {
      "cell_type": "code",
      "source": [
        "missing_data = data.isnull().sum()\n",
        "print(missing_data)"
      ],
      "metadata": {
        "id": "BwxmLhPXvldd",
        "outputId": "d161ffeb-8fd8-4869-cad1-e587c78b5bc4",
        "colab": {
          "base_uri": "https://localhost:8080/"
        }
      },
      "execution_count": 23,
      "outputs": [
        {
          "output_type": "stream",
          "name": "stdout",
          "text": [
            "Order ID        0\n",
            "Order Date      0\n",
            "CustomerName    0\n",
            "State           0\n",
            "City            0\n",
            "dtype: int64\n"
          ]
        }
      ]
    },
    {
      "cell_type": "markdown",
      "source": [
        "## **Working with excel sheets**"
      ],
      "metadata": {
        "id": "fVi8bcZBDabi"
      }
    },
    {
      "cell_type": "code",
      "source": [
        "upload=files.upload()"
      ],
      "metadata": {
        "id": "qeVxcylgwKcp",
        "outputId": "0c599b25-e3be-46bb-b847-3f5c1733f77f",
        "colab": {
          "base_uri": "https://localhost:8080/",
          "height": 73
        }
      },
      "execution_count": 24,
      "outputs": [
        {
          "output_type": "display_data",
          "data": {
            "text/plain": [
              "<IPython.core.display.HTML object>"
            ],
            "text/html": [
              "\n",
              "     <input type=\"file\" id=\"files-6f709d69-f953-42c1-8579-f90968af6b4e\" name=\"files[]\" multiple disabled\n",
              "        style=\"border:none\" />\n",
              "     <output id=\"result-6f709d69-f953-42c1-8579-f90968af6b4e\">\n",
              "      Upload widget is only available when the cell has been executed in the\n",
              "      current browser session. Please rerun this cell to enable.\n",
              "      </output>\n",
              "      <script>// Copyright 2017 Google LLC\n",
              "//\n",
              "// Licensed under the Apache License, Version 2.0 (the \"License\");\n",
              "// you may not use this file except in compliance with the License.\n",
              "// You may obtain a copy of the License at\n",
              "//\n",
              "//      http://www.apache.org/licenses/LICENSE-2.0\n",
              "//\n",
              "// Unless required by applicable law or agreed to in writing, software\n",
              "// distributed under the License is distributed on an \"AS IS\" BASIS,\n",
              "// WITHOUT WARRANTIES OR CONDITIONS OF ANY KIND, either express or implied.\n",
              "// See the License for the specific language governing permissions and\n",
              "// limitations under the License.\n",
              "\n",
              "/**\n",
              " * @fileoverview Helpers for google.colab Python module.\n",
              " */\n",
              "(function(scope) {\n",
              "function span(text, styleAttributes = {}) {\n",
              "  const element = document.createElement('span');\n",
              "  element.textContent = text;\n",
              "  for (const key of Object.keys(styleAttributes)) {\n",
              "    element.style[key] = styleAttributes[key];\n",
              "  }\n",
              "  return element;\n",
              "}\n",
              "\n",
              "// Max number of bytes which will be uploaded at a time.\n",
              "const MAX_PAYLOAD_SIZE = 100 * 1024;\n",
              "\n",
              "function _uploadFiles(inputId, outputId) {\n",
              "  const steps = uploadFilesStep(inputId, outputId);\n",
              "  const outputElement = document.getElementById(outputId);\n",
              "  // Cache steps on the outputElement to make it available for the next call\n",
              "  // to uploadFilesContinue from Python.\n",
              "  outputElement.steps = steps;\n",
              "\n",
              "  return _uploadFilesContinue(outputId);\n",
              "}\n",
              "\n",
              "// This is roughly an async generator (not supported in the browser yet),\n",
              "// where there are multiple asynchronous steps and the Python side is going\n",
              "// to poll for completion of each step.\n",
              "// This uses a Promise to block the python side on completion of each step,\n",
              "// then passes the result of the previous step as the input to the next step.\n",
              "function _uploadFilesContinue(outputId) {\n",
              "  const outputElement = document.getElementById(outputId);\n",
              "  const steps = outputElement.steps;\n",
              "\n",
              "  const next = steps.next(outputElement.lastPromiseValue);\n",
              "  return Promise.resolve(next.value.promise).then((value) => {\n",
              "    // Cache the last promise value to make it available to the next\n",
              "    // step of the generator.\n",
              "    outputElement.lastPromiseValue = value;\n",
              "    return next.value.response;\n",
              "  });\n",
              "}\n",
              "\n",
              "/**\n",
              " * Generator function which is called between each async step of the upload\n",
              " * process.\n",
              " * @param {string} inputId Element ID of the input file picker element.\n",
              " * @param {string} outputId Element ID of the output display.\n",
              " * @return {!Iterable<!Object>} Iterable of next steps.\n",
              " */\n",
              "function* uploadFilesStep(inputId, outputId) {\n",
              "  const inputElement = document.getElementById(inputId);\n",
              "  inputElement.disabled = false;\n",
              "\n",
              "  const outputElement = document.getElementById(outputId);\n",
              "  outputElement.innerHTML = '';\n",
              "\n",
              "  const pickedPromise = new Promise((resolve) => {\n",
              "    inputElement.addEventListener('change', (e) => {\n",
              "      resolve(e.target.files);\n",
              "    });\n",
              "  });\n",
              "\n",
              "  const cancel = document.createElement('button');\n",
              "  inputElement.parentElement.appendChild(cancel);\n",
              "  cancel.textContent = 'Cancel upload';\n",
              "  const cancelPromise = new Promise((resolve) => {\n",
              "    cancel.onclick = () => {\n",
              "      resolve(null);\n",
              "    };\n",
              "  });\n",
              "\n",
              "  // Wait for the user to pick the files.\n",
              "  const files = yield {\n",
              "    promise: Promise.race([pickedPromise, cancelPromise]),\n",
              "    response: {\n",
              "      action: 'starting',\n",
              "    }\n",
              "  };\n",
              "\n",
              "  cancel.remove();\n",
              "\n",
              "  // Disable the input element since further picks are not allowed.\n",
              "  inputElement.disabled = true;\n",
              "\n",
              "  if (!files) {\n",
              "    return {\n",
              "      response: {\n",
              "        action: 'complete',\n",
              "      }\n",
              "    };\n",
              "  }\n",
              "\n",
              "  for (const file of files) {\n",
              "    const li = document.createElement('li');\n",
              "    li.append(span(file.name, {fontWeight: 'bold'}));\n",
              "    li.append(span(\n",
              "        `(${file.type || 'n/a'}) - ${file.size} bytes, ` +\n",
              "        `last modified: ${\n",
              "            file.lastModifiedDate ? file.lastModifiedDate.toLocaleDateString() :\n",
              "                                    'n/a'} - `));\n",
              "    const percent = span('0% done');\n",
              "    li.appendChild(percent);\n",
              "\n",
              "    outputElement.appendChild(li);\n",
              "\n",
              "    const fileDataPromise = new Promise((resolve) => {\n",
              "      const reader = new FileReader();\n",
              "      reader.onload = (e) => {\n",
              "        resolve(e.target.result);\n",
              "      };\n",
              "      reader.readAsArrayBuffer(file);\n",
              "    });\n",
              "    // Wait for the data to be ready.\n",
              "    let fileData = yield {\n",
              "      promise: fileDataPromise,\n",
              "      response: {\n",
              "        action: 'continue',\n",
              "      }\n",
              "    };\n",
              "\n",
              "    // Use a chunked sending to avoid message size limits. See b/62115660.\n",
              "    let position = 0;\n",
              "    do {\n",
              "      const length = Math.min(fileData.byteLength - position, MAX_PAYLOAD_SIZE);\n",
              "      const chunk = new Uint8Array(fileData, position, length);\n",
              "      position += length;\n",
              "\n",
              "      const base64 = btoa(String.fromCharCode.apply(null, chunk));\n",
              "      yield {\n",
              "        response: {\n",
              "          action: 'append',\n",
              "          file: file.name,\n",
              "          data: base64,\n",
              "        },\n",
              "      };\n",
              "\n",
              "      let percentDone = fileData.byteLength === 0 ?\n",
              "          100 :\n",
              "          Math.round((position / fileData.byteLength) * 100);\n",
              "      percent.textContent = `${percentDone}% done`;\n",
              "\n",
              "    } while (position < fileData.byteLength);\n",
              "  }\n",
              "\n",
              "  // All done.\n",
              "  yield {\n",
              "    response: {\n",
              "      action: 'complete',\n",
              "    }\n",
              "  };\n",
              "}\n",
              "\n",
              "scope.google = scope.google || {};\n",
              "scope.google.colab = scope.google.colab || {};\n",
              "scope.google.colab._files = {\n",
              "  _uploadFiles,\n",
              "  _uploadFilesContinue,\n",
              "};\n",
              "})(self);\n",
              "</script> "
            ]
          },
          "metadata": {}
        },
        {
          "output_type": "stream",
          "name": "stdout",
          "text": [
            "Saving CLASS 3 B INFO MANDATORY.xlsx to CLASS 3 B INFO MANDATORY.xlsx\n"
          ]
        }
      ]
    },
    {
      "cell_type": "code",
      "source": [
        "excel_data=pd.read_excel(\"/content/Details.xlsx\")"
      ],
      "metadata": {
        "id": "ml_3Mg8gC7Ij",
        "outputId": "5f6aae6e-1e17-41ee-f59c-c8c694f6dda6",
        "colab": {
          "base_uri": "https://localhost:8080/"
        }
      },
      "execution_count": 27,
      "outputs": [
        {
          "output_type": "stream",
          "name": "stderr",
          "text": [
            "/usr/local/lib/python3.11/dist-packages/openpyxl/worksheet/_reader.py:329: UserWarning: Data Validation extension is not supported and will be removed\n",
            "  warn(msg)\n"
          ]
        }
      ]
    },
    {
      "cell_type": "code",
      "source": [
        "print(excel_data.head())"
      ],
      "metadata": {
        "id": "2Q4KU38uDi1d",
        "outputId": "6fdff43b-d9ce-4a31-f274-a3c6d1d180a8",
        "colab": {
          "base_uri": "https://localhost:8080/"
        }
      },
      "execution_count": 28,
      "outputs": [
        {
          "output_type": "stream",
          "name": "stdout",
          "text": [
            "   UDISE CODE\\n(Mandatory) Name of the Student\\n(Mandatory)  \\\n",
            "0                      NaN                 MOHAMMAD HAARISH   \n",
            "1                      NaN                     ANAND  KUMAR   \n",
            "2                      NaN                      NITIN KUMAR   \n",
            "3                      NaN                            IKRAM   \n",
            "4                      NaN                            AMAN    \n",
            "\n",
            "  \\nAdmission Number\\n(Mandatory)\\n  \\\n",
            "0                             12173   \n",
            "1                             12150   \n",
            "2                             12146   \n",
            "3                             12200   \n",
            "4                             12220   \n",
            "\n",
            "  \\nDate Of Admission(DD-MM-YYYY)\\n(Mandatory)\\n \\nAcademicYear(Mandatory)\\n  \\\n",
            "0                                     2020-09-02                     2022-23   \n",
            "1                                     2020-08-31                     2022-23   \n",
            "2                                     2020-08-31                     2022-23   \n",
            "3                                     2020-09-07                     2022-23   \n",
            "4                                     2020-09-10                     2022-23   \n",
            "\n",
            "  Studying in Class\\n(Mandatory) Studying in Section(Mandatory)  \\\n",
            "0                            III                              B   \n",
            "1                            III                              B   \n",
            "2                            III                              B   \n",
            "3                            III                              B   \n",
            "4                            III                              B   \n",
            "\n",
            "   Stream(only for XI,XII Standard)  Student Achievements  \\\n",
            "0                               NaN                   NaN   \n",
            "1                               NaN                   NaN   \n",
            "2                               NaN                   NaN   \n",
            "3                               NaN                   NaN   \n",
            "4                               NaN                   NaN   \n",
            "\n",
            "  Date of Birth\\n(DD-MM-YYYY) (Mandatory)  ... \\nHouseNo.\\n     \\n\\tArea\\n  \\\n",
            "0                              2013-10-05  ...        333.0  SHASTRI NAGAR   \n",
            "1                              2014-10-20  ...        258.0  SHASTRI NAGAR   \n",
            "2                              2014-10-15  ...        558.0  SHASTRI NAGAR   \n",
            "3                              2013-01-01  ...        148.0  SHASTRI NAGAR   \n",
            "4                              2013-07-16  ...        504.0  SHASTRI NAGAR   \n",
            "\n",
            "    \\nState\\n  \\n\\tCity\\n \\n\\tPincode\\n        \\n\\tBank Name \\n  \\\n",
            "0  Chandigarh  CHANDIGARH        160101        CANARA BANK M.M.   \n",
            "1  Chandigarh  CHANDIGARH        160101                UCO BANK   \n",
            "2  Chandigarh  CHANDIGARH        160101          BANK OF BARODA   \n",
            "3  Chandigarh  CHANDIGARH        160101                UCO BANK   \n",
            "4  Chandigarh  CHANDIGARH        160101  ANDHRA BANK KISHANGARH   \n",
            "\n",
            "  \\n\\t\\tBranch Name\\n \\nAccount Number\\n \\n\\t\\tIFSC Code\\n  \\\n",
            "0           MANIMAJRA       2.406101e+12       CNRB0002406   \n",
            "1           MANIMAJRA       3.306321e+13       UCBA0003306   \n",
            "2           MANIMAJRA       7.685010e+13       BARB0VJMMAJ   \n",
            "3           MANIMAJRA       3.306321e+13       UCBA0003306   \n",
            "4          KISHANGARH       2.824101e+14       UBIN0828246   \n",
            "\n",
            "  \\n\\tAccount Holder Name\\n  \n",
            "0          MOHAMMAD HAARISH  \n",
            "1              ANAND  KUMAR  \n",
            "2               NITIN KUMAR  \n",
            "3                     IKRAM  \n",
            "4                     AMAN   \n",
            "\n",
            "[5 rows x 52 columns]\n"
          ]
        }
      ]
    },
    {
      "cell_type": "code",
      "source": [
        "data = pd.read_excel('Details.xlsx', sheet_name='StudentsData')  # Read a specific sheet by name\n"
      ],
      "metadata": {
        "id": "GNOcfTIRDx1n",
        "outputId": "97cf7cff-358c-471c-8222-1bad73dd82f6",
        "colab": {
          "base_uri": "https://localhost:8080/"
        }
      },
      "execution_count": 30,
      "outputs": [
        {
          "output_type": "stream",
          "name": "stderr",
          "text": [
            "/usr/local/lib/python3.11/dist-packages/openpyxl/worksheet/_reader.py:329: UserWarning: Data Validation extension is not supported and will be removed\n",
            "  warn(msg)\n"
          ]
        }
      ]
    },
    {
      "cell_type": "code",
      "source": [
        "# Clean the column names by removing newline characters and extra spaces\n",
        "data.columns = data.columns.str.replace('\\n', ' ').str.strip()\n",
        "\n",
        "# Display the first few rows to check\n",
        "print(data.head())"
      ],
      "metadata": {
        "id": "J4byGssdErWv",
        "outputId": "484b3f3e-e890-40ad-b63e-3accdcc67172",
        "colab": {
          "base_uri": "https://localhost:8080/"
        }
      },
      "execution_count": 36,
      "outputs": [
        {
          "output_type": "stream",
          "name": "stdout",
          "text": [
            "   UDISE CODE (Mandatory) Name of the Student (Mandatory)  \\\n",
            "0                     NaN                MOHAMMAD HAARISH   \n",
            "1                     NaN                    ANAND  KUMAR   \n",
            "2                     NaN                     NITIN KUMAR   \n",
            "3                     NaN                           IKRAM   \n",
            "4                     NaN                           AMAN    \n",
            "\n",
            "  Admission Number (Mandatory) Date Of Admission(DD-MM-YYYY) (Mandatory)  \\\n",
            "0                        12173                                2020-09-02   \n",
            "1                        12150                                2020-08-31   \n",
            "2                        12146                                2020-08-31   \n",
            "3                        12200                                2020-09-07   \n",
            "4                        12220                                2020-09-10   \n",
            "\n",
            "  AcademicYear(Mandatory) Studying in Class (Mandatory)  \\\n",
            "0                 2022-23                           III   \n",
            "1                 2022-23                           III   \n",
            "2                 2022-23                           III   \n",
            "3                 2022-23                           III   \n",
            "4                 2022-23                           III   \n",
            "\n",
            "  Studying in Section(Mandatory)  Stream(only for XI,XII Standard)  \\\n",
            "0                              B                               NaN   \n",
            "1                              B                               NaN   \n",
            "2                              B                               NaN   \n",
            "3                              B                               NaN   \n",
            "4                              B                               NaN   \n",
            "\n",
            "   Student Achievements Date of Birth (DD-MM-YYYY) (Mandatory)  ... HouseNo.  \\\n",
            "0                   NaN                             2013-10-05  ...    333.0   \n",
            "1                   NaN                             2014-10-20  ...    258.0   \n",
            "2                   NaN                             2014-10-15  ...    558.0   \n",
            "3                   NaN                             2013-01-01  ...    148.0   \n",
            "4                   NaN                             2013-07-16  ...    504.0   \n",
            "\n",
            "            Area       State        City Pincode               Bank Name  \\\n",
            "0  SHASTRI NAGAR  Chandigarh  CHANDIGARH  160101        CANARA BANK M.M.   \n",
            "1  SHASTRI NAGAR  Chandigarh  CHANDIGARH  160101                UCO BANK   \n",
            "2  SHASTRI NAGAR  Chandigarh  CHANDIGARH  160101          BANK OF BARODA   \n",
            "3  SHASTRI NAGAR  Chandigarh  CHANDIGARH  160101                UCO BANK   \n",
            "4  SHASTRI NAGAR  Chandigarh  CHANDIGARH  160101  ANDHRA BANK KISHANGARH   \n",
            "\n",
            "  Branch Name Account Number    IFSC Code Account Holder Name  \n",
            "0   MANIMAJRA   2.406101e+12  CNRB0002406    MOHAMMAD HAARISH  \n",
            "1   MANIMAJRA   3.306321e+13  UCBA0003306        ANAND  KUMAR  \n",
            "2   MANIMAJRA   7.685010e+13  BARB0VJMMAJ         NITIN KUMAR  \n",
            "3   MANIMAJRA   3.306321e+13  UCBA0003306               IKRAM  \n",
            "4  KISHANGARH   2.824101e+14  UBIN0828246               AMAN   \n",
            "\n",
            "[5 rows x 52 columns]\n"
          ]
        }
      ]
    },
    {
      "cell_type": "code",
      "source": [
        "import pandas as pd\n",
        "\n",
        "# Read the Excel file (just the first few rows to inspect the structure)\n",
        "data = pd.read_excel('Details.xlsx', engine='openpyxl')\n",
        "\n",
        "data.columns = data.columns.str.replace('\\n', ' ').str.strip()\n",
        "\n",
        "# Display the columns in the sheet\n",
        "print(data.columns)\n"
      ],
      "metadata": {
        "id": "Sx6FslMhEzv5",
        "outputId": "d7edc32f-3497-4247-a1e2-9d5628554879",
        "colab": {
          "base_uri": "https://localhost:8080/"
        }
      },
      "execution_count": 48,
      "outputs": [
        {
          "output_type": "stream",
          "name": "stdout",
          "text": [
            "Index(['UDISE CODE (Mandatory)', 'Name of the Student (Mandatory)',\n",
            "       'Admission Number (Mandatory)',\n",
            "       'Date Of Admission(DD-MM-YYYY) (Mandatory)', 'AcademicYear(Mandatory)',\n",
            "       'Studying in Class (Mandatory)', 'Studying in Section(Mandatory)',\n",
            "       'Stream(only for XI,XII Standard)', 'Student Achievements',\n",
            "       'Date of Birth (DD-MM-YYYY) (Mandatory)', 'Gender (Mandatory)',\n",
            "       'Aadharcard Number (Mandatory)', 'EID Number (If Aadhar not exists)',\n",
            "       'Whether Biometric at 5 or 15 years(Y/N) (Mandatory)',\n",
            "       'Mother tongue (Mandatory)', 'Religion (Mandatory)',\n",
            "       'Social Category (Mandatory)', 'Disability(Y/N)(Mandatory)',\n",
            "       'Disability Description', 'Disability ID Number', 'Native State',\n",
            "       'Covid Vaccination Status', 'Shifts', 'Whether Enrolled In STC (Y/N)',\n",
            "       'Whether Opted for NCC/NSS', 'Medium of Instruction',\n",
            "       'Height (In Cm's)', 'Weight (In Kg's)', 'Blood Group',\n",
            "       'Identification Mark (If Any)', 'Father Name', 'Mother Name',\n",
            "       'Father's Occupation', 'Mother's Occupation',\n",
            "       'Father Mobile Number(Mandatory)', 'Mother Mobile Number',\n",
            "       'Parent/Guardian Email Id(If Any)', 'Whether BPL (Y/N)',\n",
            "       'Average Annual Income (In Lacs)', 'Guardian Name',\n",
            "       'Guardian Occupation', 'Guardian Mobile Number', 'HouseNo.', 'Area',\n",
            "       'State', 'City', 'Pincode', 'Bank Name', 'Branch Name',\n",
            "       'Account Number', 'IFSC Code', 'Account Holder Name'],\n",
            "      dtype='object')\n"
          ]
        },
        {
          "output_type": "stream",
          "name": "stderr",
          "text": [
            "/usr/local/lib/python3.11/dist-packages/openpyxl/worksheet/_reader.py:329: UserWarning: Data Validation extension is not supported and will be removed\n",
            "  warn(msg)\n"
          ]
        }
      ]
    },
    {
      "cell_type": "code",
      "source": [
        "data = pd.read_excel('Details.xlsx', engine='openpyxl', usecols=['Name of the Student\\n(Mandatory)'])\n",
        "print(data.head())"
      ],
      "metadata": {
        "id": "dipgzortFI31",
        "outputId": "d8591dba-cb9b-47f6-d980-f92f6c07b284",
        "colab": {
          "base_uri": "https://localhost:8080/"
        }
      },
      "execution_count": 43,
      "outputs": [
        {
          "output_type": "stream",
          "name": "stdout",
          "text": [
            "  Name of the Student\\n(Mandatory)\n",
            "0                 MOHAMMAD HAARISH\n",
            "1                     ANAND  KUMAR\n",
            "2                      NITIN KUMAR\n",
            "3                            IKRAM\n",
            "4                            AMAN \n"
          ]
        }
      ]
    },
    {
      "cell_type": "code",
      "source": [
        "data = pd.read_excel('Details.xlsx', engine='openpyxl', skiprows=[1,2])  # Skip the first 2nd and 3rd row rows\n"
      ],
      "metadata": {
        "id": "yYv8arK_FM-k",
        "outputId": "940588e2-ecd4-4930-af37-d32dfe9f016c",
        "colab": {
          "base_uri": "https://localhost:8080/"
        }
      },
      "execution_count": 46,
      "outputs": [
        {
          "output_type": "stream",
          "name": "stderr",
          "text": [
            "/usr/local/lib/python3.11/dist-packages/openpyxl/worksheet/_reader.py:329: UserWarning: Data Validation extension is not supported and will be removed\n",
            "  warn(msg)\n"
          ]
        }
      ]
    },
    {
      "cell_type": "code",
      "source": [
        "print(data.head())\n",
        "data.columns = data.columns.str.replace('\\n', ' ').str.strip()"
      ],
      "metadata": {
        "id": "7tbFa3m5Fw-j",
        "outputId": "10f2d2d0-9f28-4e4b-9e73-6c4ba3505cfd",
        "colab": {
          "base_uri": "https://localhost:8080/"
        }
      },
      "execution_count": 49,
      "outputs": [
        {
          "output_type": "stream",
          "name": "stdout",
          "text": [
            "   UDISE CODE (Mandatory) Name of the Student (Mandatory)  \\\n",
            "0                     NaN                MOHAMMAD HAARISH   \n",
            "1                     NaN                    ANAND  KUMAR   \n",
            "2                     NaN                     NITIN KUMAR   \n",
            "3                     NaN                           IKRAM   \n",
            "4                     NaN                           AMAN    \n",
            "\n",
            "  Admission Number (Mandatory) Date Of Admission(DD-MM-YYYY) (Mandatory)  \\\n",
            "0                        12173                                2020-09-02   \n",
            "1                        12150                                2020-08-31   \n",
            "2                        12146                                2020-08-31   \n",
            "3                        12200                                2020-09-07   \n",
            "4                        12220                                2020-09-10   \n",
            "\n",
            "  AcademicYear(Mandatory) Studying in Class (Mandatory)  \\\n",
            "0                 2022-23                           III   \n",
            "1                 2022-23                           III   \n",
            "2                 2022-23                           III   \n",
            "3                 2022-23                           III   \n",
            "4                 2022-23                           III   \n",
            "\n",
            "  Studying in Section(Mandatory)  Stream(only for XI,XII Standard)  \\\n",
            "0                              B                               NaN   \n",
            "1                              B                               NaN   \n",
            "2                              B                               NaN   \n",
            "3                              B                               NaN   \n",
            "4                              B                               NaN   \n",
            "\n",
            "   Student Achievements Date of Birth (DD-MM-YYYY) (Mandatory)  ... HouseNo.  \\\n",
            "0                   NaN                             2013-10-05  ...    333.0   \n",
            "1                   NaN                             2014-10-20  ...    258.0   \n",
            "2                   NaN                             2014-10-15  ...    558.0   \n",
            "3                   NaN                             2013-01-01  ...    148.0   \n",
            "4                   NaN                             2013-07-16  ...    504.0   \n",
            "\n",
            "            Area       State        City Pincode               Bank Name  \\\n",
            "0  SHASTRI NAGAR  Chandigarh  CHANDIGARH  160101        CANARA BANK M.M.   \n",
            "1  SHASTRI NAGAR  Chandigarh  CHANDIGARH  160101                UCO BANK   \n",
            "2  SHASTRI NAGAR  Chandigarh  CHANDIGARH  160101          BANK OF BARODA   \n",
            "3  SHASTRI NAGAR  Chandigarh  CHANDIGARH  160101                UCO BANK   \n",
            "4  SHASTRI NAGAR  Chandigarh  CHANDIGARH  160101  ANDHRA BANK KISHANGARH   \n",
            "\n",
            "  Branch Name Account Number    IFSC Code Account Holder Name  \n",
            "0   MANIMAJRA   2.406101e+12  CNRB0002406    MOHAMMAD HAARISH  \n",
            "1   MANIMAJRA   3.306321e+13  UCBA0003306        ANAND  KUMAR  \n",
            "2   MANIMAJRA   7.685010e+13  BARB0VJMMAJ         NITIN KUMAR  \n",
            "3   MANIMAJRA   3.306321e+13  UCBA0003306               IKRAM  \n",
            "4  KISHANGARH   2.824101e+14  UBIN0828246               AMAN   \n",
            "\n",
            "[5 rows x 52 columns]\n"
          ]
        }
      ]
    },
    {
      "cell_type": "code",
      "source": [],
      "metadata": {
        "id": "hmWYdgUcF0Pe"
      },
      "execution_count": null,
      "outputs": []
    }
  ]
}