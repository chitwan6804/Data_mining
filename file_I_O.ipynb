{
  "nbformat": 4,
  "nbformat_minor": 0,
  "metadata": {
    "colab": {
      "provenance": [],
      "authorship_tag": "ABX9TyOW/6JyEZjxjzZCgo57ORWI",
      "include_colab_link": true
    },
    "kernelspec": {
      "name": "python3",
      "display_name": "Python 3"
    },
    "language_info": {
      "name": "python"
    }
  },
  "cells": [
    {
      "cell_type": "markdown",
      "metadata": {
        "id": "view-in-github",
        "colab_type": "text"
      },
      "source": [
        "<a href=\"https://colab.research.google.com/github/chitwan6804/Data_mining/blob/main/file_I_O.ipynb\" target=\"_parent\"><img src=\"https://colab.research.google.com/assets/colab-badge.svg\" alt=\"Open In Colab\"/></a>"
      ]
    },
    {
      "cell_type": "markdown",
      "source": [
        "## Reading and writing text files in Python"
      ],
      "metadata": {
        "id": "z8FD2Hwyn_4b"
      }
    },
    {
      "cell_type": "markdown",
      "source": [
        "Writing to files and Reading the files.\n",
        "data can be written in 2 modes:\n",
        "\n",
        "\"w\" mode : Write mode\n",
        "\n",
        "\"a\" mode : Append mode"
      ],
      "metadata": {
        "id": "_Tc_Uc6noIMq"
      }
    },
    {
      "cell_type": "code",
      "execution_count": 1,
      "metadata": {
        "id": "Db2SpTDGj9zX"
      },
      "outputs": [],
      "source": [
        "with open('example.txt', 'w') as f:\n",
        "    f.write(\"Hello, this is a text file.\\nThis is the second line.\")"
      ]
    },
    {
      "cell_type": "code",
      "source": [
        "with open('example.txt','r') as f:\n",
        "  content=f.read()\n",
        "  print(content)"
      ],
      "metadata": {
        "colab": {
          "base_uri": "https://localhost:8080/"
        },
        "id": "0x_X0Xq4kD5H",
        "outputId": "999090db-e93b-4945-e4a9-d1bc4b915b57"
      },
      "execution_count": 2,
      "outputs": [
        {
          "output_type": "stream",
          "name": "stdout",
          "text": [
            "Hello, this is a text file.\n",
            "This is the second line.\n"
          ]
        }
      ]
    },
    {
      "cell_type": "code",
      "source": [
        "file = open(\"example.txt\", \"w\")\n",
        "file.write(\"Hello, World!\")\n",
        "file.close()\n",
        "print (\"File opened successfully!!\")"
      ],
      "metadata": {
        "colab": {
          "base_uri": "https://localhost:8080/"
        },
        "id": "NYZfEEWekWEw",
        "outputId": "c82fc5bc-f25b-41a6-b973-0733c5dc7222"
      },
      "execution_count": 3,
      "outputs": [
        {
          "output_type": "stream",
          "name": "stdout",
          "text": [
            "File opened successfully!!\n"
          ]
        }
      ]
    },
    {
      "cell_type": "code",
      "source": [
        "file=open(\"example.txt\",\"r\")\n",
        "content=file.read()\n",
        "print(content)"
      ],
      "metadata": {
        "colab": {
          "base_uri": "https://localhost:8080/"
        },
        "id": "n5wKxytvlL-K",
        "outputId": "8c4e70ff-bdd4-49d2-9f37-0686754eddfb"
      },
      "execution_count": 4,
      "outputs": [
        {
          "output_type": "stream",
          "name": "stdout",
          "text": [
            "Hello, World!\n"
          ]
        }
      ]
    },
    {
      "cell_type": "code",
      "source": [
        "file=open(\"example.txt\",\"a\")\n",
        "file.write(\"\\nHi I am Chitwan. Hope you are fine!\")\n",
        "file.close()\n",
        "print (\"File opened successfully!!\")"
      ],
      "metadata": {
        "colab": {
          "base_uri": "https://localhost:8080/"
        },
        "id": "0tY8BqI6lWrB",
        "outputId": "6e508021-c388-42a6-88fa-da2e1d4914de"
      },
      "execution_count": 7,
      "outputs": [
        {
          "output_type": "stream",
          "name": "stdout",
          "text": [
            "File opened successfully!!\n"
          ]
        }
      ]
    },
    {
      "cell_type": "code",
      "source": [
        "file=open(\"example.txt\",\"r\")\n",
        "content=file.read()\n",
        "print(content)"
      ],
      "metadata": {
        "colab": {
          "base_uri": "https://localhost:8080/"
        },
        "id": "DdhI_FwDlh6d",
        "outputId": "ad56bade-5a40-4ea2-d0e7-e611ca5a648c"
      },
      "execution_count": 8,
      "outputs": [
        {
          "output_type": "stream",
          "name": "stdout",
          "text": [
            "Hello, World!Hi I am Chitwan. Hope you are fine!\n",
            "Hi I am Chitwan. Hope you are fine!\n"
          ]
        }
      ]
    },
    {
      "cell_type": "markdown",
      "source": [
        "writelines() is used to write multiple lines at once and readlines() is used to read multiple lines."
      ],
      "metadata": {
        "id": "VP3ApSPZogMb"
      }
    },
    {
      "cell_type": "code",
      "source": [
        "lines=[\"First Line\\n\",\"Second Line\\n\",\"Third Line\\n\"]\n",
        "\n",
        "with open(\"example.txt\",\"w\") as file:\n",
        "  file.writelines(lines)\n",
        "  print(\"File opened successfully!!\")"
      ],
      "metadata": {
        "colab": {
          "base_uri": "https://localhost:8080/"
        },
        "id": "pVDqLueylj12",
        "outputId": "56e1ca8d-6b15-40da-be72-c5a5c9afe880"
      },
      "execution_count": 11,
      "outputs": [
        {
          "output_type": "stream",
          "name": "stdout",
          "text": [
            "File opened successfully!!\n"
          ]
        }
      ]
    },
    {
      "cell_type": "code",
      "source": [
        "file=open(\"example.txt\",\"r\")\n",
        "content=file.read()\n",
        "print(content)"
      ],
      "metadata": {
        "colab": {
          "base_uri": "https://localhost:8080/"
        },
        "id": "ory_tn3WmAyT",
        "outputId": "a4a88cc5-2688-4bf8-91d7-6da4b90597c1"
      },
      "execution_count": 12,
      "outputs": [
        {
          "output_type": "stream",
          "name": "stdout",
          "text": [
            "First Line\n",
            "Second Line\n",
            "Third Line\n",
            "\n"
          ]
        }
      ]
    },
    {
      "cell_type": "code",
      "source": [
        "# Open the file in read mode\n",
        "file = open('example.txt', 'r')\n",
        "\n",
        "# Read the first line of the file\n",
        "line = file.readline()\n",
        "\n",
        "# Print the line\n",
        "print(line)\n",
        "\n",
        "# Close the file\n",
        "file.close()"
      ],
      "metadata": {
        "colab": {
          "base_uri": "https://localhost:8080/"
        },
        "id": "mGnxhmqOmKih",
        "outputId": "a2e0bbdf-7bab-4f88-b44a-75fd3ffc724d"
      },
      "execution_count": 13,
      "outputs": [
        {
          "output_type": "stream",
          "name": "stdout",
          "text": [
            "First Line\n",
            "\n"
          ]
        }
      ]
    },
    {
      "cell_type": "code",
      "source": [
        "with open(\"example.txt\",\"r\") as file:\n",
        "  lines=file.readlines()\n",
        "  for line in lines:\n",
        "    print(line,end='')"
      ],
      "metadata": {
        "colab": {
          "base_uri": "https://localhost:8080/"
        },
        "id": "69Nco6j6mhUR",
        "outputId": "4dbb15b3-e855-471d-a0ea-d35cd456e474"
      },
      "execution_count": 17,
      "outputs": [
        {
          "output_type": "stream",
          "name": "stdout",
          "text": [
            "First Line\n",
            "Second Line\n",
            "Third Line\n"
          ]
        }
      ]
    },
    {
      "cell_type": "markdown",
      "source": [
        "Renaming and removing file"
      ],
      "metadata": {
        "id": "V9w3AzsqorIw"
      }
    },
    {
      "cell_type": "code",
      "source": [
        "import os\n",
        "current_name=\"example.txt\"\n",
        "new_name=\"myfile.txt\"\n",
        "os.rename(current_name,new_name)\n",
        "print(f\"File '{current_name}' renamed to '{new_name}' successfully.\")"
      ],
      "metadata": {
        "id": "I6TQgMoimvzU"
      },
      "execution_count": 19,
      "outputs": []
    },
    {
      "cell_type": "code",
      "source": [
        "os.remove(\"myfile.txt\")\n",
        "print(\"File 'myfile.txt' deleted successfully.\")"
      ],
      "metadata": {
        "colab": {
          "base_uri": "https://localhost:8080/"
        },
        "id": "iFmALLCxnF8c",
        "outputId": "b081b550-ac79-4e7c-b065-962e1c868205"
      },
      "execution_count": 22,
      "outputs": [
        {
          "output_type": "stream",
          "name": "stdout",
          "text": [
            "File 'myfile.txt' deleted successfully.\n"
          ]
        }
      ]
    },
    {
      "cell_type": "code",
      "source": [],
      "metadata": {
        "id": "ZIqwRVmnn7oL"
      },
      "execution_count": null,
      "outputs": []
    }
  ]
}